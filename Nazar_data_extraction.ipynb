{
 "cells": [
  {
   "cell_type": "markdown",
   "metadata": {},
   "source": [
    "Data Extraction of Spider-Man: No Way Home"
   ]
  },
  {
   "cell_type": "code",
   "execution_count": 55,
   "metadata": {},
   "outputs": [],
   "source": [
    "\n",
    "from bs4 import BeautifulSoup\n",
    "import requests\n",
    "import re"
   ]
  },
  {
   "cell_type": "code",
   "execution_count": 56,
   "metadata": {},
   "outputs": [
    {
     "data": {
      "text/plain": [
       "<Response [200]>"
      ]
     },
     "execution_count": 56,
     "metadata": {},
     "output_type": "execute_result"
    }
   ],
   "source": [
    "url = 'https://www.rottentomatoes.com/m/spider_man_no_way_home'\n",
    "page = requests.get(url)\n",
    "page"
   ]
  },
  {
   "cell_type": "code",
   "execution_count": 87,
   "metadata": {},
   "outputs": [],
   "source": [
    "soup = BeautifulSoup(page.text,'html')\n"
   ]
  },
  {
   "cell_type": "code",
   "execution_count": 58,
   "metadata": {},
   "outputs": [
    {
     "name": "stdout",
     "output_type": "stream",
     "text": [
      "Director: Jon Watts\n"
     ]
    }
   ],
   "source": [
    "director = soup.find('a',href= \"/celebrity/jon_watts\")\n",
    "print(f'Director: {director.text.strip()}')\n",
    "\n"
   ]
  },
  {
   "cell_type": "code",
   "execution_count": 59,
   "metadata": {},
   "outputs": [
    {
     "name": "stdout",
     "output_type": "stream",
     "text": [
      "Release Data: Dec 17, 2021\n"
     ]
    }
   ],
   "source": [
    "release_data = soup.find('time')\n",
    "print(f'Release Data: {release_data.text.strip()}')"
   ]
  },
  {
   "cell_type": "code",
   "execution_count": 60,
   "metadata": {},
   "outputs": [
    {
     "name": "stdout",
     "output_type": "stream",
     "text": [
      "Genre: \n",
      "                            \n",
      "                            Action, \n",
      "                            \n",
      "                            Adventure, \n",
      "                            \n",
      "                            Fantasy, \n",
      "                            \n",
      "                            Comedy\n",
      "                            \n",
      "                        \n"
     ]
    }
   ],
   "source": [
    "genre = soup.find('span', class_ = \"genre\")\n",
    "print(f'Genre: {genre.text}')"
   ]
  },
  {
   "cell_type": "code",
   "execution_count": 66,
   "metadata": {},
   "outputs": [
    {
     "name": "stdout",
     "output_type": "stream",
     "text": [
      "[]\n"
     ]
    }
   ],
   "source": [
    "#<span class=\"percentage\" data-qa=\"tomatometer\">93%</span>\n",
    "#<span class=\"percentage\" data-qa=\"audience-score\">98%</span>\n",
    "rating = soup.find_all('span', class_ = 'percentage')\n",
    "print(rating)\n",
    "# Мав утворитися список що найменше з двох елементів 93% та 98%, але не зрозуміло чому  ці елементи не були знайдені"
   ]
  },
  {
   "cell_type": "code",
   "execution_count": 74,
   "metadata": {},
   "outputs": [],
   "source": [
    "url_2 = 'https://www.filmaffinity.com/en/film491812.html'\n",
    "\n",
    "page_2 = requests.get(url_2)\n",
    "soup_2 = BeautifulSoup(page_2.text, 'html')"
   ]
  },
  {
   "cell_type": "markdown",
   "metadata": {},
   "source": []
  },
  {
   "cell_type": "code",
   "execution_count": 76,
   "metadata": {},
   "outputs": [
    {
     "name": "stdout",
     "output_type": "stream",
     "text": [
      "Rating: 7.0\n"
     ]
    }
   ],
   "source": [
    "rating = soup_2.find('div', id = \"movie-rat-avg\")\n",
    "print(f'Rating: {rating.text.strip()}')\n"
   ]
  },
  {
   "cell_type": "code",
   "execution_count": 86,
   "metadata": {},
   "outputs": [
    {
     "name": "stdout",
     "output_type": "stream",
     "text": [
      "Critics review: \"Slow-starting but eventually innovative, exciting, funny and heart-tugging (...) Holland remains the best of the cinematic Spider-Men (...) Rating: ★★★ (out of 4)\"\n"
     ]
    }
   ],
   "source": [
    "# Additional data\n",
    "critics_review = soup_2.find('div', itemprop = 'reviewBody')\n",
    "print(f'Critics review: {critics_review.text.strip()}')"
   ]
  },
  {
   "cell_type": "code",
   "execution_count": null,
   "metadata": {},
   "outputs": [],
   "source": []
  }
 ],
 "metadata": {
  "kernelspec": {
   "display_name": "Python 3",
   "language": "python",
   "name": "python3"
  },
  "language_info": {
   "codemirror_mode": {
    "name": "ipython",
    "version": 3
   },
   "file_extension": ".py",
   "mimetype": "text/x-python",
   "name": "python",
   "nbconvert_exporter": "python",
   "pygments_lexer": "ipython3",
   "version": "3.11.0"
  }
 },
 "nbformat": 4,
 "nbformat_minor": 2
}
