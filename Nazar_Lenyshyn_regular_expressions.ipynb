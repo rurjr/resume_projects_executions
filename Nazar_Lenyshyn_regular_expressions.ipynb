{
 "cells": [
  {
   "cell_type": "markdown",
   "metadata": {},
   "source": [
    "Task 1.1\n"
   ]
  },
  {
   "cell_type": "code",
   "execution_count": 13,
   "metadata": {},
   "outputs": [
    {
     "name": "stdout",
     "output_type": "stream",
     "text": [
      "jfdklfjklajk____jfklsklfjf238203829389084jdflkjkl\n"
     ]
    }
   ],
   "source": [
    "\n",
    "#remove all special(non alphanumeric) characters from a sting\n",
    "import re\n",
    "text = 'jfdklfjklajk____jfklsklfjf23820382------9389084jdflkjkl*#*(*$*(#$*#))'\n",
    "list_of_filtered_characters = re.findall(r\"\\w+\",text)   # as a result we have list of all valid characters\n",
    "filtered_text = ''  \n",
    "for i in list_of_filtered_characters:               # iterate our list of valid characters to concatenate elements(to have filtered text no just filtered characters)\n",
    "    filtered_text += i                       \n",
    "print(filtered_text)"
   ]
  },
  {
   "cell_type": "markdown",
   "metadata": {},
   "source": [
    "Task 1.2\n"
   ]
  },
  {
   "cell_type": "code",
   "execution_count": 42,
   "metadata": {},
   "outputs": [
    {
     "name": "stdout",
     "output_type": "stream",
     "text": [
      "[]\n",
      "[]\n",
      "['messaging', 'is', 'composing', 'messages', 'consisting', 'characters']\n",
      "messaging\n"
     ]
    }
   ],
   "source": [
    "#mathc a word that contais a given character()\n",
    "import re\n",
    "text = 'OFF Text messaging, or texting, is the act of composing and sending electronic messages, typically consisting of alphabetic and numeric characters'\n",
    "def filtered_word(text):\n",
    "    matched_character_first_capital = re.findall(r\"^S\\w{0,}\",text)\n",
    "    matched_character_first_lower = re.findall(\"^s\\w{0,}\",text)\n",
    "    matched_character_first_lower_inside = re.findall(r\"[a-zA-Z]\\w{0,}s\\w{0,}\",text)\n",
    "    print(matched_character_first_capital)\n",
    "    print(matched_character_first_lower)\n",
    "    print(matched_character_first_lower_inside)\n",
    "    if len(matched_character_first_capital) != 0:\n",
    "        return matched_character_first_capital[0]\n",
    "    elif len(matched_character_first_capital) == 0 and len(matched_character_first_lower) != 0:\n",
    "        return matched_character_first_lower[0]\n",
    "    elif len(matched_character_first_capital) == 0 and len(matched_character_first_lower) == 0 and len(matched_character_first_lower_inside) != 0:\n",
    "        return matched_character_first_lower_inside[0]\n",
    "    else:\n",
    "        return None\n",
    "    \n",
    "result = filtered_word(text)\n",
    "print(result)\n",
    "    \n",
    "# Пояснення\n",
    "# Розглянемо всі можливі розташування потірбної нам букви у слові\n",
    "# 1. На початку слова з великої букви, для цього створена змінна matched_character_first_capital і re який шукає \n",
    "# всі слова у тексті які починаються з потрібної нам великої літери і мають пілся себе 0 або більше букв\n",
    "# 2. На початку слова з малої букви, для цього створена змінна matched_character_first_lower і re який шукає \n",
    "# всі слова у тексті які починаються з потрібної нам великої літери і мають пілся себе 0 або більше букв\n",
    "# 3. Потрібна нам буква всередені слова б для цього створено matched_character_first_lower_inside і re \n",
    "#який відбирає всі слова які починаються з усіх можливих літер(великого та малого регістру) які можуть мати на другому\n",
    "# місці якісь не потрібні нам букви а можуть і не мати  але після них повинна бути потрібна нам а за нею вже\n",
    "# можуть бути ще якісь а можуть і не бути\n",
    "# findall()  використовувався для зручності виводу кінцевого слова, оскільки findall  повертає усі підходящі\n",
    "# eлемети списком а не обєктом як це робить search чи match\n",
    "#далі все просто, маючи 3 списки перевіряємо довжину списку 1, якщо вона не нульова то відповідь буде його перший елемент\n",
    "# якщо довжина 1 нульва а 2 не нульова то результатом буде перший елемент списку 2\n",
    "# якщо довжина 1,2 == 0 то рузльтатом буде перший елемент списку 3\n",
    "# якщо 1,2,3 == 0  то потрібного слова немає\n",
    "# як задати потрібну букву через змінну нажаль не знаю\n",
    "\n",
    "\n",
    "    \n",
    "    \n",
    "\n",
    "\n",
    "    "
   ]
  },
  {
   "cell_type": "markdown",
   "metadata": {},
   "source": [
    "Task 1.2\n",
    "mathc a word that is n characters long\n",
    "\n"
   ]
  },
  {
   "cell_type": "code",
   "execution_count": 59,
   "metadata": {},
   "outputs": [
    {
     "name": "stdout",
     "output_type": "stream",
     "text": [
      "['aaa,a4', 'bbb', 'cc', 'ddddf', 'fffff']\n",
      "aaa,a4\n"
     ]
    }
   ],
   "source": [
    "import re\n",
    "text = 'aaa,a4: bbb,,,,,,, cc ddddf fffff'\n",
    "def len_of_the_word(text,n):\n",
    "    filtered_text = re.split(r'[\\W]{0,}? ',text)\n",
    "    print(filtered_text)\n",
    "    for word in filtered_text:\n",
    "        if len(word) == n:\n",
    "            return word\n",
    "        \n",
    "result = len_of_the_word(text,6)\n",
    "print(result)\n",
    "\n",
    "#Поянення\n",
    "# В першу чергу розбили наш текст по можливим спецефічним символам(вони можуть бути а можуть і не бути для цього використано [набір можливих символів]?) пробілу для того щоб мати доступ до кожного слова()\n",
    "# Далі все просто, пройшлися по кожному елементу через цикли і наклали умову якщо довжина слова дорінює вказаній повертаєм дане слово\n",
    "\n",
    "#r'[\\W]{0,}? ' - означає що я хочу розділяти по можлвичиї спецефічних non-alphabetical characters і їх може бути від 0 до ... (для цього написав[\\W{0,}]) і пробіл, а взагалі цього иоже і не бути тому і поставив ?\n",
    "\n",
    "# + якщо задане слово де є пунткуація по середині слова без пробіла то це також вважається словом( оскільки зазвичай слова після слова в не залежнгсті від прутності пунктуації присутній пробіл).\n"
   ]
  },
  {
   "cell_type": "markdown",
   "metadata": {},
   "source": [
    "Tesk 1.3 match a word that begins with \"a\" OR \"b\" and ends with \"s\""
   ]
  },
  {
   "cell_type": "markdown",
   "metadata": {},
   "source": []
  },
  {
   "cell_type": "code",
   "execution_count": 69,
   "metadata": {},
   "outputs": [
    {
     "name": "stdout",
     "output_type": "stream",
     "text": [
      "['apples', 'bananas']\n"
     ]
    }
   ],
   "source": [
    "import re\n",
    "text = 'apples bananas kjdklfjdfljljs ajfkldjldjflS bjfkldjfjdlfj'\n",
    "filter_word = re.findall(r'[ab]\\w{0,}s',text)\n",
    "print(filter_word)\n",
    "#Пояснення\n",
    "#нам потрібні слова які починаються з a,b для цього використали [ab] , \\w{0,} вказали тому що після першиї букв в слова ми маємо ще якусь певну кількість іншиз букв( 0 або більше) і s як закінчення\n",
    "# findall() викростаниї для зручності бо виводить результат у вигляді списку а не обєкту + показує усі співпадіння,а якщо потрібно лишень перше, не проблема виводим через filtered_word[0]\n",
    "#\n"
   ]
  },
  {
   "cell_type": "markdown",
   "metadata": {},
   "source": [
    "Task 2. Write a program that will\n",
    "a. collect all monetary amounts from a given text\n",
    "b. convert these to float numbers\n",
    "c. sum them"
   ]
  },
  {
   "cell_type": "code",
   "execution_count": 98,
   "metadata": {},
   "outputs": [
    {
     "name": "stdout",
     "output_type": "stream",
     "text": [
      "['123.45', '4000']\n",
      "[123.45, 4000.0]\n",
      "4123.45\n"
     ]
    }
   ],
   "source": [
    "import re\n",
    "text = 'first amount is $123.45,second amount is $4000'\n",
    "filtered_text = re.findall(r\"\\d{1,}[.,/:]?\\d{0,}\",text)   # каже що хочемо щоб починалося з числа \\d одного або більше {1,} також якщо це не ціле число то може бути .,/:  ну зазвичай лишень . але зайвим не буде , але число може бути і цілим тому слід додадти ? , тобото ось так [можливі варімнти розподілу як ми позначаєм не ціле число]?  і ще певна кількість чисел або немає \\d{0,}\n",
    "filtered_text_float = [float(i) for i in filtered_text]   # звичайни list comprehension\n",
    "summ = lambda list_filtered_text_float: sum(list_filtered_text_float)   # звичайна lambda function\n",
    "print(filter_text)\n",
    "print(filtered_text_float)\n",
    "print(summ(filtered_text_float))"
   ]
  },
  {
   "cell_type": "markdown",
   "metadata": {},
   "source": [
    "Task 3."
   ]
  },
  {
   "cell_type": "markdown",
   "metadata": {},
   "source": []
  },
  {
   "cell_type": "code",
   "execution_count": 116,
   "metadata": {},
   "outputs": [
    {
     "name": "stdout",
     "output_type": "stream",
     "text": [
      "['hello', 'bob']\n",
      "Text:\n",
      " \thello\n",
      "bob\n",
      "Filtered text: hello bob \n"
     ]
    }
   ],
   "source": [
    "import re\n",
    "text = '\\thello\\nbob'\n",
    "filtered_text_list = re.findall(r'\\S\\w{1,}\\S',text)\n",
    "print(filtered_text_list)\n",
    "filtered_text = ''\n",
    "for i in  filtered_text_list:\n",
    "    filtered_text += f'{i} '\n",
    "print('Text:\\n',text)\n",
    "print('Filtered text:',filtered_text)\n",
    "    \n"
   ]
  },
  {
   "cell_type": "markdown",
   "metadata": {},
   "source": [
    "Task 4. Write a program that will conver dates in \"tttt-mm-dd\" fromat to \"\"dd-mm-yyyy\" format\n"
   ]
  },
  {
   "cell_type": "code",
   "execution_count": 136,
   "metadata": {},
   "outputs": [
    {
     "name": "stdout",
     "output_type": "stream",
     "text": [
      "2024-02-11    1978-03-01  2003-02-05 05-02-2005\n",
      "11-02-2024 01-03-1978 05-02-2003 2005-02-05\n"
     ]
    }
   ],
   "source": [
    "import re\n",
    "text = '2024-02-11    1978-03-01  2003-02-05 05-02-2005'\n",
    "\n",
    "\n",
    "def convert(text):\n",
    "    list_with_converted_dates = [] \n",
    "    converted_date = ''\n",
    "    sep_dates = re.split(r'[ ]{1,}',text) # ділимо текс на список дат щоб окремо працювати з кожно.\n",
    "    for date in sep_dates:  # отриуєм доступ з листа до кожного елемента по черзі\n",
    "        sep_date = re.split(r'-',date) # сплітуєм кожен елемент по -\n",
    "        sep_date_reversed = sep_date[::-1] # просто розвертаємо всі елементи розділеного по - списку\n",
    "        text_sep_date = '-'.join(sep_date_reversed) # cклюємо назад вже розвернуту дату\n",
    "        list_with_converted_dates.append(text_sep_date) # вертаємо окрему вже розрернуту дату в новий загальний список дат\n",
    "    convert_text = ' '.join(list_with_converted_dates) #  склеюємо назад новий список дат у текст з пробілом\n",
    "    print(convert_text)\n",
    "        \n",
    "print(text)  \n",
    "convert(text)\n",
    "    "
   ]
  },
  {
   "cell_type": "markdown",
   "metadata": {},
   "source": []
  },
  {
   "cell_type": "markdown",
   "metadata": {},
   "source": []
  },
  {
   "cell_type": "markdown",
   "metadata": {},
   "source": []
  },
  {
   "cell_type": "markdown",
   "metadata": {},
   "source": []
  }
 ],
 "metadata": {
  "kernelspec": {
   "display_name": "Python 3",
   "language": "python",
   "name": "python3"
  },
  "language_info": {
   "codemirror_mode": {
    "name": "ipython",
    "version": 3
   },
   "file_extension": ".py",
   "mimetype": "text/x-python",
   "name": "python",
   "nbconvert_exporter": "python",
   "pygments_lexer": "ipython3",
   "version": "3.11.0"
  }
 },
 "nbformat": 4,
 "nbformat_minor": 2
}
