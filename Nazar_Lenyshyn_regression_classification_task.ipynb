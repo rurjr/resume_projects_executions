{
  "cells": [
    {
      "cell_type": "code",
      "source": [
        "import pandas as pd\n",
        "import numpy as np\n",
        "import matplotlib.pyplot as plt\n",
        "import seaborn as sns"
      ],
      "outputs": [],
      "execution_count": 1,
      "metadata": {}
    },
    {
      "cell_type": "code",
      "source": [
        "# Імпортуєм потрібний датасет\n",
        "df = pd.read_csv('data.csv')\n",
        "df"
      ],
      "outputs": [
        {
          "output_type": "execute_result",
          "execution_count": 2,
          "data": {
            "text/html": "<div>\n<style scoped>\n    .dataframe tbody tr th:only-of-type {\n        vertical-align: middle;\n    }\n\n    .dataframe tbody tr th {\n        vertical-align: top;\n    }\n\n    .dataframe thead th {\n        text-align: right;\n    }\n</style>\n<table border=\"1\" class=\"dataframe\">\n  <thead>\n    <tr style=\"text-align: right;\">\n      <th></th>\n      <th>loan_amnt</th>\n      <th>int_rate</th>\n      <th>installment</th>\n      <th>grade</th>\n      <th>emp_length</th>\n      <th>home_ownership</th>\n      <th>annual_inc</th>\n      <th>loan_status</th>\n      <th>dti</th>\n      <th>delinq_2yrs</th>\n      <th>...</th>\n      <th>total_rec_late_fee</th>\n      <th>recoveries</th>\n      <th>collection_recovery_fee</th>\n      <th>last_pymnt_amnt</th>\n      <th>collections_12_mths_ex_med</th>\n      <th>application_type</th>\n      <th>acc_now_delinq</th>\n      <th>tot_coll_amt</th>\n      <th>tot_cur_bal</th>\n      <th>total_rev_hi_lim</th>\n    </tr>\n  </thead>\n  <tbody>\n    <tr>\n      <th>0</th>\n      <td>24000</td>\n      <td>10.49</td>\n      <td>779.95</td>\n      <td>B</td>\n      <td>3 years</td>\n      <td>MORTGAGE</td>\n      <td>89000.0</td>\n      <td>Fully Paid</td>\n      <td>21.12</td>\n      <td>1.0</td>\n      <td>...</td>\n      <td>78.0</td>\n      <td>0.00</td>\n      <td>0.000</td>\n      <td>16901.45</td>\n      <td>1.0</td>\n      <td>Individual</td>\n      <td>0.0</td>\n      <td>0.0</td>\n      <td>70116.0</td>\n      <td>43670.0</td>\n    </tr>\n    <tr>\n      <th>1</th>\n      <td>15000</td>\n      <td>21.49</td>\n      <td>409.95</td>\n      <td>D</td>\n      <td>NaN</td>\n      <td>RENT</td>\n      <td>38251.2</td>\n      <td>Charged Off</td>\n      <td>30.98</td>\n      <td>0.0</td>\n      <td>...</td>\n      <td>0.0</td>\n      <td>1614.60</td>\n      <td>145.314</td>\n      <td>409.95</td>\n      <td>1.0</td>\n      <td>Individual</td>\n      <td>0.0</td>\n      <td>273.0</td>\n      <td>31306.0</td>\n      <td>21600.0</td>\n    </tr>\n    <tr>\n      <th>2</th>\n      <td>24000</td>\n      <td>6.97</td>\n      <td>740.73</td>\n      <td>A</td>\n      <td>2 years</td>\n      <td>MORTGAGE</td>\n      <td>92000.0</td>\n      <td>Fully Paid</td>\n      <td>16.57</td>\n      <td>0.0</td>\n      <td>...</td>\n      <td>0.0</td>\n      <td>0.00</td>\n      <td>0.000</td>\n      <td>12074.88</td>\n      <td>0.0</td>\n      <td>Individual</td>\n      <td>0.0</td>\n      <td>0.0</td>\n      <td>196318.0</td>\n      <td>68900.0</td>\n    </tr>\n    <tr>\n      <th>3</th>\n      <td>6500</td>\n      <td>19.22</td>\n      <td>238.99</td>\n      <td>D</td>\n      <td>4 years</td>\n      <td>MORTGAGE</td>\n      <td>25000.0</td>\n      <td>Charged Off</td>\n      <td>9.70</td>\n      <td>0.0</td>\n      <td>...</td>\n      <td>15.0</td>\n      <td>127.05</td>\n      <td>22.869</td>\n      <td>238.99</td>\n      <td>0.0</td>\n      <td>Individual</td>\n      <td>0.0</td>\n      <td>0.0</td>\n      <td>6848.0</td>\n      <td>16700.0</td>\n    </tr>\n    <tr>\n      <th>4</th>\n      <td>20000</td>\n      <td>11.22</td>\n      <td>656.86</td>\n      <td>B</td>\n      <td>10+ years</td>\n      <td>OWN</td>\n      <td>58000.0</td>\n      <td>Fully Paid</td>\n      <td>16.59</td>\n      <td>0.0</td>\n      <td>...</td>\n      <td>0.0</td>\n      <td>0.00</td>\n      <td>0.000</td>\n      <td>20101.30</td>\n      <td>0.0</td>\n      <td>Individual</td>\n      <td>0.0</td>\n      <td>0.0</td>\n      <td>426287.0</td>\n      <td>26100.0</td>\n    </tr>\n    <tr>\n      <th>...</th>\n      <td>...</td>\n      <td>...</td>\n      <td>...</td>\n      <td>...</td>\n      <td>...</td>\n      <td>...</td>\n      <td>...</td>\n      <td>...</td>\n      <td>...</td>\n      <td>...</td>\n      <td>...</td>\n      <td>...</td>\n      <td>...</td>\n      <td>...</td>\n      <td>...</td>\n      <td>...</td>\n      <td>...</td>\n      <td>...</td>\n      <td>...</td>\n      <td>...</td>\n      <td>...</td>\n    </tr>\n    <tr>\n      <th>19495</th>\n      <td>26000</td>\n      <td>14.08</td>\n      <td>606.06</td>\n      <td>C</td>\n      <td>10+ years</td>\n      <td>MORTGAGE</td>\n      <td>80000.0</td>\n      <td>Fully Paid</td>\n      <td>8.62</td>\n      <td>0.0</td>\n      <td>...</td>\n      <td>0.0</td>\n      <td>0.00</td>\n      <td>0.000</td>\n      <td>26244.05</td>\n      <td>0.0</td>\n      <td>Individual</td>\n      <td>0.0</td>\n      <td>4812.0</td>\n      <td>110260.0</td>\n      <td>20600.0</td>\n    </tr>\n    <tr>\n      <th>19496</th>\n      <td>3000</td>\n      <td>12.74</td>\n      <td>100.71</td>\n      <td>C</td>\n      <td>10+ years</td>\n      <td>MORTGAGE</td>\n      <td>109000.0</td>\n      <td>Fully Paid</td>\n      <td>34.29</td>\n      <td>1.0</td>\n      <td>...</td>\n      <td>0.0</td>\n      <td>0.00</td>\n      <td>0.000</td>\n      <td>2978.46</td>\n      <td>0.0</td>\n      <td>Individual</td>\n      <td>0.0</td>\n      <td>0.0</td>\n      <td>260585.0</td>\n      <td>46600.0</td>\n    </tr>\n    <tr>\n      <th>19497</th>\n      <td>17000</td>\n      <td>11.12</td>\n      <td>557.53</td>\n      <td>B</td>\n      <td>7 years</td>\n      <td>MORTGAGE</td>\n      <td>75000.0</td>\n      <td>Fully Paid</td>\n      <td>20.77</td>\n      <td>0.0</td>\n      <td>...</td>\n      <td>0.0</td>\n      <td>0.00</td>\n      <td>0.000</td>\n      <td>2785.60</td>\n      <td>0.0</td>\n      <td>Individual</td>\n      <td>0.0</td>\n      <td>NaN</td>\n      <td>NaN</td>\n      <td>NaN</td>\n    </tr>\n    <tr>\n      <th>19498</th>\n      <td>30000</td>\n      <td>8.18</td>\n      <td>942.59</td>\n      <td>B</td>\n      <td>7 years</td>\n      <td>RENT</td>\n      <td>175000.0</td>\n      <td>Fully Paid</td>\n      <td>7.19</td>\n      <td>2.0</td>\n      <td>...</td>\n      <td>0.0</td>\n      <td>0.00</td>\n      <td>0.000</td>\n      <td>3.80</td>\n      <td>0.0</td>\n      <td>Individual</td>\n      <td>0.0</td>\n      <td>0.0</td>\n      <td>88348.0</td>\n      <td>48000.0</td>\n    </tr>\n    <tr>\n      <th>19499</th>\n      <td>2000</td>\n      <td>11.99</td>\n      <td>66.42</td>\n      <td>C</td>\n      <td>&lt; 1 year</td>\n      <td>RENT</td>\n      <td>41000.0</td>\n      <td>Fully Paid</td>\n      <td>13.60</td>\n      <td>1.0</td>\n      <td>...</td>\n      <td>0.0</td>\n      <td>0.00</td>\n      <td>0.000</td>\n      <td>1978.17</td>\n      <td>0.0</td>\n      <td>Individual</td>\n      <td>0.0</td>\n      <td>0.0</td>\n      <td>18342.0</td>\n      <td>33400.0</td>\n    </tr>\n  </tbody>\n</table>\n<p>19500 rows × 31 columns</p>\n</div>",
            "text/plain": "       loan_amnt  int_rate  installment grade emp_length home_ownership  \\\n0          24000     10.49       779.95     B    3 years       MORTGAGE   \n1          15000     21.49       409.95     D        NaN           RENT   \n2          24000      6.97       740.73     A    2 years       MORTGAGE   \n3           6500     19.22       238.99     D    4 years       MORTGAGE   \n4          20000     11.22       656.86     B  10+ years            OWN   \n...          ...       ...          ...   ...        ...            ...   \n19495      26000     14.08       606.06     C  10+ years       MORTGAGE   \n19496       3000     12.74       100.71     C  10+ years       MORTGAGE   \n19497      17000     11.12       557.53     B    7 years       MORTGAGE   \n19498      30000      8.18       942.59     B    7 years           RENT   \n19499       2000     11.99        66.42     C   < 1 year           RENT   \n\n       annual_inc  loan_status    dti  delinq_2yrs  ...  total_rec_late_fee  \\\n0         89000.0   Fully Paid  21.12          1.0  ...                78.0   \n1         38251.2  Charged Off  30.98          0.0  ...                 0.0   \n2         92000.0   Fully Paid  16.57          0.0  ...                 0.0   \n3         25000.0  Charged Off   9.70          0.0  ...                15.0   \n4         58000.0   Fully Paid  16.59          0.0  ...                 0.0   \n...           ...          ...    ...          ...  ...                 ...   \n19495     80000.0   Fully Paid   8.62          0.0  ...                 0.0   \n19496    109000.0   Fully Paid  34.29          1.0  ...                 0.0   \n19497     75000.0   Fully Paid  20.77          0.0  ...                 0.0   \n19498    175000.0   Fully Paid   7.19          2.0  ...                 0.0   \n19499     41000.0   Fully Paid  13.60          1.0  ...                 0.0   \n\n       recoveries  collection_recovery_fee  last_pymnt_amnt  \\\n0            0.00                    0.000         16901.45   \n1         1614.60                  145.314           409.95   \n2            0.00                    0.000         12074.88   \n3          127.05                   22.869           238.99   \n4            0.00                    0.000         20101.30   \n...           ...                      ...              ...   \n19495        0.00                    0.000         26244.05   \n19496        0.00                    0.000          2978.46   \n19497        0.00                    0.000          2785.60   \n19498        0.00                    0.000             3.80   \n19499        0.00                    0.000          1978.17   \n\n       collections_12_mths_ex_med  application_type  acc_now_delinq  \\\n0                             1.0        Individual             0.0   \n1                             1.0        Individual             0.0   \n2                             0.0        Individual             0.0   \n3                             0.0        Individual             0.0   \n4                             0.0        Individual             0.0   \n...                           ...               ...             ...   \n19495                         0.0        Individual             0.0   \n19496                         0.0        Individual             0.0   \n19497                         0.0        Individual             0.0   \n19498                         0.0        Individual             0.0   \n19499                         0.0        Individual             0.0   \n\n       tot_coll_amt  tot_cur_bal  total_rev_hi_lim  \n0               0.0      70116.0           43670.0  \n1             273.0      31306.0           21600.0  \n2               0.0     196318.0           68900.0  \n3               0.0       6848.0           16700.0  \n4               0.0     426287.0           26100.0  \n...             ...          ...               ...  \n19495        4812.0     110260.0           20600.0  \n19496           0.0     260585.0           46600.0  \n19497           NaN          NaN               NaN  \n19498           0.0      88348.0           48000.0  \n19499           0.0      18342.0           33400.0  \n\n[19500 rows x 31 columns]"
          },
          "metadata": {}
        }
      ],
      "execution_count": 2,
      "metadata": {}
    },
    {
      "cell_type": "code",
      "source": [
        "# Інформація про дата сет\n",
        "df.info()"
      ],
      "outputs": [
        {
          "output_type": "stream",
          "name": "stdout",
          "text": "<class 'pandas.core.frame.DataFrame'>\nRangeIndex: 19500 entries, 0 to 19499\nData columns (total 31 columns):\n #   Column                      Non-Null Count  Dtype  \n---  ------                      --------------  -----  \n 0   loan_amnt                   19500 non-null  int64  \n 1   int_rate                    19500 non-null  float64\n 2   installment                 19500 non-null  float64\n 3   grade                       19500 non-null  object \n 4   emp_length                  18281 non-null  object \n 5   home_ownership              19500 non-null  object \n 6   annual_inc                  19500 non-null  float64\n 7   loan_status                 19500 non-null  object \n 8   dti                         19495 non-null  float64\n 9   delinq_2yrs                 19500 non-null  float64\n 10  inq_last_6mths              19500 non-null  float64\n 11  mths_since_last_delinq      9868 non-null   float64\n 12  open_acc                    19500 non-null  float64\n 13  pub_rec                     19500 non-null  float64\n 14  revol_bal                   19500 non-null  int64  \n 15  revol_util                  19486 non-null  float64\n 16  total_acc                   19500 non-null  float64\n 17  total_pymnt                 19500 non-null  float64\n 18  total_pymnt_inv             19500 non-null  float64\n 19  total_rec_prncp             19500 non-null  float64\n 20  total_rec_int               19500 non-null  float64\n 21  total_rec_late_fee          19500 non-null  float64\n 22  recoveries                  19500 non-null  float64\n 23  collection_recovery_fee     19500 non-null  float64\n 24  last_pymnt_amnt             19500 non-null  float64\n 25  collections_12_mths_ex_med  19500 non-null  float64\n 26  application_type            19500 non-null  object \n 27  acc_now_delinq              19500 non-null  float64\n 28  tot_coll_amt                18630 non-null  float64\n 29  tot_cur_bal                 18630 non-null  float64\n 30  total_rev_hi_lim            18630 non-null  float64\ndtypes: float64(24), int64(2), object(5)\nmemory usage: 4.6+ MB\n"
        }
      ],
      "execution_count": 3,
      "metadata": {}
    },
    {
      "cell_type": "code",
      "source": [
        "# Перевіряємо чи є неповні дані у датасеті\n",
        "df.isna().sum()"
      ],
      "outputs": [
        {
          "output_type": "execute_result",
          "execution_count": 4,
          "data": {
            "text/plain": "loan_amnt                        0\nint_rate                         0\ninstallment                      0\ngrade                            0\nemp_length                    1219\nhome_ownership                   0\nannual_inc                       0\nloan_status                      0\ndti                              5\ndelinq_2yrs                      0\ninq_last_6mths                   0\nmths_since_last_delinq        9632\nopen_acc                         0\npub_rec                          0\nrevol_bal                        0\nrevol_util                      14\ntotal_acc                        0\ntotal_pymnt                      0\ntotal_pymnt_inv                  0\ntotal_rec_prncp                  0\ntotal_rec_int                    0\ntotal_rec_late_fee               0\nrecoveries                       0\ncollection_recovery_fee          0\nlast_pymnt_amnt                  0\ncollections_12_mths_ex_med       0\napplication_type                 0\nacc_now_delinq                   0\ntot_coll_amt                   870\ntot_cur_bal                    870\ntotal_rev_hi_lim               870\ndtype: int64"
          },
          "metadata": {}
        }
      ],
      "execution_count": 4,
      "metadata": {}
    },
    {
      "cell_type": "code",
      "source": [
        "# Розділяєм ознаки на числові і категоріальні\n",
        "text_features = [i for i in df.columns if type(df[i][0]) == str]\n",
        "nums_features = [i for i in df.columns if i not in text_features]"
      ],
      "outputs": [],
      "execution_count": 5,
      "metadata": {}
    },
    {
      "cell_type": "code",
      "source": [
        "# візуалізуємо outliers\n",
        "df.boxplot(figsize=(30,10))"
      ],
      "outputs": [
        {
          "output_type": "execute_result",
          "execution_count": 6,
          "data": {
            "text/plain": "<Axes: >"
          },
          "metadata": {}
        },
        {
          "output_type": "display_data",
          "data": {
            "image/png": "[encoded data removed]",
            "text/plain": "<Figure size 3000x1000 with 1 Axes>"
          },
          "metadata": {}
        }
      ],
      "execution_count": 6,
      "metadata": {}
    },
    {
      "cell_type": "markdown",
      "source": [
        "### Завдання 2"
      ],
      "metadata": {}
    },
    {
      "cell_type": "code",
      "source": [
        "\n",
        "\n",
        "# створюємо цільову змінну\n",
        "loan_stat = [i for i in df['loan_status']]\n",
        "loan_stat_num = []\n",
        "for i in loan_stat:\n",
        "    if i == 'Charged Off':\n",
        "        loan_stat_num.append(1)\n",
        "    else:\n",
        "        loan_stat_num.append(0)\n",
        "    \n",
        "df['y_reg'] = loan_stat_num"
      ],
      "outputs": [],
      "execution_count": 7,
      "metadata": {}
    },
    {
      "cell_type": "code",
      "source": [
        "# Розглянемо кореляцію  цільвої змінної і числових ознак\n",
        "plt.figure(figsize=(25,25))\n",
        "sns.heatmap(df.corr( numeric_only=True ),annot=True,cmap=\"crest\")"
      ],
      "outputs": [
        {
          "output_type": "execute_result",
          "execution_count": 8,
          "data": {
            "text/plain": "<Axes: >"
          },
          "metadata": {}
        }
      ],
      "execution_count": 8,
      "metadata": {}
    },
    {
      "cell_type": "code",
      "source": [
        "sns.scatterplot(x = 'y_reg', y = 'recoveries' , data = df)"
      ],
      "outputs": [
        {
          "output_type": "execute_result",
          "execution_count": 9,
          "data": {
            "text/plain": "<Axes: xlabel='y_reg', ylabel='recoveries'>"
          },
          "metadata": {}
        }
      ],
      "execution_count": 9,
      "metadata": {}
    },
    {
      "cell_type": "code",
      "source": [
        "#розпреділення цільової змінної\n",
        "sns.histplot(df,x='y_reg',color='#abcdef')"
      ],
      "outputs": [
        {
          "output_type": "execute_result",
          "execution_count": 10,
          "data": {
            "text/plain": "<Axes: xlabel='y_reg', ylabel='recoveries'>"
          },
          "metadata": {}
        }
      ],
      "execution_count": 10,
      "metadata": {}
    },
    {
      "cell_type": "code",
      "source": [
        "\n",
        "# Приводим всі колонки дата фрейму до числового вигляду за допомогою OneHotEncoder\n",
        "from sklearn.compose import make_column_transformer\n",
        "from sklearn.preprocessing import OneHotEncoder,OrdinalEncoder\n",
        "\n",
        "\n",
        "columns_ohe = make_column_transformer(\n",
        "    ( OneHotEncoder(handle_unknown='ignore',sparse_output=False) , text_features),\n",
        "    remainder = 'passthrough'\n",
        ").set_output(transform='pandas')\n"
      ],
      "outputs": [],
      "execution_count": 11,
      "metadata": {}
    },
    {
      "cell_type": "code",
      "source": [
        "# Отримуємо навчальну вибірку яка повністю складений з  ознак у числовому вигляді\n",
        "df_ohe = columns_ohe.fit_transform(df)\n",
        "df_ohe = df_ohe.drop(columns=['onehotencoder__home_ownership_ANY','onehotencoder__home_ownership_OTHER',       'onehotencoder__loan_status_Charged Off',\n",
        "       'onehotencoder__loan_status_Fully Paid',\n",
        "       'onehotencoder__loan_status_In Grace Period',\n",
        "       'onehotencoder__loan_status_Late (16-30 days)',\n",
        "       'onehotencoder__loan_status_Late (31-120 days)','remainder__y_reg'])\n",
        "df_ohe\n"
      ],
      "outputs": [
        {
          "output_type": "execute_result",
          "execution_count": 12,
          "data": {
            "text/html": "<div>\n<style scoped>\n    .dataframe tbody tr th:only-of-type {\n        vertical-align: middle;\n    }\n\n    .dataframe tbody tr th {\n        vertical-align: top;\n    }\n\n    .dataframe thead th {\n        text-align: right;\n    }\n</style>\n<table border=\"1\" class=\"dataframe\">\n  <thead>\n    <tr style=\"text-align: right;\">\n      <th></th>\n      <th>onehotencoder__grade_A</th>\n      <th>onehotencoder__grade_B</th>\n      <th>onehotencoder__grade_C</th>\n      <th>onehotencoder__grade_D</th>\n      <th>onehotencoder__grade_E</th>\n      <th>onehotencoder__grade_F</th>\n      <th>onehotencoder__grade_G</th>\n      <th>onehotencoder__emp_length_1 year</th>\n      <th>onehotencoder__emp_length_10+ years</th>\n      <th>onehotencoder__emp_length_2 years</th>\n      <th>...</th>\n      <th>remainder__total_rec_int</th>\n      <th>remainder__total_rec_late_fee</th>\n      <th>remainder__recoveries</th>\n      <th>remainder__collection_recovery_fee</th>\n      <th>remainder__last_pymnt_amnt</th>\n      <th>remainder__collections_12_mths_ex_med</th>\n      <th>remainder__acc_now_delinq</th>\n      <th>remainder__tot_coll_amt</th>\n      <th>remainder__tot_cur_bal</th>\n      <th>remainder__total_rev_hi_lim</th>\n    </tr>\n  </thead>\n  <tbody>\n    <tr>\n      <th>0</th>\n      <td>0.0</td>\n      <td>1.0</td>\n      <td>0.0</td>\n      <td>0.0</td>\n      <td>0.0</td>\n      <td>0.0</td>\n      <td>0.0</td>\n      <td>0.0</td>\n      <td>0.0</td>\n      <td>0.0</td>\n      <td>...</td>\n      <td>3359.33</td>\n      <td>78.0</td>\n      <td>0.00</td>\n      <td>0.000</td>\n      <td>16901.45</td>\n      <td>1.0</td>\n      <td>0.0</td>\n      <td>0.0</td>\n      <td>70116.0</td>\n      <td>43670.0</td>\n    </tr>\n    <tr>\n      <th>1</th>\n      <td>0.0</td>\n      <td>0.0</td>\n      <td>0.0</td>\n      <td>1.0</td>\n      <td>0.0</td>\n      <td>0.0</td>\n      <td>0.0</td>\n      <td>0.0</td>\n      <td>0.0</td>\n      <td>0.0</td>\n      <td>...</td>\n      <td>5302.70</td>\n      <td>0.0</td>\n      <td>1614.60</td>\n      <td>145.314</td>\n      <td>409.95</td>\n      <td>1.0</td>\n      <td>0.0</td>\n      <td>273.0</td>\n      <td>31306.0</td>\n      <td>21600.0</td>\n    </tr>\n    <tr>\n      <th>2</th>\n      <td>1.0</td>\n      <td>0.0</td>\n      <td>0.0</td>\n      <td>0.0</td>\n      <td>0.0</td>\n      <td>0.0</td>\n      <td>0.0</td>\n      <td>0.0</td>\n      <td>0.0</td>\n      <td>1.0</td>\n      <td>...</td>\n      <td>2148.75</td>\n      <td>0.0</td>\n      <td>0.00</td>\n      <td>0.000</td>\n      <td>12074.88</td>\n      <td>0.0</td>\n      <td>0.0</td>\n      <td>0.0</td>\n      <td>196318.0</td>\n      <td>68900.0</td>\n    </tr>\n    <tr>\n      <th>3</th>\n      <td>0.0</td>\n      <td>0.0</td>\n      <td>0.0</td>\n      <td>1.0</td>\n      <td>0.0</td>\n      <td>0.0</td>\n      <td>0.0</td>\n      <td>0.0</td>\n      <td>0.0</td>\n      <td>0.0</td>\n      <td>...</td>\n      <td>2109.37</td>\n      <td>15.0</td>\n      <td>127.05</td>\n      <td>22.869</td>\n      <td>238.99</td>\n      <td>0.0</td>\n      <td>0.0</td>\n      <td>0.0</td>\n      <td>6848.0</td>\n      <td>16700.0</td>\n    </tr>\n    <tr>\n      <th>4</th>\n      <td>0.0</td>\n      <td>1.0</td>\n      <td>0.0</td>\n      <td>0.0</td>\n      <td>0.0</td>\n      <td>0.0</td>\n      <td>0.0</td>\n      <td>0.0</td>\n      <td>1.0</td>\n      <td>0.0</td>\n      <td>...</td>\n      <td>88.83</td>\n      <td>0.0</td>\n      <td>0.00</td>\n      <td>0.000</td>\n      <td>20101.30</td>\n      <td>0.0</td>\n      <td>0.0</td>\n      <td>0.0</td>\n      <td>426287.0</td>\n      <td>26100.0</td>\n    </tr>\n    <tr>\n      <th>...</th>\n      <td>...</td>\n      <td>...</td>\n      <td>...</td>\n      <td>...</td>\n      <td>...</td>\n      <td>...</td>\n      <td>...</td>\n      <td>...</td>\n      <td>...</td>\n      <td>...</td>\n      <td>...</td>\n      <td>...</td>\n      <td>...</td>\n      <td>...</td>\n      <td>...</td>\n      <td>...</td>\n      <td>...</td>\n      <td>...</td>\n      <td>...</td>\n      <td>...</td>\n      <td>...</td>\n    </tr>\n    <tr>\n      <th>19495</th>\n      <td>0.0</td>\n      <td>0.0</td>\n      <td>1.0</td>\n      <td>0.0</td>\n      <td>0.0</td>\n      <td>0.0</td>\n      <td>0.0</td>\n      <td>0.0</td>\n      <td>1.0</td>\n      <td>0.0</td>\n      <td>...</td>\n      <td>223.71</td>\n      <td>0.0</td>\n      <td>0.00</td>\n      <td>0.000</td>\n      <td>26244.05</td>\n      <td>0.0</td>\n      <td>0.0</td>\n      <td>4812.0</td>\n      <td>110260.0</td>\n      <td>20600.0</td>\n    </tr>\n    <tr>\n      <th>19496</th>\n      <td>0.0</td>\n      <td>0.0</td>\n      <td>1.0</td>\n      <td>0.0</td>\n      <td>0.0</td>\n      <td>0.0</td>\n      <td>0.0</td>\n      <td>0.0</td>\n      <td>1.0</td>\n      <td>0.0</td>\n      <td>...</td>\n      <td>77.05</td>\n      <td>0.0</td>\n      <td>0.00</td>\n      <td>0.000</td>\n      <td>2978.46</td>\n      <td>0.0</td>\n      <td>0.0</td>\n      <td>0.0</td>\n      <td>260585.0</td>\n      <td>46600.0</td>\n    </tr>\n    <tr>\n      <th>19497</th>\n      <td>0.0</td>\n      <td>1.0</td>\n      <td>0.0</td>\n      <td>0.0</td>\n      <td>0.0</td>\n      <td>0.0</td>\n      <td>0.0</td>\n      <td>0.0</td>\n      <td>0.0</td>\n      <td>0.0</td>\n      <td>...</td>\n      <td>3020.67</td>\n      <td>0.0</td>\n      <td>0.00</td>\n      <td>0.000</td>\n      <td>2785.60</td>\n      <td>0.0</td>\n      <td>0.0</td>\n      <td>NaN</td>\n      <td>NaN</td>\n      <td>NaN</td>\n    </tr>\n    <tr>\n      <th>19498</th>\n      <td>0.0</td>\n      <td>1.0</td>\n      <td>0.0</td>\n      <td>0.0</td>\n      <td>0.0</td>\n      <td>0.0</td>\n      <td>0.0</td>\n      <td>0.0</td>\n      <td>0.0</td>\n      <td>0.0</td>\n      <td>...</td>\n      <td>3909.77</td>\n      <td>0.0</td>\n      <td>0.00</td>\n      <td>0.000</td>\n      <td>3.80</td>\n      <td>0.0</td>\n      <td>0.0</td>\n      <td>0.0</td>\n      <td>88348.0</td>\n      <td>48000.0</td>\n    </tr>\n    <tr>\n      <th>19499</th>\n      <td>0.0</td>\n      <td>0.0</td>\n      <td>1.0</td>\n      <td>0.0</td>\n      <td>0.0</td>\n      <td>0.0</td>\n      <td>0.0</td>\n      <td>0.0</td>\n      <td>0.0</td>\n      <td>0.0</td>\n      <td>...</td>\n      <td>43.26</td>\n      <td>0.0</td>\n      <td>0.00</td>\n      <td>0.000</td>\n      <td>1978.17</td>\n      <td>0.0</td>\n      <td>0.0</td>\n      <td>0.0</td>\n      <td>18342.0</td>\n      <td>33400.0</td>\n    </tr>\n  </tbody>\n</table>\n<p>19500 rows × 50 columns</p>\n</div>",
            "text/plain": "       onehotencoder__grade_A  onehotencoder__grade_B  onehotencoder__grade_C  \\\n0                         0.0                     1.0                     0.0   \n1                         0.0                     0.0                     0.0   \n2                         1.0                     0.0                     0.0   \n3                         0.0                     0.0                     0.0   \n4                         0.0                     1.0                     0.0   \n...                       ...                     ...                     ...   \n19495                     0.0                     0.0                     1.0   \n19496                     0.0                     0.0                     1.0   \n19497                     0.0                     1.0                     0.0   \n19498                     0.0                     1.0                     0.0   \n19499                     0.0                     0.0                     1.0   \n\n       onehotencoder__grade_D  onehotencoder__grade_E  onehotencoder__grade_F  \\\n0                         0.0                     0.0                     0.0   \n1                         1.0                     0.0                     0.0   \n2                         0.0                     0.0                     0.0   \n3                         1.0                     0.0                     0.0   \n4                         0.0                     0.0                     0.0   \n...                       ...                     ...                     ...   \n19495                     0.0                     0.0                     0.0   \n19496                     0.0                     0.0                     0.0   \n19497                     0.0                     0.0                     0.0   \n19498                     0.0                     0.0                     0.0   \n19499                     0.0                     0.0                     0.0   \n\n       onehotencoder__grade_G  onehotencoder__emp_length_1 year  \\\n0                         0.0                               0.0   \n1                         0.0                               0.0   \n2                         0.0                               0.0   \n3                         0.0                               0.0   \n4                         0.0                               0.0   \n...                       ...                               ...   \n19495                     0.0                               0.0   \n19496                     0.0                               0.0   \n19497                     0.0                               0.0   \n19498                     0.0                               0.0   \n19499                     0.0                               0.0   \n\n       onehotencoder__emp_length_10+ years  onehotencoder__emp_length_2 years  \\\n0                                      0.0                                0.0   \n1                                      0.0                                0.0   \n2                                      0.0                                1.0   \n3                                      0.0                                0.0   \n4                                      1.0                                0.0   \n...                                    ...                                ...   \n19495                                  1.0                                0.0   \n19496                                  1.0                                0.0   \n19497                                  0.0                                0.0   \n19498                                  0.0                                0.0   \n19499                                  0.0                                0.0   \n\n       ...  remainder__total_rec_int  remainder__total_rec_late_fee  \\\n0      ...                   3359.33                           78.0   \n1      ...                   5302.70                            0.0   \n2      ...                   2148.75                            0.0   \n3      ...                   2109.37                           15.0   \n4      ...                     88.83                            0.0   \n...    ...                       ...                            ...   \n19495  ...                    223.71                            0.0   \n19496  ...                     77.05                            0.0   \n19497  ...                   3020.67                            0.0   \n19498  ...                   3909.77                            0.0   \n19499  ...                     43.26                            0.0   \n\n       remainder__recoveries  remainder__collection_recovery_fee  \\\n0                       0.00                               0.000   \n1                    1614.60                             145.314   \n2                       0.00                               0.000   \n3                     127.05                              22.869   \n4                       0.00                               0.000   \n...                      ...                                 ...   \n19495                   0.00                               0.000   \n19496                   0.00                               0.000   \n19497                   0.00                               0.000   \n19498                   0.00                               0.000   \n19499                   0.00                               0.000   \n\n       remainder__last_pymnt_amnt  remainder__collections_12_mths_ex_med  \\\n0                        16901.45                                    1.0   \n1                          409.95                                    1.0   \n2                        12074.88                                    0.0   \n3                          238.99                                    0.0   \n4                        20101.30                                    0.0   \n...                           ...                                    ...   \n19495                    26244.05                                    0.0   \n19496                     2978.46                                    0.0   \n19497                     2785.60                                    0.0   \n19498                        3.80                                    0.0   \n19499                     1978.17                                    0.0   \n\n       remainder__acc_now_delinq  remainder__tot_coll_amt  \\\n0                            0.0                      0.0   \n1                            0.0                    273.0   \n2                            0.0                      0.0   \n3                            0.0                      0.0   \n4                            0.0                      0.0   \n...                          ...                      ...   \n19495                        0.0                   4812.0   \n19496                        0.0                      0.0   \n19497                        0.0                      NaN   \n19498                        0.0                      0.0   \n19499                        0.0                      0.0   \n\n       remainder__tot_cur_bal  remainder__total_rev_hi_lim  \n0                     70116.0                      43670.0  \n1                     31306.0                      21600.0  \n2                    196318.0                      68900.0  \n3                      6848.0                      16700.0  \n4                    426287.0                      26100.0  \n...                       ...                          ...  \n19495                110260.0                      20600.0  \n19496                260585.0                      46600.0  \n19497                     NaN                          NaN  \n19498                 88348.0                      48000.0  \n19499                 18342.0                      33400.0  \n\n[19500 rows x 50 columns]"
          },
          "metadata": {}
        }
      ],
      "execution_count": 12,
      "metadata": {}
    },
    {
      "cell_type": "code",
      "source": [
        "\n",
        "#  навчальна  вибірка з числових ознак\n",
        "X_num = df[nums_features]\n",
        "y = (df['y_reg'])\n",
        "X_num.describe()\n"
      ],
      "outputs": [
        {
          "output_type": "execute_result",
          "execution_count": 13,
          "data": {
            "text/html": "<div>\n<style scoped>\n    .dataframe tbody tr th:only-of-type {\n        vertical-align: middle;\n    }\n\n    .dataframe tbody tr th {\n        vertical-align: top;\n    }\n\n    .dataframe thead th {\n        text-align: right;\n    }\n</style>\n<table border=\"1\" class=\"dataframe\">\n  <thead>\n    <tr style=\"text-align: right;\">\n      <th></th>\n      <th>loan_amnt</th>\n      <th>int_rate</th>\n      <th>installment</th>\n      <th>annual_inc</th>\n      <th>dti</th>\n      <th>delinq_2yrs</th>\n      <th>inq_last_6mths</th>\n      <th>mths_since_last_delinq</th>\n      <th>open_acc</th>\n      <th>pub_rec</th>\n      <th>...</th>\n      <th>total_rec_int</th>\n      <th>total_rec_late_fee</th>\n      <th>recoveries</th>\n      <th>collection_recovery_fee</th>\n      <th>last_pymnt_amnt</th>\n      <th>collections_12_mths_ex_med</th>\n      <th>acc_now_delinq</th>\n      <th>tot_coll_amt</th>\n      <th>tot_cur_bal</th>\n      <th>total_rev_hi_lim</th>\n    </tr>\n  </thead>\n  <tbody>\n    <tr>\n      <th>count</th>\n      <td>19500.000000</td>\n      <td>19500.000000</td>\n      <td>19500.000000</td>\n      <td>1.950000e+04</td>\n      <td>19495.000000</td>\n      <td>19500.000000</td>\n      <td>19500.000000</td>\n      <td>9868.000000</td>\n      <td>19500.000000</td>\n      <td>19500.000000</td>\n      <td>...</td>\n      <td>19500.000000</td>\n      <td>19500.000000</td>\n      <td>19500.000000</td>\n      <td>19500.000000</td>\n      <td>19500.000000</td>\n      <td>19500.000000</td>\n      <td>19500.000000</td>\n      <td>18630.000000</td>\n      <td>1.863000e+04</td>\n      <td>18630.000000</td>\n    </tr>\n    <tr>\n      <th>mean</th>\n      <td>14821.008974</td>\n      <td>13.906393</td>\n      <td>448.408998</td>\n      <td>7.580852e+04</td>\n      <td>18.597095</td>\n      <td>0.330769</td>\n      <td>0.664000</td>\n      <td>34.047021</td>\n      <td>11.602462</td>\n      <td>0.225333</td>\n      <td>...</td>\n      <td>2545.939345</td>\n      <td>3.826898</td>\n      <td>298.539651</td>\n      <td>50.258535</td>\n      <td>4140.196449</td>\n      <td>0.018256</td>\n      <td>0.005077</td>\n      <td>222.111541</td>\n      <td>1.361425e+05</td>\n      <td>31819.256200</td>\n    </tr>\n    <tr>\n      <th>std</th>\n      <td>8838.026964</td>\n      <td>4.963300</td>\n      <td>265.330204</td>\n      <td>6.233493e+04</td>\n      <td>9.534863</td>\n      <td>0.879724</td>\n      <td>0.942594</td>\n      <td>21.996481</td>\n      <td>5.569023</td>\n      <td>0.628808</td>\n      <td>...</td>\n      <td>2746.267537</td>\n      <td>20.841700</td>\n      <td>1074.575286</td>\n      <td>190.363170</td>\n      <td>6461.795339</td>\n      <td>0.145975</td>\n      <td>0.074594</td>\n      <td>1443.977110</td>\n      <td>1.535275e+05</td>\n      <td>31987.610385</td>\n    </tr>\n    <tr>\n      <th>min</th>\n      <td>500.000000</td>\n      <td>5.310000</td>\n      <td>16.310000</td>\n      <td>0.000000e+00</td>\n      <td>0.000000</td>\n      <td>0.000000</td>\n      <td>0.000000</td>\n      <td>0.000000</td>\n      <td>0.000000</td>\n      <td>0.000000</td>\n      <td>...</td>\n      <td>0.000000</td>\n      <td>0.000000</td>\n      <td>0.000000</td>\n      <td>0.000000</td>\n      <td>0.000000</td>\n      <td>0.000000</td>\n      <td>0.000000</td>\n      <td>0.000000</td>\n      <td>0.000000e+00</td>\n      <td>0.000000</td>\n    </tr>\n    <tr>\n      <th>25%</th>\n      <td>8000.000000</td>\n      <td>10.490000</td>\n      <td>257.880000</td>\n      <td>4.500000e+04</td>\n      <td>12.030000</td>\n      <td>0.000000</td>\n      <td>0.000000</td>\n      <td>15.000000</td>\n      <td>8.000000</td>\n      <td>0.000000</td>\n      <td>...</td>\n      <td>806.397500</td>\n      <td>0.000000</td>\n      <td>0.000000</td>\n      <td>0.000000</td>\n      <td>332.712500</td>\n      <td>0.000000</td>\n      <td>0.000000</td>\n      <td>0.000000</td>\n      <td>2.841575e+04</td>\n      <td>13700.000000</td>\n    </tr>\n    <tr>\n      <th>50%</th>\n      <td>12775.000000</td>\n      <td>13.350000</td>\n      <td>381.060000</td>\n      <td>6.500000e+04</td>\n      <td>17.980000</td>\n      <td>0.000000</td>\n      <td>0.000000</td>\n      <td>30.000000</td>\n      <td>11.000000</td>\n      <td>0.000000</td>\n      <td>...</td>\n      <td>1650.570000</td>\n      <td>0.000000</td>\n      <td>0.000000</td>\n      <td>0.000000</td>\n      <td>749.375000</td>\n      <td>0.000000</td>\n      <td>0.000000</td>\n      <td>0.000000</td>\n      <td>7.321900e+04</td>\n      <td>23500.000000</td>\n    </tr>\n    <tr>\n      <th>75%</th>\n      <td>20000.000000</td>\n      <td>16.990000</td>\n      <td>593.490000</td>\n      <td>9.000000e+04</td>\n      <td>24.590000</td>\n      <td>0.000000</td>\n      <td>1.000000</td>\n      <td>50.000000</td>\n      <td>14.000000</td>\n      <td>0.000000</td>\n      <td>...</td>\n      <td>3231.047500</td>\n      <td>0.000000</td>\n      <td>0.000000</td>\n      <td>0.000000</td>\n      <td>5795.580000</td>\n      <td>0.000000</td>\n      <td>0.000000</td>\n      <td>0.000000</td>\n      <td>2.038738e+05</td>\n      <td>39600.000000</td>\n    </tr>\n    <tr>\n      <th>max</th>\n      <td>40000.000000</td>\n      <td>30.990000</td>\n      <td>1546.520000</td>\n      <td>4.260016e+06</td>\n      <td>325.990000</td>\n      <td>16.000000</td>\n      <td>7.000000</td>\n      <td>135.000000</td>\n      <td>75.000000</td>\n      <td>28.000000</td>\n      <td>...</td>\n      <td>26822.380000</td>\n      <td>768.170000</td>\n      <td>26708.310000</td>\n      <td>4807.495800</td>\n      <td>40604.210000</td>\n      <td>4.000000</td>\n      <td>2.000000</td>\n      <td>44169.000000</td>\n      <td>3.078704e+06</td>\n      <td>778500.000000</td>\n    </tr>\n  </tbody>\n</table>\n<p>8 rows × 26 columns</p>\n</div>",
            "text/plain": "          loan_amnt      int_rate   installment    annual_inc           dti  \\\ncount  19500.000000  19500.000000  19500.000000  1.950000e+04  19495.000000   \nmean   14821.008974     13.906393    448.408998  7.580852e+04     18.597095   \nstd     8838.026964      4.963300    265.330204  6.233493e+04      9.534863   \nmin      500.000000      5.310000     16.310000  0.000000e+00      0.000000   \n25%     8000.000000     10.490000    257.880000  4.500000e+04     12.030000   \n50%    12775.000000     13.350000    381.060000  6.500000e+04     17.980000   \n75%    20000.000000     16.990000    593.490000  9.000000e+04     24.590000   \nmax    40000.000000     30.990000   1546.520000  4.260016e+06    325.990000   \n\n        delinq_2yrs  inq_last_6mths  mths_since_last_delinq      open_acc  \\\ncount  19500.000000    19500.000000             9868.000000  19500.000000   \nmean       0.330769        0.664000               34.047021     11.602462   \nstd        0.879724        0.942594               21.996481      5.569023   \nmin        0.000000        0.000000                0.000000      0.000000   \n25%        0.000000        0.000000               15.000000      8.000000   \n50%        0.000000        0.000000               30.000000     11.000000   \n75%        0.000000        1.000000               50.000000     14.000000   \nmax       16.000000        7.000000              135.000000     75.000000   \n\n            pub_rec  ...  total_rec_int  total_rec_late_fee    recoveries  \\\ncount  19500.000000  ...   19500.000000        19500.000000  19500.000000   \nmean       0.225333  ...    2545.939345            3.826898    298.539651   \nstd        0.628808  ...    2746.267537           20.841700   1074.575286   \nmin        0.000000  ...       0.000000            0.000000      0.000000   \n25%        0.000000  ...     806.397500            0.000000      0.000000   \n50%        0.000000  ...    1650.570000            0.000000      0.000000   \n75%        0.000000  ...    3231.047500            0.000000      0.000000   \nmax       28.000000  ...   26822.380000          768.170000  26708.310000   \n\n       collection_recovery_fee  last_pymnt_amnt  collections_12_mths_ex_med  \\\ncount             19500.000000     19500.000000                19500.000000   \nmean                 50.258535      4140.196449                    0.018256   \nstd                 190.363170      6461.795339                    0.145975   \nmin                   0.000000         0.000000                    0.000000   \n25%                   0.000000       332.712500                    0.000000   \n50%                   0.000000       749.375000                    0.000000   \n75%                   0.000000      5795.580000                    0.000000   \nmax                4807.495800     40604.210000                    4.000000   \n\n       acc_now_delinq  tot_coll_amt   tot_cur_bal  total_rev_hi_lim  \ncount    19500.000000  18630.000000  1.863000e+04      18630.000000  \nmean         0.005077    222.111541  1.361425e+05      31819.256200  \nstd          0.074594   1443.977110  1.535275e+05      31987.610385  \nmin          0.000000      0.000000  0.000000e+00          0.000000  \n25%          0.000000      0.000000  2.841575e+04      13700.000000  \n50%          0.000000      0.000000  7.321900e+04      23500.000000  \n75%          0.000000      0.000000  2.038738e+05      39600.000000  \nmax          2.000000  44169.000000  3.078704e+06     778500.000000  \n\n[8 rows x 26 columns]"
          },
          "metadata": {}
        }
      ],
      "execution_count": 13,
      "metadata": {}
    },
    {
      "cell_type": "code",
      "source": [
        "# Працюєм з неповними данними\n",
        "from sklearn.impute import SimpleImputer\n",
        "\n",
        "X_ohe_mean_strategy = pd.DataFrame(SimpleImputer(strategy='mean').fit_transform(df_ohe))\n",
        "X_ohe_median_strategy = pd.DataFrame(SimpleImputer(strategy='median').fit_transform(df_ohe))\n",
        "X_ohe_mode_strategy = pd.DataFrame(SimpleImputer(strategy='most_frequent').fit_transform(df_ohe))\n",
        "X_ohe_constant_strategy = pd.DataFrame(SimpleImputer(strategy='constant').fit_transform(df_ohe))\n",
        "\n",
        "\n",
        "X_num_mean_strategy = pd.DataFrame(SimpleImputer(strategy='mean').fit_transform(X_num))\n",
        "X_num_median_strategy = pd.DataFrame(SimpleImputer(strategy='median').fit_transform(X_num))\n",
        "X_num_mode_strategy = pd.DataFrame(SimpleImputer(strategy='most_frequent').fit_transform(X_num))\n",
        "X_num_constant_strategy = pd.DataFrame(SimpleImputer(strategy='constant').fit_transform(X_num))"
      ],
      "outputs": [],
      "execution_count": 14,
      "metadata": {}
    },
    {
      "cell_type": "markdown",
      "source": [
        "### LINEAR MODELS"
      ],
      "metadata": {}
    },
    {
      "cell_type": "code",
      "source": [
        "\n",
        "#  Лінійна регресія по числових ознаках з simple imputer stragegy = mean\n",
        "from sklearn.preprocessing import *\n",
        "from sklearn.model_selection import train_test_split\n",
        "from sklearn.metrics import r2_score\n",
        "from sklearn.preprocessing import QuantileTransformer\n",
        "\n",
        "\n",
        "# Розділяєм числовий DataFrame на тренувальну та валідаційну вибірку\n",
        "X_num_mean_for_train , X_num_mean_for_validation , y_num_for_train , y_num_for_validation = train_test_split(X_num_mean_strategy,y,test_size= 0.3,random_state=0)\n",
        "\n",
        "\n",
        "# Трансформуємо ознаки за допомогою QuantileTransformer\n",
        "X_num_mean_for_train = QuantileTransformer().fit_transform(X_num_mean_for_train)\n",
        "X_num_mean_for_validation = QuantileTransformer().fit_transform(X_num_mean_for_validation)\n",
        "\n",
        "\n",
        "pd.DataFrame(X_num_mean_for_train,columns=X_num.columns).describe()\n",
        "\n",
        "\n",
        "# LinearRegressions по Вибірці з виключно числових ознак\n",
        "from sklearn.model_selection import cross_validate\n",
        "from sklearn.linear_model import LinearRegression\n",
        "\n",
        "X_num_mean_linear_regression = LinearRegression().fit(X_num_mean_for_train,y_num_for_train)\n",
        "X_num_mean_linear_regression_score = r2_score(y_num_for_validation,X_num_mean_linear_regression.predict(X_num_mean_for_validation))"
      ],
      "outputs": [],
      "execution_count": 15,
      "metadata": {}
    },
    {
      "cell_type": "code",
      "source": [
        "#  Лінійна регресія по числових ознаках з simple imputer stragegy = median\n",
        "from sklearn.preprocessing import *\n",
        "from sklearn.model_selection import train_test_split\n",
        "from sklearn.metrics import r2_score\n",
        "from sklearn.preprocessing import QuantileTransformer\n",
        "\n",
        "\n",
        "# Розділяєм числовий DataFrame на тренувальну та валідаційну вибірку\n",
        "X_num_median_for_train , X_num_median_for_validation , y_num_for_train , y_num_for_validation = train_test_split(X_num_median_strategy,y,test_size= 0.3,random_state=0)\n",
        "\n",
        "\n",
        "# Трансформуємо ознаки за допомогою QuantileTransformer\n",
        "X_num_median_for_train = QuantileTransformer().fit_transform(X_num_median_for_train)\n",
        "X_num_median_for_validation = QuantileTransformer().fit_transform(X_num_median_for_validation)\n",
        "\n",
        "\n",
        "pd.DataFrame(X_num_median_for_train,columns=X_num.columns).describe()\n",
        "\n",
        "\n",
        "# LinearRegressions по Вибірці з виключно числових ознак\n",
        "from sklearn.model_selection import cross_validate\n",
        "from sklearn.linear_model import LinearRegression\n",
        "\n",
        "X_num_median_linear_regression = LinearRegression().fit(X_num_median_for_train,y_num_for_train)\n",
        "X_num_median_linear_regression_score = r2_score(y_num_for_validation,X_num_median_linear_regression.predict(X_num_median_for_validation))"
      ],
      "outputs": [],
      "execution_count": 16,
      "metadata": {}
    },
    {
      "cell_type": "code",
      "source": [
        "#  Лінійна регресія по числових ознаках з simple imputer stragegy = most_Frequent\n",
        "from sklearn.preprocessing import *\n",
        "from sklearn.model_selection import train_test_split\n",
        "from sklearn.metrics import r2_score\n",
        "from sklearn.preprocessing import QuantileTransformer\n",
        "\n",
        "\n",
        "# Розділяєм числовий DataFrame на тренувальну та валідаційну вибірку\n",
        "X_num_mode_for_train , X_num_mode_for_validation , y_num_for_train , y_num_for_validation = train_test_split(X_num_mode_strategy,y,test_size= 0.3,random_state=0)\n",
        "\n",
        "\n",
        "# Трансформуємо ознаки за допомогою QuantileTransformer\n",
        "X_num_mode_for_train = QuantileTransformer().fit_transform(X_num_mode_for_train)\n",
        "X_num_mode_for_validation = QuantileTransformer().fit_transform(X_num_mode_for_validation)\n",
        "\n",
        "\n",
        "pd.DataFrame(X_num_mode_for_train,columns=X_num.columns).describe()\n",
        "\n",
        "\n",
        "# LinearRegressions по Вибірці з виключно числових ознак\n",
        "from sklearn.model_selection import cross_validate\n",
        "from sklearn.linear_model import LinearRegression\n",
        "\n",
        "X_num_mode_linear_regression = LinearRegression().fit(X_num_mode_for_train,y_num_for_train)\n",
        "X_num_mode_linear_regression_score = r2_score(y_num_for_validation,X_num_mode_linear_regression.predict(X_num_mode_for_validation))"
      ],
      "outputs": [],
      "execution_count": 17,
      "metadata": {}
    },
    {
      "cell_type": "code",
      "source": [
        "#  Лінійна регресія по числових ознаках з simple imputer stragegy = constant\n",
        "from sklearn.preprocessing import *\n",
        "from sklearn.model_selection import train_test_split\n",
        "from sklearn.metrics import r2_score\n",
        "from sklearn.preprocessing import QuantileTransformer\n",
        "\n",
        "\n",
        "# Розділяєм числовий DataFrame на тренувальну та валідаційну вибірку\n",
        "X_num_constant_for_train , X_num_constant_for_validation , y_num_for_train , y_num_for_validation = train_test_split(X_num_constant_strategy,y,test_size= 0.3,random_state=0)\n",
        "\n",
        "\n",
        "# Трансформуємо ознаки за допомогою QuantileTransformer\n",
        "X_num_constant_for_train = QuantileTransformer().fit_transform(X_num_constant_for_train)\n",
        "X_num_constant_for_validation = QuantileTransformer().fit_transform(X_num_constant_for_validation)\n",
        "\n",
        "\n",
        "pd.DataFrame(X_num_constant_for_train,columns=X_num.columns).describe()\n",
        "\n",
        "\n",
        "# LinearRegressions по Вибірці з виключно числових ознак\n",
        "from sklearn.model_selection import cross_validate\n",
        "from sklearn.linear_model import LinearRegression\n",
        "\n",
        "X_num_constant_linear_regression = LinearRegression().fit(X_num_constant_for_train,y_num_for_train)\n",
        "X_num_constant_linear_regression_score = r2_score(y_num_for_validation,X_num_constant_linear_regression.predict(X_num_constant_for_validation))"
      ],
      "outputs": [],
      "execution_count": 18,
      "metadata": {}
    },
    {
      "cell_type": "code",
      "source": [
        "####"
      ],
      "outputs": [],
      "execution_count": 19,
      "metadata": {}
    },
    {
      "cell_type": "code",
      "source": [
        "\n",
        "#  Лінійна регресія по числових ознаках з simple imputer stragegy = mean\n",
        "from sklearn.preprocessing import *\n",
        "from sklearn.model_selection import train_test_split\n",
        "from sklearn.metrics import r2_score\n",
        "from sklearn.preprocessing import QuantileTransformer\n",
        "\n",
        "\n",
        "# Розділяєм числовий DataFrame на тренувальну та валідаційну вибірку\n",
        "X_ohe_mean_for_train , X_ohe_mean_for_validation , y_ohe_for_train , y_ohe_for_validation = train_test_split(X_ohe_mean_strategy,y,test_size= 0.3,random_state=0)\n",
        "\n",
        "\n",
        "# Трансформуємо ознаки за допомогою QuantileTransformer\n",
        "X_ohe_mean_for_train = QuantileTransformer().fit_transform(X_ohe_mean_for_train)\n",
        "X_ohe_mean_for_validation = QuantileTransformer().fit_transform(X_ohe_mean_for_validation)\n",
        "\n",
        "\n",
        "\n",
        "\n",
        "\n",
        "# LinearRegressions по Вибірці з виключно числових ознак\n",
        "from sklearn.model_selection import cross_validate\n",
        "from sklearn.linear_model import LinearRegression\n",
        "\n",
        "X_ohe_mean_linear_regression = LinearRegression().fit(X_ohe_mean_for_train,y_ohe_for_train)\n",
        "X_ohe_mean_linear_regression_score = r2_score(y_ohe_for_validation,X_ohe_mean_linear_regression.predict(X_ohe_mean_for_validation))"
      ],
      "outputs": [],
      "execution_count": 20,
      "metadata": {}
    },
    {
      "cell_type": "code",
      "source": [
        "\n",
        "#  Лінійна регресія по числових ознаках з simple imputer stragegy = mean\n",
        "from sklearn.preprocessing import *\n",
        "from sklearn.model_selection import train_test_split\n",
        "from sklearn.metrics import r2_score\n",
        "from sklearn.preprocessing import QuantileTransformer\n",
        "\n",
        "\n",
        "# Розділяєм числовий DataFrame на тренувальну та валідаційну вибірку\n",
        "X_ohe_median_for_train , X_ohe_median_for_validation , y_ohe_for_train , y_ohe_for_validation = train_test_split(X_ohe_median_strategy,y,test_size= 0.3,random_state=0)\n",
        "\n",
        "\n",
        "# Трансформуємо ознаки за допомогою QuantileTransformer\n",
        "X_ohe_median_for_train = QuantileTransformer().fit_transform(X_ohe_median_for_train)\n",
        "X_ohe_median_for_validation = QuantileTransformer().fit_transform(X_ohe_median_for_validation)\n",
        "\n",
        "\n",
        "\n",
        "\n",
        "\n",
        "# LinearRegressions по Вибірці з виключно числових ознак\n",
        "from sklearn.model_selection import cross_validate\n",
        "from sklearn.linear_model import LinearRegression\n",
        "\n",
        "X_ohe_median_linear_regression = LinearRegression().fit(X_ohe_median_for_train,y_ohe_for_train)\n",
        "X_ohe_median_linear_regression_score = r2_score(y_ohe_for_validation,X_ohe_median_linear_regression.predict(X_ohe_median_for_validation))"
      ],
      "outputs": [],
      "execution_count": 21,
      "metadata": {}
    },
    {
      "cell_type": "code",
      "source": [
        "\n",
        "#  Лінійна регресія по числових ознаках з simple imputer stragegy = mean\n",
        "from sklearn.preprocessing import *\n",
        "from sklearn.model_selection import train_test_split\n",
        "from sklearn.metrics import r2_score\n",
        "from sklearn.preprocessing import QuantileTransformer\n",
        "\n",
        "\n",
        "# Розділяєм числовий DataFrame на тренувальну та валідаційну вибірку\n",
        "X_ohe_mode_for_train , X_ohe_mode_for_validation , y_ohe_for_train , y_ohe_for_validation = train_test_split(X_ohe_mode_strategy,y,test_size= 0.3,random_state=0)\n",
        "\n",
        "\n",
        "# Трансформуємо ознаки за допомогою QuantileTransformer\n",
        "X_ohe_mode_for_train = QuantileTransformer().fit_transform(X_ohe_mode_for_train)\n",
        "X_ohe_mode_for_validation = QuantileTransformer().fit_transform(X_ohe_mode_for_validation)\n",
        "\n",
        "\n",
        "\n",
        "\n",
        "\n",
        "# LinearRegressions по Вибірці з виключно числових ознак\n",
        "from sklearn.model_selection import cross_validate\n",
        "from sklearn.linear_model import LinearRegression\n",
        "\n",
        "X_ohe_mode_linear_regression = LinearRegression().fit(X_ohe_mode_for_train,y_ohe_for_train)\n",
        "X_ohe_mode_linear_regression_score = r2_score(y_ohe_for_validation,X_ohe_mode_linear_regression.predict(X_ohe_mode_for_validation))"
      ],
      "outputs": [],
      "execution_count": 22,
      "metadata": {}
    },
    {
      "cell_type": "code",
      "source": [
        "\n",
        "#  Лінійна регресія по числових ознаках з simple imputer stragegy = mean\n",
        "from sklearn.preprocessing import *\n",
        "from sklearn.model_selection import train_test_split\n",
        "from sklearn.metrics import r2_score\n",
        "from sklearn.preprocessing import QuantileTransformer\n",
        "\n",
        "\n",
        "# Розділяєм числовий DataFrame на тренувальну та валідаційну вибірку\n",
        "X_ohe_constant_for_train , X_ohe_constant_for_validation , y_ohe_for_train , y_ohe_for_validation = train_test_split(X_ohe_constant_strategy,y,test_size= 0.3,random_state=0)\n",
        "\n",
        "\n",
        "# Трансформуємо ознаки за допомогою QuantileTransformer\n",
        "X_ohe_constant_for_train = QuantileTransformer().fit_transform(X_ohe_constant_for_train)\n",
        "X_ohe_constant_for_validation = QuantileTransformer().fit_transform(X_ohe_constant_for_validation)\n",
        "\n",
        "\n",
        "\n",
        "\n",
        "\n",
        "# LinearRegressions по Вибірці з виключно числових ознак\n",
        "from sklearn.model_selection import cross_validate\n",
        "from sklearn.linear_model import LinearRegression\n",
        "\n",
        "X_ohe_constant_linear_regression = LinearRegression().fit(X_ohe_constant_for_train,y_ohe_for_train)\n",
        "X_ohe_constant_linear_regression_score = r2_score(y_ohe_for_validation,X_ohe_constant_linear_regression.predict(X_ohe_constant_for_validation))"
      ],
      "outputs": [],
      "execution_count": 23,
      "metadata": {}
    },
    {
      "cell_type": "markdown",
      "source": [
        "### LASSO MODELS"
      ],
      "metadata": {}
    },
    {
      "cell_type": "code",
      "source": [
        "# Lassoes по Вибірці з виключно числових ознак\n",
        "from sklearn.linear_model import Lasso\n",
        "from sklearn.model_selection import GridSearchCV\n",
        "\n",
        "\n",
        "params = [0.0001,0.001,0.01,0.1,1,10,100,100]\n",
        "cv = 3\n",
        "\n",
        "Lassoes_X_num_mean = GridSearchCV(\n",
        "    estimator = Lasso(),\n",
        "    param_grid = {'alpha': params,'selection':['cyclic', 'random']},\n",
        "    cv = cv,\n",
        "    n_jobs = -1,\n",
        ").fit(X_num_mean_for_train,y_num_for_train)\n",
        "\n",
        "\n",
        "Lassoes_X_num_mean_cv_result = pd.DataFrame(Lassoes_X_num_mean.cv_results_).drop(columns=['mean_fit_time','std_fit_time','mean_score_time','std_score_time'])\n",
        "\n",
        "\n",
        "#з Lasso найкращим коефіцієнтом детермінації \n",
        "Lasso_X_num_mean = Lassoes_X_num_mean.best_estimator_\n",
        "\n",
        "\n",
        "# Коефіцієне детермінації моделі з найкращим mean_test_score на відкладеній вибірці\n",
        "Lasso_X_num_mean_score = r2_score(y_num_for_validation,(Lasso_X_num_mean.predict(X_num_mean_for_validation)))\n",
        "\n",
        "\n",
        "Lasso_X_num_mean_score"
      ],
      "outputs": [
        {
          "output_type": "stream",
          "name": "stderr",
          "text": "/Library/Frameworks/Python.framework/Versions/3.11/lib/python3.11/site-packages/sklearn/linear_model/_coordinate_descent.py:678: ConvergenceWarning: Objective did not converge. You might want to increase the number of iterations, check the scale of the features or consider increasing regularisation. Duality gap: 1.725e+01, tolerance: 1.701e-01\n  model = cd_fast.enet_coordinate_descent(\n/Library/Frameworks/Python.framework/Versions/3.11/lib/python3.11/site-packages/sklearn/linear_model/_coordinate_descent.py:678: ConvergenceWarning: Objective did not converge. You might want to increase the number of iterations, check the scale of the features or consider increasing regularisation. Duality gap: 2.563e-01, tolerance: 1.719e-01\n  model = cd_fast.enet_coordinate_descent(\n"
        },
        {
          "output_type": "execute_result",
          "execution_count": 24,
          "data": {
            "text/plain": "0.696036743905864"
          },
          "metadata": {}
        }
      ],
      "execution_count": 24,
      "metadata": {}
    },
    {
      "cell_type": "code",
      "source": [
        "# Lassoes по Вибірці з виключно числових ознак\n",
        "from sklearn.linear_model import Lasso\n",
        "from sklearn.model_selection import GridSearchCV\n",
        "\n",
        "\n",
        "params = [0.0001,0.001,0.01,0.1,1,10,100,100]\n",
        "cv = 3\n",
        "\n",
        "Lassoes_X_num_median = GridSearchCV(\n",
        "    estimator = Lasso(),\n",
        "    param_grid = {'alpha': params,'selection':['cyclic', 'random']},\n",
        "    cv = cv,\n",
        "    n_jobs = -1,\n",
        ").fit(X_num_median_for_train,y_num_for_train)\n",
        "\n",
        "\n",
        "Lassoes_X_num_median_cv_result = pd.DataFrame(Lassoes_X_num_median.cv_results_).drop(columns=['mean_fit_time','std_fit_time','mean_score_time','std_score_time'])\n",
        "\n",
        "\n",
        "#з Lasso найкращим коефіцієнтом детермінації \n",
        "Lasso_X_num_median = Lassoes_X_num_median.best_estimator_\n",
        "\n",
        "\n",
        "# Коефіцієне детермінації моделі з найкращим mean_test_score на відкладеній вибірці\n",
        "Lasso_X_num_median_score = r2_score(y_num_for_validation,(Lasso_X_num_median.predict(X_num_median_for_validation)))\n",
        "\n",
        "\n",
        "Lasso_X_num_median_score"
      ],
      "outputs": [
        {
          "output_type": "execute_result",
          "execution_count": 25,
          "data": {
            "text/plain": "0.696067714365699"
          },
          "metadata": {}
        }
      ],
      "execution_count": 25,
      "metadata": {}
    },
    {
      "cell_type": "code",
      "source": [
        "# Lassoes по Вибірці з виключно числових ознак\n",
        "from sklearn.linear_model import Lasso\n",
        "from sklearn.model_selection import GridSearchCV\n",
        "\n",
        "\n",
        "params = [0.0001,0.001,0.01,0.1,1,10,100,100]\n",
        "cv = 3\n",
        "\n",
        "Lassoes_X_num_mode = GridSearchCV(\n",
        "    estimator = Lasso(),\n",
        "    param_grid = {'alpha': params,'selection':['cyclic', 'random']},\n",
        "    cv = cv,\n",
        "    n_jobs = -1,\n",
        ").fit(X_num_mode_for_train,y_num_for_train)\n",
        "\n",
        "\n",
        "Lassoes_X_num_mode_cv_result = pd.DataFrame(Lassoes_X_num_mode.cv_results_).drop(columns=['mean_fit_time','std_fit_time','mean_score_time','std_score_time'])\n",
        "\n",
        "\n",
        "#з Lasso найкращим коефіцієнтом детермінації \n",
        "Lasso_X_num_mode = Lassoes_X_num_mode.best_estimator_\n",
        "\n",
        "\n",
        "# Коефіцієне детермінації моделі з найкращим mean_test_score на відкладеній вибірці\n",
        "Lasso_X_num_mode_score = r2_score(y_num_for_validation,(Lasso_X_num_mode.predict(X_num_mode_for_validation)))\n",
        "\n",
        "\n",
        "Lasso_X_num_mode_score"
      ],
      "outputs": [
        {
          "output_type": "stream",
          "name": "stderr",
          "text": "/Library/Frameworks/Python.framework/Versions/3.11/lib/python3.11/site-packages/sklearn/linear_model/_coordinate_descent.py:678: ConvergenceWarning: Objective did not converge. You might want to increase the number of iterations, check the scale of the features or consider increasing regularisation. Duality gap: 5.358e+00, tolerance: 1.752e-01\n  model = cd_fast.enet_coordinate_descent(\n/Library/Frameworks/Python.framework/Versions/3.11/lib/python3.11/site-packages/sklearn/linear_model/_coordinate_descent.py:678: ConvergenceWarning: Objective did not converge. You might want to increase the number of iterations, check the scale of the features or consider increasing regularisation. Duality gap: 1.131e+01, tolerance: 1.719e-01\n  model = cd_fast.enet_coordinate_descent(\n"
        },
        {
          "output_type": "execute_result",
          "execution_count": 26,
          "data": {
            "text/plain": "0.6959955182346136"
          },
          "metadata": {}
        }
      ],
      "execution_count": 26,
      "metadata": {}
    },
    {
      "cell_type": "code",
      "source": [
        "# Lassoes по Вибірці з виключно числових ознак\n",
        "from sklearn.linear_model import Lasso\n",
        "from sklearn.model_selection import GridSearchCV\n",
        "\n",
        "\n",
        "params = [0.0001,0.001,0.01,0.1,1,10,100,100]\n",
        "cv = 3\n",
        "\n",
        "Lassoes_X_num_constant = GridSearchCV(\n",
        "    estimator = Lasso(),\n",
        "    param_grid = {'alpha': params,'selection':['cyclic', 'random']},\n",
        "    cv = cv,\n",
        "    n_jobs = -1,\n",
        ").fit(X_num_constant_for_train,y_num_for_train)\n",
        "\n",
        "\n",
        "Lassoes_X_num_constant_cv_result = pd.DataFrame(Lassoes_X_num_constant.cv_results_).drop(columns=['mean_fit_time','std_fit_time','mean_score_time','std_score_time'])\n",
        "\n",
        "\n",
        "#з Lasso найкращим коефіцієнтом детермінації \n",
        "Lasso_X_num_constant = Lassoes_X_num_constant.best_estimator_\n",
        "\n",
        "\n",
        "# Коефіцієне детермінації моделі з найкращим mean_test_score на відкладеній вибірці\n",
        "Lasso_X_num_constant_score = r2_score(y_num_for_validation,(Lasso_X_num_constant.predict(X_num_constant_for_validation)))\n",
        "\n",
        "\n",
        "Lasso_X_num_constant_score"
      ],
      "outputs": [
        {
          "output_type": "execute_result",
          "execution_count": 27,
          "data": {
            "text/plain": "0.6959854110500094"
          },
          "metadata": {}
        }
      ],
      "execution_count": 27,
      "metadata": {}
    },
    {
      "cell_type": "code",
      "source": [
        "# Lassoes по Вибірці з всіх ознак\n",
        "from sklearn.linear_model import Lasso\n",
        "from sklearn.model_selection import GridSearchCV\n",
        "\n",
        "\n",
        "params = [0.0001,0.001,0.01,0.1,1,10,100,100]\n",
        "cv = 10\n",
        "\n",
        "Lassoes_X_ohe_mode = GridSearchCV(\n",
        "    estimator = Lasso(),\n",
        "    param_grid = {'alpha': params,'selection':['cyclic', 'random']},\n",
        "    cv = cv,\n",
        "    n_jobs = -1,\n",
        ").fit(X_ohe_mode_for_train,y_num_for_train)\n",
        "\n",
        "\n",
        "Lassoes_X_ohe_mode_cv_result = pd.DataFrame(Lassoes_X_ohe_mode.cv_results_).drop(columns=['mean_fit_time','std_fit_time','mean_score_time','std_score_time'])\n",
        "\n",
        "\n",
        "#з Lasso найкращим коефіцієнтом детермінації \n",
        "Lasso_X_ohe_mode = Lassoes_X_ohe_mode.best_estimator_\n",
        "\n",
        "\n",
        "# Коефіцієне детермінації моделі з найкращим mean_test_score на відкладеній вибірці\n",
        "Lasso_X_ohe_mode_score = r2_score(y_num_for_validation,(Lasso_X_ohe_mode.predict(X_ohe_mode_for_validation)))\n",
        "\n",
        "\n",
        "Lasso_X_ohe_mode_score"
      ],
      "outputs": [
        {
          "output_type": "stream",
          "name": "stderr",
          "text": "/Library/Frameworks/Python.framework/Versions/3.11/lib/python3.11/site-packages/sklearn/linear_model/_coordinate_descent.py:678: ConvergenceWarning: Objective did not converge. You might want to increase the number of iterations, check the scale of the features or consider increasing regularisation. Duality gap: 5.143e+00, tolerance: 2.334e-01\n  model = cd_fast.enet_coordinate_descent(\n/Library/Frameworks/Python.framework/Versions/3.11/lib/python3.11/site-packages/sklearn/linear_model/_coordinate_descent.py:678: ConvergenceWarning: Objective did not converge. You might want to increase the number of iterations, check the scale of the features or consider increasing regularisation. Duality gap: 2.310e+01, tolerance: 2.333e-01\n  model = cd_fast.enet_coordinate_descent(\n/Library/Frameworks/Python.framework/Versions/3.11/lib/python3.11/site-packages/sklearn/linear_model/_coordinate_descent.py:678: ConvergenceWarning: Objective did not converge. You might want to increase the number of iterations, check the scale of the features or consider increasing regularisation. Duality gap: 2.031e+01, tolerance: 2.313e-01\n  model = cd_fast.enet_coordinate_descent(\n/Library/Frameworks/Python.framework/Versions/3.11/lib/python3.11/site-packages/sklearn/linear_model/_coordinate_descent.py:678: ConvergenceWarning: Objective did not converge. You might want to increase the number of iterations, check the scale of the features or consider increasing regularisation. Duality gap: 9.683e+00, tolerance: 2.329e-01\n  model = cd_fast.enet_coordinate_descent(\n"
        },
        {
          "output_type": "execute_result",
          "execution_count": 28,
          "data": {
            "text/plain": "0.6982249841136848"
          },
          "metadata": {}
        }
      ],
      "execution_count": 28,
      "metadata": {}
    },
    {
      "cell_type": "markdown",
      "source": [
        "### RIDGE MODELS"
      ],
      "metadata": {}
    },
    {
      "cell_type": "code",
      "source": [
        "# Ridges по Вибірці з виключно числових ознак\n",
        "from sklearn.linear_model import Ridge\n",
        "\n",
        "\n",
        "Ridges_X_num = GridSearchCV(\n",
        "    estimator = Ridge(),\n",
        "    param_grid = {'alpha': params,'solver':['auto', 'svd', 'cholesky', 'lsqr', 'sparse_cg', 'sag', 'saga', 'lbfgs']},\n",
        "    cv = cv,\n",
        "    n_jobs = -1,\n",
        ").fit(X_num_mean_for_train,y_num_for_train)\n",
        "\n",
        "\n",
        "Ridges_X_num_cv_result = pd.DataFrame(Ridges_X_num.cv_results_).drop(columns=['mean_fit_time','std_fit_time','mean_score_time','std_score_time'])\n",
        "\n",
        "#з Ridge найкращим коефіцієнтом детермінації \n",
        "Ridge_X_num = Ridges_X_num.best_estimator_\n",
        "\n",
        "# Коефіцієне детермінації моделі з найкращим mean_test_score на відкладеній вибірці\n",
        "Ridge_X_num_score = r2_score(y_num_for_validation,(Ridge_X_num.predict(X_num_mean_for_validation)))\n",
        "\n",
        "\n",
        "Ridge_X_num_score"
      ],
      "outputs": [
        {
          "output_type": "stream",
          "name": "stderr",
          "text": "/Library/Frameworks/Python.framework/Versions/3.11/lib/python3.11/site-packages/sklearn/model_selection/_validation.py:547: FitFailedWarning: \n80 fits failed out of a total of 640.\nThe score on these train-test partitions for these parameters will be set to nan.\nIf these failures are not expected, you can try to debug them by setting error_score='raise'.\n\nBelow are more details about the failures:\n--------------------------------------------------------------------------------\n80 fits failed with the following error:\nTraceback (most recent call last):\n  File \"/Library/Frameworks/Python.framework/Versions/3.11/lib/python3.11/site-packages/sklearn/model_selection/_validation.py\", line 895, in _fit_and_score\n    estimator.fit(X_train, y_train, **fit_params)\n  File \"/Library/Frameworks/Python.framework/Versions/3.11/lib/python3.11/site-packages/sklearn/base.py\", line 1474, in wrapper\n    return fit_method(estimator, *args, **kwargs)\n           ^^^^^^^^^^^^^^^^^^^^^^^^^^^^^^^^^^^^^^\n  File \"/Library/Frameworks/Python.framework/Versions/3.11/lib/python3.11/site-packages/sklearn/linear_model/_ridge.py\", line 1175, in fit\n    return super().fit(X, y, sample_weight=sample_weight)\n           ^^^^^^^^^^^^^^^^^^^^^^^^^^^^^^^^^^^^^^^^^^^^^^\n  File \"/Library/Frameworks/Python.framework/Versions/3.11/lib/python3.11/site-packages/sklearn/linear_model/_ridge.py\", line 852, in fit\n    raise ValueError(\nValueError: 'lbfgs' solver can be used only when positive=True. Please use another solver.\n\n  warnings.warn(some_fits_failed_message, FitFailedWarning)\n/Library/Frameworks/Python.framework/Versions/3.11/lib/python3.11/site-packages/sklearn/model_selection/_search.py:1051: UserWarning: One or more of the test scores are non-finite: [0.68545674 0.68545674 0.68545674 0.68545746 0.68545683 0.6854569\n 0.68545695        nan 0.68545685 0.68545685 0.68545685 0.68545756\n 0.68545669 0.68545758 0.68545706        nan 0.68545784 0.68545784\n 0.68545784 0.68545855 0.68545769 0.68545787 0.68545801        nan\n 0.6854642  0.6854642  0.6854642  0.6854648  0.68546374 0.6854647\n 0.68546426        nan 0.68544246 0.68544246 0.68544246 0.68542206\n 0.68544212 0.6854417  0.68544227        nan 0.68499223 0.68499223\n 0.68499223 0.68498877 0.6849933  0.6849923  0.68499186        nan\n 0.68025935 0.68025935 0.68025935 0.68025888 0.68025882 0.6802595\n 0.68025939        nan 0.68025935 0.68025935 0.68025935 0.68025888\n 0.68025882 0.68025896 0.68025988        nan]\n  warnings.warn(\n"
        },
        {
          "output_type": "execute_result",
          "execution_count": 29,
          "data": {
            "text/plain": "0.6959963773395834"
          },
          "metadata": {}
        }
      ],
      "execution_count": 29,
      "metadata": {}
    },
    {
      "cell_type": "code",
      "source": [
        "# Ridges по Вибірці з всіх ознак\n",
        "from sklearn.linear_model import Ridge\n",
        "\n",
        "\n",
        "Ridges_X_ohe = GridSearchCV(\n",
        "    estimator = Ridge(),\n",
        "    param_grid = {'alpha': params,'solver':['auto', 'svd', 'cholesky', 'lsqr', 'sparse_cg', 'sag', 'saga', 'lbfgs']},\n",
        "    cv = cv,\n",
        "    n_jobs = -1,\n",
        ").fit(X_ohe_mean_for_train,y_ohe_for_train)\n",
        "\n",
        "\n",
        "Ridges_X_ohe_cv_result = pd.DataFrame(Ridges_X_ohe.cv_results_).drop(columns=['mean_fit_time','std_fit_time','mean_score_time','std_score_time'])\n",
        "\n",
        "#з Ridge найкращим коефіцієнтом детермінації \n",
        "Ridge_X_ohe = Ridges_X_ohe.best_estimator_\n",
        "\n",
        "# Коефіцієне детермінації моделі з найкращим mean_test_score на відкладеній вибірці\n",
        "Ridge_X_ohe_score = r2_score(y_ohe_for_validation,(Ridge_X_ohe.predict(X_ohe_mean_for_validation)))\n",
        "\n",
        "\n",
        "Ridge_X_ohe_score"
      ],
      "outputs": [
        {
          "output_type": "stream",
          "name": "stderr",
          "text": "/Library/Frameworks/Python.framework/Versions/3.11/lib/python3.11/site-packages/sklearn/model_selection/_validation.py:547: FitFailedWarning: \n80 fits failed out of a total of 640.\nThe score on these train-test partitions for these parameters will be set to nan.\nIf these failures are not expected, you can try to debug them by setting error_score='raise'.\n\nBelow are more details about the failures:\n--------------------------------------------------------------------------------\n80 fits failed with the following error:\nTraceback (most recent call last):\n  File \"/Library/Frameworks/Python.framework/Versions/3.11/lib/python3.11/site-packages/sklearn/model_selection/_validation.py\", line 895, in _fit_and_score\n    estimator.fit(X_train, y_train, **fit_params)\n  File \"/Library/Frameworks/Python.framework/Versions/3.11/lib/python3.11/site-packages/sklearn/base.py\", line 1474, in wrapper\n    return fit_method(estimator, *args, **kwargs)\n           ^^^^^^^^^^^^^^^^^^^^^^^^^^^^^^^^^^^^^^\n  File \"/Library/Frameworks/Python.framework/Versions/3.11/lib/python3.11/site-packages/sklearn/linear_model/_ridge.py\", line 1175, in fit\n    return super().fit(X, y, sample_weight=sample_weight)\n           ^^^^^^^^^^^^^^^^^^^^^^^^^^^^^^^^^^^^^^^^^^^^^^\n  File \"/Library/Frameworks/Python.framework/Versions/3.11/lib/python3.11/site-packages/sklearn/linear_model/_ridge.py\", line 852, in fit\n    raise ValueError(\nValueError: 'lbfgs' solver can be used only when positive=True. Please use another solver.\n\n  warnings.warn(some_fits_failed_message, FitFailedWarning)\n/Library/Frameworks/Python.framework/Versions/3.11/lib/python3.11/site-packages/sklearn/model_selection/_search.py:1051: UserWarning: One or more of the test scores are non-finite: [0.68849813 0.68849813 0.68849813 0.68849096 0.6884899  0.68849822\n 0.68849852        nan 0.68849829 0.68849829 0.68849829 0.6884911\n 0.68849194 0.68849827 0.68849869        nan 0.6884998  0.6884998\n 0.6884998  0.68849247 0.68849169 0.68849989 0.68850015        nan\n 0.68850903 0.68850903 0.68850903 0.68851574 0.68850218 0.68850903\n 0.68850911        nan 0.68846664 0.68846664 0.68846664 0.68846632\n 0.68846098 0.68846552 0.68846624        nan 0.68787109 0.68787109\n 0.68787109 0.68786306 0.68787107 0.68787079 0.68787122        nan\n 0.68222157 0.68222157 0.68222157 0.68222009 0.68222099 0.68222154\n 0.68222131        nan 0.68222157 0.68222157 0.68222157 0.68222009\n 0.68222099 0.68222159 0.6822215         nan]\n  warnings.warn(\n"
        },
        {
          "output_type": "execute_result",
          "execution_count": 30,
          "data": {
            "text/plain": "0.6980748400840455"
          },
          "metadata": {}
        }
      ],
      "execution_count": 30,
      "metadata": {}
    },
    {
      "cell_type": "markdown",
      "source": [
        "###  SVM Regressor"
      ],
      "metadata": {}
    },
    {
      "cell_type": "code",
      "source": [
        "from sklearn.svm import SVR\n",
        "\n",
        "\n",
        "SVR_X_num = GridSearchCV(\n",
        "    estimator = SVR(),\n",
        "    param_grid= {'kernel':['linear', 'poly', 'rbf', 'sigmoid'],'gamma':['scale','auto']},\n",
        "    cv=cv,\n",
        "    n_jobs=-1\n",
        ").fit(X_num_mean_for_train,y_ohe_for_train)\n",
        "\n",
        "\n",
        "SVR_X_num_cv_results = pd.DataFrame(SVR_X_num.cv_results_)\n",
        "\n",
        "SVR_X_num = SVR_X_num.best_estimator_\n",
        "\n",
        "\n",
        "\n",
        "SVR_X_num_score = r2_score(y_ohe_for_validation,SVR_X_num.predict(X_num_median_for_validation))\n",
        "\n",
        "\n",
        "SVR_X_num_score"
      ],
      "outputs": [
        {
          "output_type": "execute_result",
          "execution_count": 31,
          "data": {
            "text/plain": "0.6733576913658925"
          },
          "metadata": {}
        }
      ],
      "execution_count": 31,
      "metadata": {}
    },
    {
      "cell_type": "code",
      "source": [
        "from sklearn.svm import SVR\n",
        "\n",
        "\n",
        "SVR_X_ohe = GridSearchCV(\n",
        "    estimator = SVR(),\n",
        "    param_grid= {'kernel':['linear', 'poly', 'rbf', 'sigmoid'],'gamma':['scale','auto']},\n",
        "    cv=cv,\n",
        "    n_jobs=-1\n",
        ").fit(X_ohe_mean_for_train,y_ohe_for_train)\n",
        "\n",
        "\n",
        "SVR_X_ohe_cv_results = pd.DataFrame(SVR_X_ohe.cv_results_)\n",
        "\n",
        "SVR_X_ohe = SVR_X_ohe.best_estimator_\n",
        "\n",
        "\n",
        "\n",
        "SVR_X_ohe_score = r2_score(y_ohe_for_validation,SVR_X_ohe.predict(X_ohe_median_for_validation))\n",
        "\n",
        "\n",
        "SVR_X_ohe_score"
      ],
      "outputs": [
        {
          "output_type": "execute_result",
          "execution_count": 32,
          "data": {
            "text/plain": "0.6819577583276215"
          },
          "metadata": {}
        }
      ],
      "execution_count": 32,
      "metadata": {}
    },
    {
      "cell_type": "markdown",
      "source": [
        "### KNN Regressor"
      ],
      "metadata": {}
    },
    {
      "cell_type": "code",
      "source": [
        "from sklearn.neighbors import KNeighborsRegressor\n",
        "\n",
        "\n",
        "KNR_X_num = GridSearchCV(\n",
        "    estimator = KNeighborsRegressor(),\n",
        "    param_grid= {'weights':['uniform', 'distance'],'algorithm':['ball_tree','auto','kd_tree','brute']},\n",
        "    cv=cv,\n",
        "    n_jobs=-1\n",
        ").fit(X_num_mean_for_train,y_num_for_train)\n",
        "\n",
        "\n",
        "KNR_X_num_cv_results = pd.DataFrame(KNR_X_num.cv_results_)\n",
        "\n",
        "KNR_X_num = KNR_X_num.best_estimator_\n",
        "\n",
        "\n",
        "\n",
        "KNR_X_num_score = r2_score(y_num_for_validation,KNR_X_num.predict(X_num_mean_for_validation))\n",
        "\n",
        "\n",
        "KNR_X_num_score"
      ],
      "outputs": [
        {
          "output_type": "execute_result",
          "execution_count": 33,
          "data": {
            "text/plain": "0.6556133268406088"
          },
          "metadata": {}
        }
      ],
      "execution_count": 33,
      "metadata": {}
    },
    {
      "cell_type": "code",
      "source": [
        "from sklearn.neighbors import KNeighborsRegressor\n",
        "\n",
        "\n",
        "KNR_X_ohe = GridSearchCV(\n",
        "    estimator = KNeighborsRegressor(),\n",
        "    param_grid= {'weights':['uniform', 'distance'],'algorithm':['ball_tree','auto','kd_tree','brute']},\n",
        "    cv=cv,\n",
        "    n_jobs=-1\n",
        ").fit(X_ohe_mean_for_train,y_ohe_for_train)\n",
        "\n",
        "\n",
        "KNR_X_ohe_cv_results = pd.DataFrame(KNR_X_ohe.cv_results_)\n",
        "\n",
        "KNR_X_ohe = KNR_X_ohe.best_estimator_\n",
        "\n",
        "\n",
        "\n",
        "KNR_X_ohe_score = r2_score(y_ohe_for_validation,KNR_X_ohe.predict(X_ohe_mean_for_validation))\n",
        "\n",
        "\n",
        "KNR_X_ohe_score"
      ],
      "outputs": [
        {
          "output_type": "execute_result",
          "execution_count": 34,
          "data": {
            "text/plain": "0.5907285286242656"
          },
          "metadata": {}
        }
      ],
      "execution_count": 34,
      "metadata": {}
    },
    {
      "cell_type": "markdown",
      "source": [],
      "metadata": {}
    },
    {
      "cell_type": "code",
      "source": [],
      "outputs": [],
      "execution_count": null,
      "metadata": {}
    },
    {
      "cell_type": "markdown",
      "source": [
        "### sklearn.tree.DecisionTreeRegressor"
      ],
      "metadata": {}
    },
    {
      "cell_type": "markdown",
      "source": [],
      "metadata": {}
    },
    {
      "cell_type": "code",
      "source": [
        "from sklearn.tree import DecisionTreeRegressor\n",
        "\n",
        "\n",
        "DTR_X_num = GridSearchCV(\n",
        "    estimator = DecisionTreeRegressor(),\n",
        "    param_grid= {'max_features':['sqrt', 'log2'],'splitter':['random','best']},\n",
        "    cv=cv,\n",
        "    n_jobs=-1\n",
        ").fit(X_num_mean_for_train,y_num_for_train)\n",
        "\n",
        "\n",
        "DTR_X_num_cv_results = pd.DataFrame(DTR_X_num.cv_results_)\n",
        "\n",
        "DTR_X_num = DTR_X_num.best_estimator_\n",
        "\n",
        "\n",
        "\n",
        "DTR_X_num_score = r2_score(y_num_for_validation,DTR_X_num.predict(X_num_mean_for_validation))\n",
        "DTR_X_num_score"
      ],
      "outputs": [
        {
          "output_type": "execute_result",
          "execution_count": 35,
          "data": {
            "text/plain": "0.47603320714409136"
          },
          "metadata": {}
        }
      ],
      "execution_count": 35,
      "metadata": {}
    },
    {
      "cell_type": "code",
      "source": [
        "from sklearn.tree import DecisionTreeRegressor\n",
        "\n",
        "\n",
        "DTR_X_ohe = GridSearchCV(\n",
        "    estimator = DecisionTreeRegressor(),\n",
        "    param_grid= {'max_features':['sqrt', 'log2'],'splitter':['random','best']},\n",
        "    cv=cv,\n",
        "    n_jobs=-1\n",
        ").fit(X_ohe_mean_for_train,y_ohe_for_train)\n",
        "\n",
        "\n",
        "DTR_X_ohe_cv_results = pd.DataFrame(DTR_X_ohe.cv_results_)\n",
        "\n",
        "DTR_X_ohe = DTR_X_ohe.best_estimator_\n",
        "\n",
        "\n",
        "\n",
        "DTR_X_ohe_score = r2_score(y_ohe_for_validation,DTR_X_ohe.predict(X_ohe_mean_for_validation))\n",
        "DTR_X_ohe_score"
      ],
      "outputs": [
        {
          "output_type": "execute_result",
          "execution_count": 36,
          "data": {
            "text/plain": "0.4265523632993513"
          },
          "metadata": {}
        }
      ],
      "execution_count": 36,
      "metadata": {}
    },
    {
      "cell_type": "markdown",
      "source": [
        "### sklearn.ensemble.RandomForestRegressor"
      ],
      "metadata": {}
    },
    {
      "cell_type": "code",
      "source": [
        "from sklearn.ensemble import RandomForestRegressor\n",
        "\n",
        "\n",
        "RFR_X_num = GridSearchCV(\n",
        "    estimator = RandomForestRegressor(),\n",
        "    param_grid= {'criterion':['squared_error', 'absolute_error','friedman_mse','poisson'],'max_features':['sqrt','log2']},\n",
        "    cv=3,\n",
        "    n_jobs=-1\n",
        ").fit(X_num_mean_for_train,y_num_for_train)\n",
        "\n",
        "\n",
        "RFR_X_num_cv_results = pd.DataFrame(RFR_X_num.cv_results_)\n",
        "\n",
        "RFR_X_num = RFR_X_num.best_estimator_\n",
        "\n",
        "\n",
        "\n",
        "RFR_X_num_score = r2_score(y_num_for_validation,DTR_X_num.predict(X_num_mean_for_validation))\n",
        "RFR_X_num_score"
      ],
      "outputs": [
        {
          "output_type": "execute_result",
          "execution_count": 37,
          "data": {
            "text/plain": "0.47603320714409136"
          },
          "metadata": {}
        }
      ],
      "execution_count": 37,
      "metadata": {}
    },
    {
      "cell_type": "code",
      "source": [
        "from sklearn.ensemble import RandomForestRegressor\n",
        "\n",
        "\n",
        "RFR_X_ohe = GridSearchCV(\n",
        "    estimator = RandomForestRegressor(),\n",
        "    param_grid= {'criterion':['squared_error', 'absolute_error','friedman_mse','poisson'],'max_features':['sqrt','log2']},\n",
        "    cv=3,\n",
        "    n_jobs=-1\n",
        ").fit(X_ohe_mean_for_train,y_ohe_for_train)\n",
        "\n",
        "\n",
        "RFR_X_ohe_cv_results = pd.DataFrame(RFR_X_ohe.cv_results_)\n",
        "\n",
        "RFR_X_ohe = RFR_X_ohe.best_estimator_\n",
        "\n",
        "\n",
        "\n",
        "RFR_X_ohe_score = r2_score(y_ohe_for_validation,DTR_X_ohe.predict(X_ohe_mean_for_validation))\n",
        "RFR_X_ohe_score"
      ],
      "outputs": [
        {
          "output_type": "execute_result",
          "execution_count": 38,
          "data": {
            "text/plain": "0.4265523632993513"
          },
          "metadata": {}
        }
      ],
      "execution_count": 38,
      "metadata": {}
    },
    {
      "cell_type": "code",
      "source": [
        "Models_num = [X_num_mean_linear_regression,X_num_median_linear_regression,X_num_mode_linear_regression,X_num_constant_linear_regression,Lasso_X_num_mean,Lasso_X_num_median,Lasso_X_num_mode,Lasso_X_num_constant,Ridge_X_num,SVR_X_num,KNR_X_num,DTR_X_num,RFR_X_num]\n",
        "Models_ohe = [X_ohe_mean_linear_regression,X_ohe_median_linear_regression,X_ohe_mode_linear_regression,X_ohe_constant_linear_regression,Lasso_X_ohe_mode,Ridge_X_ohe,SVR_X_ohe,KNR_X_ohe,DTR_X_ohe,RFR_X_ohe]\n",
        "Models = pd.DataFrame(data = {'Model_Name': ['X_num_mean_linear_regression','X_num_median_linear_regression','X_num_mode_linear_regression','X_num_constant_linear_regression','Lasso_X_num_mean','Lasso_X_num_median','Lasso_X_num_mode','Lasso_X_num_constant','Lasso_X_ohe_mode','Ridge_X_num','Ridge_X_ohe','SVR_X_num','SVR_X_ohe','KNR_X_num','KNR_X_ohe','DTR_X_num','DTR_X_ohe','RFR_X_num','RFR_X_ohe'],'Model':[X_num_mean_linear_regression,X_num_median_linear_regression,X_num_mode_linear_regression,X_num_constant_linear_regression,Lasso_X_num_mean,Lasso_X_num_median,Lasso_X_num_mode,Lasso_X_num_constant,Lasso_X_ohe_mode,Ridge_X_num,Ridge_X_ohe,SVR_X_num,SVR_X_ohe,KNR_X_num,KNR_X_ohe,DTR_X_num,DTR_X_ohe,RFR_X_num,RFR_X_ohe],'r2_score_on_X_for_validation':[X_num_mean_linear_regression_score,X_num_median_linear_regression_score,X_num_mode_linear_regression_score,X_num_constant_linear_regression_score,Lasso_X_num_mean_score,Lasso_X_num_median_score,Lasso_X_num_mode_score,Lasso_X_num_constant_score,Lasso_X_ohe_mode_score,Ridge_X_num_score,Ridge_X_ohe_score,SVR_X_num_score,SVR_X_ohe_score,KNR_X_num_score,KNR_X_ohe_score,DTR_X_num_score,DTR_X_ohe_score,RFR_X_num_score,RFR_X_ohe_score]})\n",
        "optimal_model = Models[Models['r2_score_on_X_for_validation'] == Models['r2_score_on_X_for_validation'].values.max()]['Model'].values[0]\n",
        "Models"
      ],
      "outputs": [
        {
          "output_type": "execute_result",
          "execution_count": 39,
          "data": {
            "text/html": "<div>\n<style scoped>\n    .dataframe tbody tr th:only-of-type {\n        vertical-align: middle;\n    }\n\n    .dataframe tbody tr th {\n        vertical-align: top;\n    }\n\n    .dataframe thead th {\n        text-align: right;\n    }\n</style>\n<table border=\"1\" class=\"dataframe\">\n  <thead>\n    <tr style=\"text-align: right;\">\n      <th></th>\n      <th>Model_Name</th>\n      <th>Model</th>\n      <th>r2_score_on_X_for_validation</th>\n    </tr>\n  </thead>\n  <tbody>\n    <tr>\n      <th>0</th>\n      <td>X_num_mean_linear_regression</td>\n      <td>LinearRegression()</td>\n      <td>0.695997</td>\n    </tr>\n    <tr>\n      <th>1</th>\n      <td>X_num_median_linear_regression</td>\n      <td>LinearRegression()</td>\n      <td>0.696073</td>\n    </tr>\n    <tr>\n      <th>2</th>\n      <td>X_num_mode_linear_regression</td>\n      <td>LinearRegression()</td>\n      <td>0.696012</td>\n    </tr>\n    <tr>\n      <th>3</th>\n      <td>X_num_constant_linear_regression</td>\n      <td>LinearRegression()</td>\n      <td>0.695988</td>\n    </tr>\n    <tr>\n      <th>4</th>\n      <td>Lasso_X_num_mean</td>\n      <td>Lasso(alpha=0.0001)</td>\n      <td>0.696037</td>\n    </tr>\n    <tr>\n      <th>5</th>\n      <td>Lasso_X_num_median</td>\n      <td>Lasso(alpha=0.0001, selection='random')</td>\n      <td>0.696068</td>\n    </tr>\n    <tr>\n      <th>6</th>\n      <td>Lasso_X_num_mode</td>\n      <td>Lasso(alpha=0.0001)</td>\n      <td>0.695996</td>\n    </tr>\n    <tr>\n      <th>7</th>\n      <td>Lasso_X_num_constant</td>\n      <td>Lasso(alpha=0.0001)</td>\n      <td>0.695985</td>\n    </tr>\n    <tr>\n      <th>8</th>\n      <td>Lasso_X_ohe_mode</td>\n      <td>Lasso(alpha=0.0001)</td>\n      <td>0.698225</td>\n    </tr>\n    <tr>\n      <th>9</th>\n      <td>Ridge_X_num</td>\n      <td>Ridge(alpha=0.1, solver='lsqr')</td>\n      <td>0.695996</td>\n    </tr>\n    <tr>\n      <th>10</th>\n      <td>Ridge_X_ohe</td>\n      <td>Ridge(alpha=0.1, solver='lsqr')</td>\n      <td>0.698075</td>\n    </tr>\n    <tr>\n      <th>11</th>\n      <td>SVR_X_num</td>\n      <td>SVR()</td>\n      <td>0.673358</td>\n    </tr>\n    <tr>\n      <th>12</th>\n      <td>SVR_X_ohe</td>\n      <td>SVR()</td>\n      <td>0.681958</td>\n    </tr>\n    <tr>\n      <th>13</th>\n      <td>KNR_X_num</td>\n      <td>KNeighborsRegressor(algorithm='ball_tree')</td>\n      <td>0.655613</td>\n    </tr>\n    <tr>\n      <th>14</th>\n      <td>KNR_X_ohe</td>\n      <td>KNeighborsRegressor(weights='distance')</td>\n      <td>0.590729</td>\n    </tr>\n    <tr>\n      <th>15</th>\n      <td>DTR_X_num</td>\n      <td>DecisionTreeRegressor(max_features='sqrt')</td>\n      <td>0.476033</td>\n    </tr>\n    <tr>\n      <th>16</th>\n      <td>DTR_X_ohe</td>\n      <td>DecisionTreeRegressor(max_features='sqrt')</td>\n      <td>0.426552</td>\n    </tr>\n    <tr>\n      <th>17</th>\n      <td>RFR_X_num</td>\n      <td>(DecisionTreeRegressor(criterion='poisson', ma...</td>\n      <td>0.476033</td>\n    </tr>\n    <tr>\n      <th>18</th>\n      <td>RFR_X_ohe</td>\n      <td>(DecisionTreeRegressor(max_features='sqrt', ra...</td>\n      <td>0.426552</td>\n    </tr>\n  </tbody>\n</table>\n</div>",
            "text/plain": "                          Model_Name  \\\n0       X_num_mean_linear_regression   \n1     X_num_median_linear_regression   \n2       X_num_mode_linear_regression   \n3   X_num_constant_linear_regression   \n4                   Lasso_X_num_mean   \n5                 Lasso_X_num_median   \n6                   Lasso_X_num_mode   \n7               Lasso_X_num_constant   \n8                   Lasso_X_ohe_mode   \n9                        Ridge_X_num   \n10                       Ridge_X_ohe   \n11                         SVR_X_num   \n12                         SVR_X_ohe   \n13                         KNR_X_num   \n14                         KNR_X_ohe   \n15                         DTR_X_num   \n16                         DTR_X_ohe   \n17                         RFR_X_num   \n18                         RFR_X_ohe   \n\n                                                Model  \\\n0                                  LinearRegression()   \n1                                  LinearRegression()   \n2                                  LinearRegression()   \n3                                  LinearRegression()   \n4                                 Lasso(alpha=0.0001)   \n5             Lasso(alpha=0.0001, selection='random')   \n6                                 Lasso(alpha=0.0001)   \n7                                 Lasso(alpha=0.0001)   \n8                                 Lasso(alpha=0.0001)   \n9                     Ridge(alpha=0.1, solver='lsqr')   \n10                    Ridge(alpha=0.1, solver='lsqr')   \n11                                              SVR()   \n12                                              SVR()   \n13         KNeighborsRegressor(algorithm='ball_tree')   \n14            KNeighborsRegressor(weights='distance')   \n15         DecisionTreeRegressor(max_features='sqrt')   \n16         DecisionTreeRegressor(max_features='sqrt')   \n17  (DecisionTreeRegressor(criterion='poisson', ma...   \n18  (DecisionTreeRegressor(max_features='sqrt', ra...   \n\n    r2_score_on_X_for_validation  \n0                       0.695997  \n1                       0.696073  \n2                       0.696012  \n3                       0.695988  \n4                       0.696037  \n5                       0.696068  \n6                       0.695996  \n7                       0.695985  \n8                       0.698225  \n9                       0.695996  \n10                      0.698075  \n11                      0.673358  \n12                      0.681958  \n13                      0.655613  \n14                      0.590729  \n15                      0.476033  \n16                      0.426552  \n17                      0.476033  \n18                      0.426552  "
          },
          "metadata": {}
        }
      ],
      "execution_count": 39,
      "metadata": {}
    },
    {
      "cell_type": "code",
      "source": [
        "optimal_model"
      ],
      "outputs": [
        {
          "output_type": "execute_result",
          "execution_count": 40,
          "data": {
            "text/html": "<style>#sk-container-id-1 {\n  /* Definition of color scheme common for light and dark mode */\n  --sklearn-color-text: black;\n  --sklearn-color-line: gray;\n  /* Definition of color scheme for unfitted estimators */\n  --sklearn-color-unfitted-level-0: #fff5e6;\n  --sklearn-color-unfitted-level-1: #f6e4d2;\n  --sklearn-color-unfitted-level-2: #ffe0b3;\n  --sklearn-color-unfitted-level-3: chocolate;\n  /* Definition of color scheme for fitted estimators */\n  --sklearn-color-fitted-level-0: #f0f8ff;\n  --sklearn-color-fitted-level-1: #d4ebff;\n  --sklearn-color-fitted-level-2: #b3dbfd;\n  --sklearn-color-fitted-level-3: cornflowerblue;\n\n  /* Specific color for light theme */\n  --sklearn-color-text-on-default-background: var(--sg-text-color, var(--theme-code-foreground, var(--jp-content-font-color1, black)));\n  --sklearn-color-background: var(--sg-background-color, var(--theme-background, var(--jp-layout-color0, white)));\n  --sklearn-color-border-box: var(--sg-text-color, var(--theme-code-foreground, var(--jp-content-font-color1, black)));\n  --sklearn-color-icon: #696969;\n\n  @media (prefers-color-scheme: dark) {\n    /* Redefinition of color scheme for dark theme */\n    --sklearn-color-text-on-default-background: var(--sg-text-color, var(--theme-code-foreground, var(--jp-content-font-color1, white)));\n    --sklearn-color-background: var(--sg-background-color, var(--theme-background, var(--jp-layout-color0, #111)));\n    --sklearn-color-border-box: var(--sg-text-color, var(--theme-code-foreground, var(--jp-content-font-color1, white)));\n    --sklearn-color-icon: #878787;\n  }\n}\n\n#sk-container-id-1 {\n  color: var(--sklearn-color-text);\n}\n\n#sk-container-id-1 pre {\n  padding: 0;\n}\n\n#sk-container-id-1 input.sk-hidden--visually {\n  border: 0;\n  clip: rect(1px 1px 1px 1px);\n  clip: rect(1px, 1px, 1px, 1px);\n  height: 1px;\n  margin: -1px;\n  overflow: hidden;\n  padding: 0;\n  position: absolute;\n  width: 1px;\n}\n\n#sk-container-id-1 div.sk-dashed-wrapped {\n  border: 1px dashed var(--sklearn-color-line);\n  margin: 0 0.4em 0.5em 0.4em;\n  box-sizing: border-box;\n  padding-bottom: 0.4em;\n  background-color: var(--sklearn-color-background);\n}\n\n#sk-container-id-1 div.sk-container {\n  /* jupyter's `normalize.less` sets `[hidden] { display: none; }`\n     but bootstrap.min.css set `[hidden] { display: none !important; }`\n     so we also need the `!important` here to be able to override the\n     default hidden behavior on the sphinx rendered scikit-learn.org.\n     See: https://github.com/scikit-learn/scikit-learn/issues/21755 */\n  display: inline-block !important;\n  position: relative;\n}\n\n#sk-container-id-1 div.sk-text-repr-fallback {\n  display: none;\n}\n\ndiv.sk-parallel-item,\ndiv.sk-serial,\ndiv.sk-item {\n  /* draw centered vertical line to link estimators */\n  background-image: linear-gradient(var(--sklearn-color-text-on-default-background), var(--sklearn-color-text-on-default-background));\n  background-size: 2px 100%;\n  background-repeat: no-repeat;\n  background-position: center center;\n}\n\n/* Parallel-specific style estimator block */\n\n#sk-container-id-1 div.sk-parallel-item::after {\n  content: \"\";\n  width: 100%;\n  border-bottom: 2px solid var(--sklearn-color-text-on-default-background);\n  flex-grow: 1;\n}\n\n#sk-container-id-1 div.sk-parallel {\n  display: flex;\n  align-items: stretch;\n  justify-content: center;\n  background-color: var(--sklearn-color-background);\n  position: relative;\n}\n\n#sk-container-id-1 div.sk-parallel-item {\n  display: flex;\n  flex-direction: column;\n}\n\n#sk-container-id-1 div.sk-parallel-item:first-child::after {\n  align-self: flex-end;\n  width: 50%;\n}\n\n#sk-container-id-1 div.sk-parallel-item:last-child::after {\n  align-self: flex-start;\n  width: 50%;\n}\n\n#sk-container-id-1 div.sk-parallel-item:only-child::after {\n  width: 0;\n}\n\n/* Serial-specific style estimator block */\n\n#sk-container-id-1 div.sk-serial {\n  display: flex;\n  flex-direction: column;\n  align-items: center;\n  background-color: var(--sklearn-color-background);\n  padding-right: 1em;\n  padding-left: 1em;\n}\n\n\n/* Toggleable style: style used for estimator/Pipeline/ColumnTransformer box that is\nclickable and can be expanded/collapsed.\n- Pipeline and ColumnTransformer use this feature and define the default style\n- Estimators will overwrite some part of the style using the `sk-estimator` class\n*/\n\n/* Pipeline and ColumnTransformer style (default) */\n\n#sk-container-id-1 div.sk-toggleable {\n  /* Default theme specific background. It is overwritten whether we have a\n  specific estimator or a Pipeline/ColumnTransformer */\n  background-color: var(--sklearn-color-background);\n}\n\n/* Toggleable label */\n#sk-container-id-1 label.sk-toggleable__label {\n  cursor: pointer;\n  display: block;\n  width: 100%;\n  margin-bottom: 0;\n  padding: 0.5em;\n  box-sizing: border-box;\n  text-align: center;\n}\n\n#sk-container-id-1 label.sk-toggleable__label-arrow:before {\n  /* Arrow on the left of the label */\n  content: \"▸\";\n  float: left;\n  margin-right: 0.25em;\n  color: var(--sklearn-color-icon);\n}\n\n#sk-container-id-1 label.sk-toggleable__label-arrow:hover:before {\n  color: var(--sklearn-color-text);\n}\n\n/* Toggleable content - dropdown */\n\n#sk-container-id-1 div.sk-toggleable__content {\n  max-height: 0;\n  max-width: 0;\n  overflow: hidden;\n  text-align: left;\n  /* unfitted */\n  background-color: var(--sklearn-color-unfitted-level-0);\n}\n\n#sk-container-id-1 div.sk-toggleable__content.fitted {\n  /* fitted */\n  background-color: var(--sklearn-color-fitted-level-0);\n}\n\n#sk-container-id-1 div.sk-toggleable__content pre {\n  margin: 0.2em;\n  border-radius: 0.25em;\n  color: var(--sklearn-color-text);\n  /* unfitted */\n  background-color: var(--sklearn-color-unfitted-level-0);\n}\n\n#sk-container-id-1 div.sk-toggleable__content.fitted pre {\n  /* unfitted */\n  background-color: var(--sklearn-color-fitted-level-0);\n}\n\n#sk-container-id-1 input.sk-toggleable__control:checked~div.sk-toggleable__content {\n  /* Expand drop-down */\n  max-height: 200px;\n  max-width: 100%;\n  overflow: auto;\n}\n\n#sk-container-id-1 input.sk-toggleable__control:checked~label.sk-toggleable__label-arrow:before {\n  content: \"▾\";\n}\n\n/* Pipeline/ColumnTransformer-specific style */\n\n#sk-container-id-1 div.sk-label input.sk-toggleable__control:checked~label.sk-toggleable__label {\n  color: var(--sklearn-color-text);\n  background-color: var(--sklearn-color-unfitted-level-2);\n}\n\n#sk-container-id-1 div.sk-label.fitted input.sk-toggleable__control:checked~label.sk-toggleable__label {\n  background-color: var(--sklearn-color-fitted-level-2);\n}\n\n/* Estimator-specific style */\n\n/* Colorize estimator box */\n#sk-container-id-1 div.sk-estimator input.sk-toggleable__control:checked~label.sk-toggleable__label {\n  /* unfitted */\n  background-color: var(--sklearn-color-unfitted-level-2);\n}\n\n#sk-container-id-1 div.sk-estimator.fitted input.sk-toggleable__control:checked~label.sk-toggleable__label {\n  /* fitted */\n  background-color: var(--sklearn-color-fitted-level-2);\n}\n\n#sk-container-id-1 div.sk-label label.sk-toggleable__label,\n#sk-container-id-1 div.sk-label label {\n  /* The background is the default theme color */\n  color: var(--sklearn-color-text-on-default-background);\n}\n\n/* On hover, darken the color of the background */\n#sk-container-id-1 div.sk-label:hover label.sk-toggleable__label {\n  color: var(--sklearn-color-text);\n  background-color: var(--sklearn-color-unfitted-level-2);\n}\n\n/* Label box, darken color on hover, fitted */\n#sk-container-id-1 div.sk-label.fitted:hover label.sk-toggleable__label.fitted {\n  color: var(--sklearn-color-text);\n  background-color: var(--sklearn-color-fitted-level-2);\n}\n\n/* Estimator label */\n\n#sk-container-id-1 div.sk-label label {\n  font-family: monospace;\n  font-weight: bold;\n  display: inline-block;\n  line-height: 1.2em;\n}\n\n#sk-container-id-1 div.sk-label-container {\n  text-align: center;\n}\n\n/* Estimator-specific */\n#sk-container-id-1 div.sk-estimator {\n  font-family: monospace;\n  border: 1px dotted var(--sklearn-color-border-box);\n  border-radius: 0.25em;\n  box-sizing: border-box;\n  margin-bottom: 0.5em;\n  /* unfitted */\n  background-color: var(--sklearn-color-unfitted-level-0);\n}\n\n#sk-container-id-1 div.sk-estimator.fitted {\n  /* fitted */\n  background-color: var(--sklearn-color-fitted-level-0);\n}\n\n/* on hover */\n#sk-container-id-1 div.sk-estimator:hover {\n  /* unfitted */\n  background-color: var(--sklearn-color-unfitted-level-2);\n}\n\n#sk-container-id-1 div.sk-estimator.fitted:hover {\n  /* fitted */\n  background-color: var(--sklearn-color-fitted-level-2);\n}\n\n/* Specification for estimator info (e.g. \"i\" and \"?\") */\n\n/* Common style for \"i\" and \"?\" */\n\n.sk-estimator-doc-link,\na:link.sk-estimator-doc-link,\na:visited.sk-estimator-doc-link {\n  float: right;\n  font-size: smaller;\n  line-height: 1em;\n  font-family: monospace;\n  background-color: var(--sklearn-color-background);\n  border-radius: 1em;\n  height: 1em;\n  width: 1em;\n  text-decoration: none !important;\n  margin-left: 1ex;\n  /* unfitted */\n  border: var(--sklearn-color-unfitted-level-1) 1pt solid;\n  color: var(--sklearn-color-unfitted-level-1);\n}\n\n.sk-estimator-doc-link.fitted,\na:link.sk-estimator-doc-link.fitted,\na:visited.sk-estimator-doc-link.fitted {\n  /* fitted */\n  border: var(--sklearn-color-fitted-level-1) 1pt solid;\n  color: var(--sklearn-color-fitted-level-1);\n}\n\n/* On hover */\ndiv.sk-estimator:hover .sk-estimator-doc-link:hover,\n.sk-estimator-doc-link:hover,\ndiv.sk-label-container:hover .sk-estimator-doc-link:hover,\n.sk-estimator-doc-link:hover {\n  /* unfitted */\n  background-color: var(--sklearn-color-unfitted-level-3);\n  color: var(--sklearn-color-background);\n  text-decoration: none;\n}\n\ndiv.sk-estimator.fitted:hover .sk-estimator-doc-link.fitted:hover,\n.sk-estimator-doc-link.fitted:hover,\ndiv.sk-label-container:hover .sk-estimator-doc-link.fitted:hover,\n.sk-estimator-doc-link.fitted:hover {\n  /* fitted */\n  background-color: var(--sklearn-color-fitted-level-3);\n  color: var(--sklearn-color-background);\n  text-decoration: none;\n}\n\n/* Span, style for the box shown on hovering the info icon */\n.sk-estimator-doc-link span {\n  display: none;\n  z-index: 9999;\n  position: relative;\n  font-weight: normal;\n  right: .2ex;\n  padding: .5ex;\n  margin: .5ex;\n  width: min-content;\n  min-width: 20ex;\n  max-width: 50ex;\n  color: var(--sklearn-color-text);\n  box-shadow: 2pt 2pt 4pt #999;\n  /* unfitted */\n  background: var(--sklearn-color-unfitted-level-0);\n  border: .5pt solid var(--sklearn-color-unfitted-level-3);\n}\n\n.sk-estimator-doc-link.fitted span {\n  /* fitted */\n  background: var(--sklearn-color-fitted-level-0);\n  border: var(--sklearn-color-fitted-level-3);\n}\n\n.sk-estimator-doc-link:hover span {\n  display: block;\n}\n\n/* \"?\"-specific style due to the `<a>` HTML tag */\n\n#sk-container-id-1 a.estimator_doc_link {\n  float: right;\n  font-size: 1rem;\n  line-height: 1em;\n  font-family: monospace;\n  background-color: var(--sklearn-color-background);\n  border-radius: 1rem;\n  height: 1rem;\n  width: 1rem;\n  text-decoration: none;\n  /* unfitted */\n  color: var(--sklearn-color-unfitted-level-1);\n  border: var(--sklearn-color-unfitted-level-1) 1pt solid;\n}\n\n#sk-container-id-1 a.estimator_doc_link.fitted {\n  /* fitted */\n  border: var(--sklearn-color-fitted-level-1) 1pt solid;\n  color: var(--sklearn-color-fitted-level-1);\n}\n\n/* On hover */\n#sk-container-id-1 a.estimator_doc_link:hover {\n  /* unfitted */\n  background-color: var(--sklearn-color-unfitted-level-3);\n  color: var(--sklearn-color-background);\n  text-decoration: none;\n}\n\n#sk-container-id-1 a.estimator_doc_link.fitted:hover {\n  /* fitted */\n  background-color: var(--sklearn-color-fitted-level-3);\n}\n</style><div id=\"sk-container-id-1\" class=\"sk-top-container\"><div class=\"sk-text-repr-fallback\"><pre>Lasso(alpha=0.0001)</pre><b>In a Jupyter environment, please rerun this cell to show the HTML representation or trust the notebook. <br />On GitHub, the HTML representation is unable to render, please try loading this page with nbviewer.org.</b></div><div class=\"sk-container\" hidden><div class=\"sk-item\"><div class=\"sk-estimator fitted sk-toggleable\"><input class=\"sk-toggleable__control sk-hidden--visually\" id=\"sk-estimator-id-1\" type=\"checkbox\" checked><label for=\"sk-estimator-id-1\" class=\"sk-toggleable__label fitted sk-toggleable__label-arrow fitted\">&nbsp;&nbsp;Lasso<a class=\"sk-estimator-doc-link fitted\" rel=\"noreferrer\" target=\"_blank\" href=\"https://scikit-learn.org/1.4/modules/generated/sklearn.linear_model.Lasso.html\">?<span>Documentation for Lasso</span></a><span class=\"sk-estimator-doc-link fitted\">i<span>Fitted</span></span></label><div class=\"sk-toggleable__content fitted\"><pre>Lasso(alpha=0.0001)</pre></div> </div></div></div></div>",
            "text/plain": "Lasso(alpha=0.0001)"
          },
          "metadata": {}
        }
      ],
      "execution_count": 40,
      "metadata": {}
    },
    {
      "cell_type": "code",
      "source": [
        "# Імпортуємо DataFrame для зовнішнього оцінювання\n",
        "test = pd.read_csv('predict.csv')\n",
        "\n",
        "\n",
        "# Функція яка приведе зовнішній датасет до вигляду, який приймає рішаюча модель\n",
        "def transform_test_data(model,test):\n",
        "    \n",
        "    \n",
        "    if model in Models_num:\n",
        "        test_X_num_mean_strategy = pd.DataFrame(SimpleImputer(strategy='mean').fit_transform(test[nums_features]))\n",
        "        test = QuantileTransformer().fit_transform(test_X_num_mean_strategy)\n",
        "        prediction = model.predict(test)\n",
        "        return prediction\n",
        "    \n",
        "    \n",
        "    else:\n",
        "        from sklearn.compose import make_column_transformer\n",
        "        from sklearn.preprocessing import OneHotEncoder,OrdinalEncoder\n",
        "\n",
        "        text_features_test = [i for i in test.columns if type(test[i][0]) == str]\n",
        "        nums_features_test = [i for i in test.columns if i not in text_features]\n",
        "        columns_ohe_test = make_column_transformer(\n",
        "            ( OneHotEncoder(handle_unknown='ignore',sparse_output=False) ,text_features_test),\n",
        "            remainder = 'passthrough'\n",
        "        ).set_output(transform='pandas')\n",
        "        test = columns_ohe_test.fit_transform(test)\n",
        "        test = pd.DataFrame(SimpleImputer(strategy='mean').fit_transform(test))\n",
        "        test = QuantileTransformer().fit_transform(test)\n",
        "        prediction = model.predict(test)\n",
        "        return prediction\n",
        "\n",
        "\n",
        "best_reg_model_predictions =  transform_test_data(optimal_model,test)\n",
        "\n",
        "\n",
        "\n",
        "pd.Series(best_reg_model_predictions).to_csv('predictions_reg.csv')\n"
      ],
      "outputs": [],
      "execution_count": 41,
      "metadata": {}
    },
    {
      "cell_type": "markdown",
      "source": [
        "### Висновок задача регресіі\n",
        " Модель(з відповідними парамптрами) збережена у змінну optimal модель , має найкращий R2-score на відкладеній вибірці, а одже і є найкращою моделлю для вирішення задачі регресії."
      ],
      "metadata": {}
    },
    {
      "cell_type": "markdown",
      "source": [
        "### Завдання 6"
      ],
      "metadata": {}
    },
    {
      "cell_type": "markdown",
      "source": [
        "# Logistic Regressions"
      ],
      "metadata": {}
    },
    {
      "cell_type": "code",
      "source": [
        "\n",
        "from sklearn.metrics import accuracy_score\n",
        "from sklearn.linear_model import LogisticRegression\n",
        "from sklearn.model_selection import GridSearchCV\n",
        "\n",
        "\n",
        "cv = 3\n",
        "LogisticRegression = GridSearchCV(\n",
        "    estimator= LogisticRegression(),\n",
        "    param_grid= {'penalty': ['l1','l2','elasticnet'] , 'C' : np.logspace(-4,4,5), 'solver' : ['saga'],'max_iter' : [100,1000,2500,3000]},\n",
        "    cv = cv,\n",
        "    n_jobs= -1\n",
        ").fit(X_num_mean_for_train,y_num_for_train)\n",
        "\n",
        "\n",
        "LogisticRegression_X_num = pd.DataFrame(LogisticRegression.cv_results_).drop(columns=['mean_fit_time','std_fit_time','mean_score_time','std_score_time'])\n",
        "\n",
        "LogisticRegression_num_best_model = LogisticRegression.best_estimator_\n",
        "print(f'Accuracy для найкращої моделі з на відкладеній вибірці: {accuracy_score(y_num_for_validation,LogisticRegression_num_best_model.predict(X_num_mean_for_validation))}')"
      ],
      "outputs": [
        {
          "output_type": "stream",
          "name": "stderr",
          "text": "/Library/Frameworks/Python.framework/Versions/3.11/lib/python3.11/site-packages/sklearn/linear_model/_sag.py:350: ConvergenceWarning: The max_iter was reached which means the coef_ did not converge\n  warnings.warn(\n/Library/Frameworks/Python.framework/Versions/3.11/lib/python3.11/site-packages/sklearn/linear_model/_sag.py:350: ConvergenceWarning: The max_iter was reached which means the coef_ did not converge\n  warnings.warn(\n/Library/Frameworks/Python.framework/Versions/3.11/lib/python3.11/site-packages/sklearn/linear_model/_sag.py:350: ConvergenceWarning: The max_iter was reached which means the coef_ did not converge\n  warnings.warn(\n/Library/Frameworks/Python.framework/Versions/3.11/lib/python3.11/site-packages/sklearn/linear_model/_sag.py:350: ConvergenceWarning: The max_iter was reached which means the coef_ did not converge\n  warnings.warn(\n/Library/Frameworks/Python.framework/Versions/3.11/lib/python3.11/site-packages/sklearn/linear_model/_sag.py:350: ConvergenceWarning: The max_iter was reached which means the coef_ did not converge\n  warnings.warn(\n/Library/Frameworks/Python.framework/Versions/3.11/lib/python3.11/site-packages/sklearn/linear_model/_sag.py:350: ConvergenceWarning: The max_iter was reached which means the coef_ did not converge\n  warnings.warn(\n/Library/Frameworks/Python.framework/Versions/3.11/lib/python3.11/site-packages/sklearn/linear_model/_sag.py:350: ConvergenceWarning: The max_iter was reached which means the coef_ did not converge\n  warnings.warn(\n/Library/Frameworks/Python.framework/Versions/3.11/lib/python3.11/site-packages/sklearn/linear_model/_sag.py:350: ConvergenceWarning: The max_iter was reached which means the coef_ did not converge\n  warnings.warn(\n/Library/Frameworks/Python.framework/Versions/3.11/lib/python3.11/site-packages/sklearn/linear_model/_sag.py:350: ConvergenceWarning: The max_iter was reached which means the coef_ did not converge\n  warnings.warn(\n/Library/Frameworks/Python.framework/Versions/3.11/lib/python3.11/site-packages/sklearn/linear_model/_sag.py:350: ConvergenceWarning: The max_iter was reached which means the coef_ did not converge\n  warnings.warn(\n/Library/Frameworks/Python.framework/Versions/3.11/lib/python3.11/site-packages/sklearn/linear_model/_sag.py:350: ConvergenceWarning: The max_iter was reached which means the coef_ did not converge\n  warnings.warn(\n/Library/Frameworks/Python.framework/Versions/3.11/lib/python3.11/site-packages/sklearn/linear_model/_sag.py:350: ConvergenceWarning: The max_iter was reached which means the coef_ did not converge\n  warnings.warn(\n/Library/Frameworks/Python.framework/Versions/3.11/lib/python3.11/site-packages/sklearn/linear_model/_sag.py:350: ConvergenceWarning: The max_iter was reached which means the coef_ did not converge\n  warnings.warn(\n/Library/Frameworks/Python.framework/Versions/3.11/lib/python3.11/site-packages/sklearn/linear_model/_sag.py:350: ConvergenceWarning: The max_iter was reached which means the coef_ did not converge\n  warnings.warn(\n/Library/Frameworks/Python.framework/Versions/3.11/lib/python3.11/site-packages/sklearn/linear_model/_sag.py:350: ConvergenceWarning: The max_iter was reached which means the coef_ did not converge\n  warnings.warn(\n/Library/Frameworks/Python.framework/Versions/3.11/lib/python3.11/site-packages/sklearn/linear_model/_sag.py:350: ConvergenceWarning: The max_iter was reached which means the coef_ did not converge\n  warnings.warn(\n/Library/Frameworks/Python.framework/Versions/3.11/lib/python3.11/site-packages/sklearn/linear_model/_sag.py:350: ConvergenceWarning: The max_iter was reached which means the coef_ did not converge\n  warnings.warn(\n/Library/Frameworks/Python.framework/Versions/3.11/lib/python3.11/site-packages/sklearn/linear_model/_sag.py:350: ConvergenceWarning: The max_iter was reached which means the coef_ did not converge\n  warnings.warn(\n/Library/Frameworks/Python.framework/Versions/3.11/lib/python3.11/site-packages/sklearn/linear_model/_sag.py:350: ConvergenceWarning: The max_iter was reached which means the coef_ did not converge\n  warnings.warn(\n/Library/Frameworks/Python.framework/Versions/3.11/lib/python3.11/site-packages/sklearn/linear_model/_sag.py:350: ConvergenceWarning: The max_iter was reached which means the coef_ did not converge\n  warnings.warn(\n/Library/Frameworks/Python.framework/Versions/3.11/lib/python3.11/site-packages/sklearn/linear_model/_sag.py:350: ConvergenceWarning: The max_iter was reached which means the coef_ did not converge\n  warnings.warn(\n/Library/Frameworks/Python.framework/Versions/3.11/lib/python3.11/site-packages/sklearn/linear_model/_sag.py:350: ConvergenceWarning: The max_iter was reached which means the coef_ did not converge\n  warnings.warn(\n/Library/Frameworks/Python.framework/Versions/3.11/lib/python3.11/site-packages/sklearn/linear_model/_sag.py:350: ConvergenceWarning: The max_iter was reached which means the coef_ did not converge\n  warnings.warn(\n/Library/Frameworks/Python.framework/Versions/3.11/lib/python3.11/site-packages/sklearn/linear_model/_sag.py:350: ConvergenceWarning: The max_iter was reached which means the coef_ did not converge\n  warnings.warn(\n/Library/Frameworks/Python.framework/Versions/3.11/lib/python3.11/site-packages/sklearn/linear_model/_sag.py:350: ConvergenceWarning: The max_iter was reached which means the coef_ did not converge\n  warnings.warn(\n/Library/Frameworks/Python.framework/Versions/3.11/lib/python3.11/site-packages/sklearn/linear_model/_sag.py:350: ConvergenceWarning: The max_iter was reached which means the coef_ did not converge\n  warnings.warn(\n/Library/Frameworks/Python.framework/Versions/3.11/lib/python3.11/site-packages/sklearn/linear_model/_sag.py:350: ConvergenceWarning: The max_iter was reached which means the coef_ did not converge\n  warnings.warn(\n/Library/Frameworks/Python.framework/Versions/3.11/lib/python3.11/site-packages/sklearn/linear_model/_sag.py:350: ConvergenceWarning: The max_iter was reached which means the coef_ did not converge\n  warnings.warn(\n/Library/Frameworks/Python.framework/Versions/3.11/lib/python3.11/site-packages/sklearn/linear_model/_sag.py:350: ConvergenceWarning: The max_iter was reached which means the coef_ did not converge\n  warnings.warn(\n/Library/Frameworks/Python.framework/Versions/3.11/lib/python3.11/site-packages/sklearn/linear_model/_sag.py:350: ConvergenceWarning: The max_iter was reached which means the coef_ did not converge\n  warnings.warn(\n/Library/Frameworks/Python.framework/Versions/3.11/lib/python3.11/site-packages/sklearn/linear_model/_sag.py:350: ConvergenceWarning: The max_iter was reached which means the coef_ did not converge\n  warnings.warn(\n/Library/Frameworks/Python.framework/Versions/3.11/lib/python3.11/site-packages/sklearn/linear_model/_sag.py:350: ConvergenceWarning: The max_iter was reached which means the coef_ did not converge\n  warnings.warn(\n/Library/Frameworks/Python.framework/Versions/3.11/lib/python3.11/site-packages/sklearn/linear_model/_sag.py:350: ConvergenceWarning: The max_iter was reached which means the coef_ did not converge\n  warnings.warn(\n/Library/Frameworks/Python.framework/Versions/3.11/lib/python3.11/site-packages/sklearn/linear_model/_sag.py:350: ConvergenceWarning: The max_iter was reached which means the coef_ did not converge\n  warnings.warn(\n/Library/Frameworks/Python.framework/Versions/3.11/lib/python3.11/site-packages/sklearn/linear_model/_sag.py:350: ConvergenceWarning: The max_iter was reached which means the coef_ did not converge\n  warnings.warn(\n/Library/Frameworks/Python.framework/Versions/3.11/lib/python3.11/site-packages/sklearn/linear_model/_sag.py:350: ConvergenceWarning: The max_iter was reached which means the coef_ did not converge\n  warnings.warn(\n/Library/Frameworks/Python.framework/Versions/3.11/lib/python3.11/site-packages/sklearn/linear_model/_sag.py:350: ConvergenceWarning: The max_iter was reached which means the coef_ did not converge\n  warnings.warn(\n/Library/Frameworks/Python.framework/Versions/3.11/lib/python3.11/site-packages/sklearn/linear_model/_sag.py:350: ConvergenceWarning: The max_iter was reached which means the coef_ did not converge\n  warnings.warn(\n/Library/Frameworks/Python.framework/Versions/3.11/lib/python3.11/site-packages/sklearn/linear_model/_sag.py:350: ConvergenceWarning: The max_iter was reached which means the coef_ did not converge\n  warnings.warn(\n/Library/Frameworks/Python.framework/Versions/3.11/lib/python3.11/site-packages/sklearn/linear_model/_sag.py:350: ConvergenceWarning: The max_iter was reached which means the coef_ did not converge\n  warnings.warn(\n/Library/Frameworks/Python.framework/Versions/3.11/lib/python3.11/site-packages/sklearn/model_selection/_validation.py:547: FitFailedWarning: \n60 fits failed out of a total of 180.\nThe score on these train-test partitions for these parameters will be set to nan.\nIf these failures are not expected, you can try to debug them by setting error_score='raise'.\n\nBelow are more details about the failures:\n--------------------------------------------------------------------------------\n60 fits failed with the following error:\nTraceback (most recent call last):\n  File \"/Library/Frameworks/Python.framework/Versions/3.11/lib/python3.11/site-packages/sklearn/model_selection/_validation.py\", line 895, in _fit_and_score\n    estimator.fit(X_train, y_train, **fit_params)\n  File \"/Library/Frameworks/Python.framework/Versions/3.11/lib/python3.11/site-packages/sklearn/base.py\", line 1474, in wrapper\n    return fit_method(estimator, *args, **kwargs)\n           ^^^^^^^^^^^^^^^^^^^^^^^^^^^^^^^^^^^^^^\n  File \"/Library/Frameworks/Python.framework/Versions/3.11/lib/python3.11/site-packages/sklearn/linear_model/_logistic.py\", line 1182, in fit\n    raise ValueError(\"l1_ratio must be specified when penalty is elasticnet.\")\nValueError: l1_ratio must be specified when penalty is elasticnet.\n\n  warnings.warn(some_fits_failed_message, FitFailedWarning)\n/Library/Frameworks/Python.framework/Versions/3.11/lib/python3.11/site-packages/sklearn/model_selection/_search.py:1051: UserWarning: One or more of the test scores are non-finite: [0.74608059 0.74608059        nan 0.74608059 0.74608059        nan\n 0.74608059 0.74608059        nan 0.74608059 0.74608059        nan\n 0.91831502 0.9170696         nan 0.91831502 0.9170696         nan\n 0.91831502 0.9170696         nan 0.91831502 0.9170696         nan\n 0.91428571 0.91472527        nan 0.91428571 0.91472527        nan\n 0.91428571 0.91472527        nan 0.91428571 0.91472527        nan\n 0.91494505 0.91479853        nan 0.91472527 0.91472527        nan\n 0.91472527 0.91472527        nan 0.91472527 0.91472527        nan\n 0.91494505 0.91494505        nan 0.91472527 0.91472527        nan\n 0.91465201 0.91465201        nan 0.91465201 0.91465201        nan]\n  warnings.warn(\n"
        },
        {
          "output_type": "stream",
          "name": "stdout",
          "text": "Accuracy для найкращої моделі з на відкладеній вибірці: 0.9196581196581196\n"
        }
      ],
      "execution_count": 42,
      "metadata": {}
    },
    {
      "cell_type": "code",
      "source": [
        "\n",
        "from sklearn.metrics import accuracy_score\n",
        "from sklearn.linear_model import LogisticRegression\n",
        "from sklearn.model_selection import GridSearchCV\n",
        "\n",
        "\n",
        "cv = 3\n",
        "LogisticRegression_ohe = GridSearchCV(\n",
        "    estimator= LogisticRegression(),\n",
        "    param_grid= {'penalty': ['l1','l2','elasticnet'] , 'C' : np.logspace(-4,4,5), 'solver' : ['saga'],'max_iter' : [100,1000,2500,3000]},\n",
        "    cv = cv,\n",
        "    n_jobs= -1\n",
        ").fit(X_ohe_mean_for_train,y_ohe_for_train)\n",
        "\n",
        "\n",
        "LogisticRegression_X_ohe = pd.DataFrame(LogisticRegression_ohe.cv_results_).drop(columns=['mean_fit_time','std_fit_time','mean_score_time','std_score_time'])\n",
        "\n",
        "LogisticRegression_ohe_best_model = LogisticRegression_ohe.best_estimator_\n",
        "print(f'Accuracy для найкращої моделі з на відкладеній вибірці: {accuracy_score(y_ohe_for_validation,LogisticRegression_ohe_best_model.predict(X_ohe_mean_for_validation))}')"
      ],
      "outputs": [
        {
          "output_type": "stream",
          "name": "stderr",
          "text": "/Library/Frameworks/Python.framework/Versions/3.11/lib/python3.11/site-packages/sklearn/linear_model/_sag.py:350: ConvergenceWarning: The max_iter was reached which means the coef_ did not converge\n  warnings.warn(\n/Library/Frameworks/Python.framework/Versions/3.11/lib/python3.11/site-packages/sklearn/linear_model/_sag.py:350: ConvergenceWarning: The max_iter was reached which means the coef_ did not converge\n  warnings.warn(\n/Library/Frameworks/Python.framework/Versions/3.11/lib/python3.11/site-packages/sklearn/linear_model/_sag.py:350: ConvergenceWarning: The max_iter was reached which means the coef_ did not converge\n  warnings.warn(\n/Library/Frameworks/Python.framework/Versions/3.11/lib/python3.11/site-packages/sklearn/linear_model/_sag.py:350: ConvergenceWarning: The max_iter was reached which means the coef_ did not converge\n  warnings.warn(\n/Library/Frameworks/Python.framework/Versions/3.11/lib/python3.11/site-packages/sklearn/linear_model/_sag.py:350: ConvergenceWarning: The max_iter was reached which means the coef_ did not converge\n  warnings.warn(\n/Library/Frameworks/Python.framework/Versions/3.11/lib/python3.11/site-packages/sklearn/linear_model/_sag.py:350: ConvergenceWarning: The max_iter was reached which means the coef_ did not converge\n  warnings.warn(\n/Library/Frameworks/Python.framework/Versions/3.11/lib/python3.11/site-packages/sklearn/linear_model/_sag.py:350: ConvergenceWarning: The max_iter was reached which means the coef_ did not converge\n  warnings.warn(\n/Library/Frameworks/Python.framework/Versions/3.11/lib/python3.11/site-packages/sklearn/linear_model/_sag.py:350: ConvergenceWarning: The max_iter was reached which means the coef_ did not converge\n  warnings.warn(\n/Library/Frameworks/Python.framework/Versions/3.11/lib/python3.11/site-packages/sklearn/linear_model/_sag.py:350: ConvergenceWarning: The max_iter was reached which means the coef_ did not converge\n  warnings.warn(\n/Library/Frameworks/Python.framework/Versions/3.11/lib/python3.11/site-packages/sklearn/linear_model/_sag.py:350: ConvergenceWarning: The max_iter was reached which means the coef_ did not converge\n  warnings.warn(\n/Library/Frameworks/Python.framework/Versions/3.11/lib/python3.11/site-packages/sklearn/linear_model/_sag.py:350: ConvergenceWarning: The max_iter was reached which means the coef_ did not converge\n  warnings.warn(\n/Library/Frameworks/Python.framework/Versions/3.11/lib/python3.11/site-packages/sklearn/linear_model/_sag.py:350: ConvergenceWarning: The max_iter was reached which means the coef_ did not converge\n  warnings.warn(\n/Library/Frameworks/Python.framework/Versions/3.11/lib/python3.11/site-packages/sklearn/linear_model/_sag.py:350: ConvergenceWarning: The max_iter was reached which means the coef_ did not converge\n  warnings.warn(\n/Library/Frameworks/Python.framework/Versions/3.11/lib/python3.11/site-packages/sklearn/linear_model/_sag.py:350: ConvergenceWarning: The max_iter was reached which means the coef_ did not converge\n  warnings.warn(\n/Library/Frameworks/Python.framework/Versions/3.11/lib/python3.11/site-packages/sklearn/linear_model/_sag.py:350: ConvergenceWarning: The max_iter was reached which means the coef_ did not converge\n  warnings.warn(\n/Library/Frameworks/Python.framework/Versions/3.11/lib/python3.11/site-packages/sklearn/linear_model/_sag.py:350: ConvergenceWarning: The max_iter was reached which means the coef_ did not converge\n  warnings.warn(\n/Library/Frameworks/Python.framework/Versions/3.11/lib/python3.11/site-packages/sklearn/linear_model/_sag.py:350: ConvergenceWarning: The max_iter was reached which means the coef_ did not converge\n  warnings.warn(\n/Library/Frameworks/Python.framework/Versions/3.11/lib/python3.11/site-packages/sklearn/linear_model/_sag.py:350: ConvergenceWarning: The max_iter was reached which means the coef_ did not converge\n  warnings.warn(\n/Library/Frameworks/Python.framework/Versions/3.11/lib/python3.11/site-packages/sklearn/linear_model/_sag.py:350: ConvergenceWarning: The max_iter was reached which means the coef_ did not converge\n  warnings.warn(\n/Library/Frameworks/Python.framework/Versions/3.11/lib/python3.11/site-packages/sklearn/linear_model/_sag.py:350: ConvergenceWarning: The max_iter was reached which means the coef_ did not converge\n  warnings.warn(\n/Library/Frameworks/Python.framework/Versions/3.11/lib/python3.11/site-packages/sklearn/linear_model/_sag.py:350: ConvergenceWarning: The max_iter was reached which means the coef_ did not converge\n  warnings.warn(\n/Library/Frameworks/Python.framework/Versions/3.11/lib/python3.11/site-packages/sklearn/linear_model/_sag.py:350: ConvergenceWarning: The max_iter was reached which means the coef_ did not converge\n  warnings.warn(\n/Library/Frameworks/Python.framework/Versions/3.11/lib/python3.11/site-packages/sklearn/linear_model/_sag.py:350: ConvergenceWarning: The max_iter was reached which means the coef_ did not converge\n  warnings.warn(\n/Library/Frameworks/Python.framework/Versions/3.11/lib/python3.11/site-packages/sklearn/linear_model/_sag.py:350: ConvergenceWarning: The max_iter was reached which means the coef_ did not converge\n  warnings.warn(\n/Library/Frameworks/Python.framework/Versions/3.11/lib/python3.11/site-packages/sklearn/linear_model/_sag.py:350: ConvergenceWarning: The max_iter was reached which means the coef_ did not converge\n  warnings.warn(\n/Library/Frameworks/Python.framework/Versions/3.11/lib/python3.11/site-packages/sklearn/linear_model/_sag.py:350: ConvergenceWarning: The max_iter was reached which means the coef_ did not converge\n  warnings.warn(\n/Library/Frameworks/Python.framework/Versions/3.11/lib/python3.11/site-packages/sklearn/linear_model/_sag.py:350: ConvergenceWarning: The max_iter was reached which means the coef_ did not converge\n  warnings.warn(\n/Library/Frameworks/Python.framework/Versions/3.11/lib/python3.11/site-packages/sklearn/linear_model/_sag.py:350: ConvergenceWarning: The max_iter was reached which means the coef_ did not converge\n  warnings.warn(\n/Library/Frameworks/Python.framework/Versions/3.11/lib/python3.11/site-packages/sklearn/linear_model/_sag.py:350: ConvergenceWarning: The max_iter was reached which means the coef_ did not converge\n  warnings.warn(\n/Library/Frameworks/Python.framework/Versions/3.11/lib/python3.11/site-packages/sklearn/linear_model/_sag.py:350: ConvergenceWarning: The max_iter was reached which means the coef_ did not converge\n  warnings.warn(\n/Library/Frameworks/Python.framework/Versions/3.11/lib/python3.11/site-packages/sklearn/linear_model/_sag.py:350: ConvergenceWarning: The max_iter was reached which means the coef_ did not converge\n  warnings.warn(\n/Library/Frameworks/Python.framework/Versions/3.11/lib/python3.11/site-packages/sklearn/linear_model/_sag.py:350: ConvergenceWarning: The max_iter was reached which means the coef_ did not converge\n  warnings.warn(\n/Library/Frameworks/Python.framework/Versions/3.11/lib/python3.11/site-packages/sklearn/linear_model/_sag.py:350: ConvergenceWarning: The max_iter was reached which means the coef_ did not converge\n  warnings.warn(\n/Library/Frameworks/Python.framework/Versions/3.11/lib/python3.11/site-packages/sklearn/linear_model/_sag.py:350: ConvergenceWarning: The max_iter was reached which means the coef_ did not converge\n  warnings.warn(\n/Library/Frameworks/Python.framework/Versions/3.11/lib/python3.11/site-packages/sklearn/linear_model/_sag.py:350: ConvergenceWarning: The max_iter was reached which means the coef_ did not converge\n  warnings.warn(\n/Library/Frameworks/Python.framework/Versions/3.11/lib/python3.11/site-packages/sklearn/linear_model/_sag.py:350: ConvergenceWarning: The max_iter was reached which means the coef_ did not converge\n  warnings.warn(\n/Library/Frameworks/Python.framework/Versions/3.11/lib/python3.11/site-packages/sklearn/linear_model/_sag.py:350: ConvergenceWarning: The max_iter was reached which means the coef_ did not converge\n  warnings.warn(\n/Library/Frameworks/Python.framework/Versions/3.11/lib/python3.11/site-packages/sklearn/linear_model/_sag.py:350: ConvergenceWarning: The max_iter was reached which means the coef_ did not converge\n  warnings.warn(\n/Library/Frameworks/Python.framework/Versions/3.11/lib/python3.11/site-packages/sklearn/linear_model/_sag.py:350: ConvergenceWarning: The max_iter was reached which means the coef_ did not converge\n  warnings.warn(\n/Library/Frameworks/Python.framework/Versions/3.11/lib/python3.11/site-packages/sklearn/linear_model/_sag.py:350: ConvergenceWarning: The max_iter was reached which means the coef_ did not converge\n  warnings.warn(\n/Library/Frameworks/Python.framework/Versions/3.11/lib/python3.11/site-packages/sklearn/linear_model/_sag.py:350: ConvergenceWarning: The max_iter was reached which means the coef_ did not converge\n  warnings.warn(\n/Library/Frameworks/Python.framework/Versions/3.11/lib/python3.11/site-packages/sklearn/linear_model/_sag.py:350: ConvergenceWarning: The max_iter was reached which means the coef_ did not converge\n  warnings.warn(\n/Library/Frameworks/Python.framework/Versions/3.11/lib/python3.11/site-packages/sklearn/linear_model/_sag.py:350: ConvergenceWarning: The max_iter was reached which means the coef_ did not converge\n  warnings.warn(\n/Library/Frameworks/Python.framework/Versions/3.11/lib/python3.11/site-packages/sklearn/model_selection/_validation.py:547: FitFailedWarning: \n60 fits failed out of a total of 180.\nThe score on these train-test partitions for these parameters will be set to nan.\nIf these failures are not expected, you can try to debug them by setting error_score='raise'.\n\nBelow are more details about the failures:\n--------------------------------------------------------------------------------\n60 fits failed with the following error:\nTraceback (most recent call last):\n  File \"/Library/Frameworks/Python.framework/Versions/3.11/lib/python3.11/site-packages/sklearn/model_selection/_validation.py\", line 895, in _fit_and_score\n    estimator.fit(X_train, y_train, **fit_params)\n  File \"/Library/Frameworks/Python.framework/Versions/3.11/lib/python3.11/site-packages/sklearn/base.py\", line 1474, in wrapper\n    return fit_method(estimator, *args, **kwargs)\n           ^^^^^^^^^^^^^^^^^^^^^^^^^^^^^^^^^^^^^^\n  File \"/Library/Frameworks/Python.framework/Versions/3.11/lib/python3.11/site-packages/sklearn/linear_model/_logistic.py\", line 1182, in fit\n    raise ValueError(\"l1_ratio must be specified when penalty is elasticnet.\")\nValueError: l1_ratio must be specified when penalty is elasticnet.\n\n  warnings.warn(some_fits_failed_message, FitFailedWarning)\n/Library/Frameworks/Python.framework/Versions/3.11/lib/python3.11/site-packages/sklearn/model_selection/_search.py:1051: UserWarning: One or more of the test scores are non-finite: [0.74608059 0.74608059        nan 0.74608059 0.74608059        nan\n 0.74608059 0.74608059        nan 0.74608059 0.74608059        nan\n 0.91831502 0.91677656        nan 0.91831502 0.91677656        nan\n 0.91831502 0.91677656        nan 0.91831502 0.91677656        nan\n 0.91802198 0.91758242        nan 0.91794872 0.91758242        nan\n 0.91794872 0.91758242        nan 0.91794872 0.91758242        nan\n 0.91802198 0.9181685         nan 0.9181685  0.91824176        nan\n 0.9181685  0.91824176        nan 0.91824176 0.91824176        nan\n 0.91809524 0.91809524        nan 0.91809524 0.91809524        nan\n 0.91802198 0.91802198        nan 0.91809524 0.91809524        nan]\n  warnings.warn(\n"
        },
        {
          "output_type": "stream",
          "name": "stdout",
          "text": "Accuracy для найкращої моделі з на відкладеній вибірці: 0.9196581196581196\n"
        }
      ],
      "execution_count": 43,
      "metadata": {}
    },
    {
      "cell_type": "markdown",
      "source": [
        "### SVC"
      ],
      "metadata": {}
    },
    {
      "cell_type": "code",
      "source": [
        "from sklearn.svm import SVC\n",
        "\n",
        "from sklearn.metrics import accuracy_score\n",
        "SVC_X_num = GridSearchCV(\n",
        "    estimator = SVC(),\n",
        "    param_grid= {'kernel':['linear', 'poly', 'rbf', 'sigmoid'],'gamma':['scale','auto']},\n",
        "    cv=cv,\n",
        "    n_jobs=-1\n",
        ").fit(X_num_mean_for_train,y_num_for_train)\n",
        "\n",
        "\n",
        "SVC_X_num_cv_results = pd.DataFrame(SVC_X_num.cv_results_)\n",
        "\n",
        "SVC_X_num = SVC_X_num.best_estimator_\n",
        "\n",
        "\n",
        "\n",
        "SVC_X_num_score = accuracy_score(y_num_for_validation,SVC_X_num.predict(X_num_median_for_validation))\n",
        "\n",
        "\n",
        "SVC_X_num_score"
      ],
      "outputs": [
        {
          "output_type": "execute_result",
          "execution_count": 44,
          "data": {
            "text/plain": "0.9188034188034188"
          },
          "metadata": {}
        }
      ],
      "execution_count": 44,
      "metadata": {}
    },
    {
      "cell_type": "code",
      "source": [
        "from sklearn.svm import SVC\n",
        "from sklearn.metrics import accuracy_score\n",
        "\n",
        "SVC_X_ohe = GridSearchCV(\n",
        "    estimator = SVC(),\n",
        "    param_grid= {'kernel':['linear', 'poly', 'rbf', 'sigmoid'],'gamma':['scale','auto']},\n",
        "    cv=cv,\n",
        "    n_jobs=-1\n",
        ").fit(X_ohe_mean_for_train,y_ohe_for_train)\n",
        "\n",
        "\n",
        "SVC_X_ohe_cv_results = pd.DataFrame(SVC_X_ohe.cv_results_)\n",
        "\n",
        "SVC_X_ohe = SVC_X_ohe.best_estimator_\n",
        "\n",
        "\n",
        "\n",
        "SVC_X_ohe_score = accuracy_score(y_ohe_for_validation,SVC_X_ohe.predict(X_ohe_median_for_validation))\n",
        "\n",
        "\n",
        "SVC_X_ohe_score"
      ],
      "outputs": [
        {
          "output_type": "execute_result",
          "execution_count": 45,
          "data": {
            "text/plain": "0.9218803418803418"
          },
          "metadata": {}
        }
      ],
      "execution_count": 45,
      "metadata": {}
    },
    {
      "cell_type": "markdown",
      "source": [
        "### KNC"
      ],
      "metadata": {}
    },
    {
      "cell_type": "markdown",
      "source": [],
      "metadata": {}
    },
    {
      "cell_type": "code",
      "source": [
        "from sklearn.neighbors import KNeighborsClassifier\n",
        "from sklearn.metrics import accuracy_score\n",
        "\n",
        "KNC_X_ohe = GridSearchCV(\n",
        "    estimator = KNeighborsClassifier(),\n",
        "    param_grid= {'weights':['uniform', 'distance'],'algorithm':['ball_tree','auto','kd_tree','brute']},\n",
        "    cv=cv,\n",
        "    n_jobs=-1\n",
        ").fit(X_ohe_mean_for_train,y_ohe_for_train)\n",
        "\n",
        "\n",
        "KNC_X_ohe_cv_results = pd.DataFrame(KNC_X_ohe.cv_results_)\n",
        "\n",
        "KNC_X_ohe = KNC_X_ohe.best_estimator_\n",
        "\n",
        "\n",
        "\n",
        "KNC_X_ohe_score = accuracy_score(y_ohe_for_validation,KNC_X_ohe.predict(X_ohe_mean_for_validation))\n",
        "\n",
        "\n",
        "KNC_X_ohe_score"
      ],
      "outputs": [
        {
          "output_type": "execute_result",
          "execution_count": 46,
          "data": {
            "text/plain": "0.9025641025641026"
          },
          "metadata": {}
        }
      ],
      "execution_count": 46,
      "metadata": {}
    },
    {
      "cell_type": "code",
      "source": [
        "from sklearn.neighbors import KNeighborsClassifier\n",
        "from sklearn.metrics import accuracy_score\n",
        "\n",
        "KNC_X_num = GridSearchCV(\n",
        "    estimator = KNeighborsClassifier(),\n",
        "    param_grid= {'weights':['uniform', 'distance'],'algorithm':['ball_tree','auto','kd_tree','brute']},\n",
        "    cv=cv,\n",
        "    n_jobs=-1\n",
        ").fit(X_num_mean_for_train,y_num_for_train)\n",
        "\n",
        "\n",
        "KNC_X_num_cv_results = pd.DataFrame(KNC_X_num.cv_results_)\n",
        "\n",
        "KNC_X_num = KNC_X_num.best_estimator_\n",
        "\n",
        "\n",
        "\n",
        "KNC_X_num_score = accuracy_score(y_num_for_validation,KNC_X_num.predict(X_num_mean_for_validation))\n",
        "\n",
        "\n",
        "KNC_X_num_score"
      ],
      "outputs": [
        {
          "output_type": "execute_result",
          "execution_count": 47,
          "data": {
            "text/plain": "0.9092307692307692"
          },
          "metadata": {}
        }
      ],
      "execution_count": 47,
      "metadata": {}
    },
    {
      "cell_type": "markdown",
      "source": [
        "### DTC"
      ],
      "metadata": {}
    },
    {
      "cell_type": "code",
      "source": [
        "from sklearn.tree import DecisionTreeClassifier\n",
        "from sklearn.metrics import accuracy_score\n",
        "\n",
        "DTC_X_ohe = GridSearchCV(\n",
        "    estimator = DecisionTreeClassifier(),\n",
        "    param_grid= {'splitter':['gini', 'entropy','log_loss'],'splitter':['best','random'],'max_features':['sqrt','log2']},\n",
        "    cv=3,\n",
        "    n_jobs=-1\n",
        ").fit(X_ohe_mean_for_train,y_ohe_for_train)\n",
        "\n",
        "\n",
        "DTC_X_ohe_cv_results = pd.DataFrame(DTC_X_ohe.cv_results_)\n",
        "\n",
        "DTC_X_ohe = DTC_X_ohe.best_estimator_\n",
        "\n",
        "\n",
        "\n",
        "DTC_X_ohe_score = accuracy_score(y_ohe_for_validation,DTC_X_ohe.predict(X_ohe_mean_for_validation))\n",
        "DTC_X_ohe_score"
      ],
      "outputs": [
        {
          "output_type": "execute_result",
          "execution_count": 48,
          "data": {
            "text/plain": "0.8941880341880342"
          },
          "metadata": {}
        }
      ],
      "execution_count": 48,
      "metadata": {}
    },
    {
      "cell_type": "code",
      "source": [
        "from sklearn.tree import DecisionTreeClassifier\n",
        "\n",
        "from sklearn.metrics import accuracy_score\n",
        "DTC_X_num = GridSearchCV(\n",
        "    estimator = DecisionTreeClassifier(),\n",
        "    param_grid= {'splitter':['gini', 'entropy','log_loss'],'splitter':['best','random'],'max_features':['sqrt','log2']},\n",
        "    cv=cv,\n",
        "    n_jobs=-1\n",
        ").fit(X_num_mean_for_train,y_num_for_train)\n",
        "\n",
        "\n",
        "DTC_X_num_cv_results = pd.DataFrame(DTC_X_num.cv_results_)\n",
        "\n",
        "DTC_X_num = DTC_X_num.best_estimator_\n",
        "\n",
        "\n",
        "\n",
        "DTC_X_num_score = accuracy_score(y_num_for_validation,DTC_X_num.predict(X_num_mean_for_validation))\n",
        "DTC_X_num_score"
      ],
      "outputs": [
        {
          "output_type": "execute_result",
          "execution_count": 49,
          "data": {
            "text/plain": "0.8984615384615384"
          },
          "metadata": {}
        }
      ],
      "execution_count": 49,
      "metadata": {}
    },
    {
      "cell_type": "markdown",
      "source": [],
      "metadata": {}
    },
    {
      "cell_type": "markdown",
      "source": [
        "### sklearn.ensemble.RandomForestClassifier"
      ],
      "metadata": {}
    },
    {
      "cell_type": "code",
      "source": [
        "from sklearn.ensemble import RandomForestClassifier\n",
        "from sklearn.metrics import accuracy_score\n",
        "\n",
        "RFC_X_num = GridSearchCV(\n",
        "    estimator = RandomForestClassifier(),\n",
        "    param_grid= {'criterion':['gini', 'entropy','log_loss'],'max_features':['sqrt','log2']},\n",
        "    cv=3,\n",
        "    n_jobs=-1\n",
        ").fit(X_num_mean_for_train,y_num_for_train)\n",
        "\n",
        "\n",
        "RFC_X_num_cv_results = pd.DataFrame(RFC_X_num.cv_results_)\n",
        "\n",
        "RFC_X_num = RFC_X_num.best_estimator_\n",
        "\n",
        "\n",
        "\n",
        "RFC_X_num_score = accuracy_score(y_num_for_validation,RFC_X_num.predict(X_num_mean_for_validation))\n",
        "RFC_X_num_score"
      ],
      "outputs": [
        {
          "output_type": "execute_result",
          "execution_count": 50,
          "data": {
            "text/plain": "0.9206837606837607"
          },
          "metadata": {}
        }
      ],
      "execution_count": 50,
      "metadata": {}
    },
    {
      "cell_type": "code",
      "source": [
        "from sklearn.ensemble import RandomForestClassifier\n",
        "from sklearn.metrics import accuracy_score\n",
        "RFC_X_ohe = GridSearchCV(\n",
        "    estimator = RandomForestClassifier(),\n",
        "    param_grid= {'criterion':['gini', 'entropy','log_loss'],'max_features':['sqrt','log2']},\n",
        "    cv=cv,\n",
        "    n_jobs=-1\n",
        ").fit(X_ohe_mean_for_train,y_ohe_for_train)\n",
        "\n",
        "\n",
        "RFC_X_ohe_cv_results = pd.DataFrame(RFC_X_ohe.cv_results_)\n",
        "\n",
        "RFC_X_ohe = RFC_X_ohe.best_estimator_\n",
        "\n",
        "\n",
        "\n",
        "RFC_X_ohe_score = accuracy_score(y_ohe_for_validation,RFC_X_ohe.predict(X_ohe_mean_for_validation))\n",
        "RFC_X_ohe_score"
      ],
      "outputs": [
        {
          "output_type": "execute_result",
          "execution_count": 51,
          "data": {
            "text/plain": "0.9225641025641026"
          },
          "metadata": {}
        }
      ],
      "execution_count": 51,
      "metadata": {}
    },
    {
      "cell_type": "code",
      "source": [
        "Models_task_6 = pd.DataFrame(data = {'Model_Name': ['LogisticRegression_num_best_model','LogisticRegression_ohe_best_model','SVC_X_num','SVC_X_ohe','KNC_X_num','KNC_X_ohe','DTC_X_num','DTC_X_ohe','RFC_X_num','RFC_X_ohe'],'Model':[LogisticRegression_num_best_model,LogisticRegression_ohe_best_model,SVC_X_num,SVC_X_ohe,KNC_X_num,KNC_X_ohe,DTC_X_num,DTC_X_ohe,RFC_X_num,RFC_X_ohe],'Accuracy':[accuracy_score(y_num_for_validation,LogisticRegression_num_best_model.predict(X_num_mean_for_validation)),accuracy_score(y_ohe_for_validation,LogisticRegression_ohe_best_model.predict(X_ohe_mean_for_validation)),SVC_X_num_score,SVC_X_ohe_score,KNC_X_num_score,KNC_X_ohe_score,DTC_X_num_score,DTC_X_ohe_score,RFC_X_num_score,RFC_X_ohe_score]})\n",
        "Models_task_6"
      ],
      "outputs": [
        {
          "output_type": "execute_result",
          "execution_count": 52,
          "data": {
            "text/html": "<div>\n<style scoped>\n    .dataframe tbody tr th:only-of-type {\n        vertical-align: middle;\n    }\n\n    .dataframe tbody tr th {\n        vertical-align: top;\n    }\n\n    .dataframe thead th {\n        text-align: right;\n    }\n</style>\n<table border=\"1\" class=\"dataframe\">\n  <thead>\n    <tr style=\"text-align: right;\">\n      <th></th>\n      <th>Model_Name</th>\n      <th>Model</th>\n      <th>Accuracy</th>\n    </tr>\n  </thead>\n  <tbody>\n    <tr>\n      <th>0</th>\n      <td>LogisticRegression_num_best_model</td>\n      <td>LogisticRegression(C=0.01, penalty='l1', solve...</td>\n      <td>0.919658</td>\n    </tr>\n    <tr>\n      <th>1</th>\n      <td>LogisticRegression_ohe_best_model</td>\n      <td>LogisticRegression(C=0.01, penalty='l1', solve...</td>\n      <td>0.919658</td>\n    </tr>\n    <tr>\n      <th>2</th>\n      <td>SVC_X_num</td>\n      <td>SVC(kernel='poly')</td>\n      <td>0.918803</td>\n    </tr>\n    <tr>\n      <th>3</th>\n      <td>SVC_X_ohe</td>\n      <td>SVC(kernel='poly')</td>\n      <td>0.921880</td>\n    </tr>\n    <tr>\n      <th>4</th>\n      <td>KNC_X_num</td>\n      <td>KNeighborsClassifier(algorithm='ball_tree', we...</td>\n      <td>0.909231</td>\n    </tr>\n    <tr>\n      <th>5</th>\n      <td>KNC_X_ohe</td>\n      <td>KNeighborsClassifier(algorithm='ball_tree', we...</td>\n      <td>0.902564</td>\n    </tr>\n    <tr>\n      <th>6</th>\n      <td>DTC_X_num</td>\n      <td>DecisionTreeClassifier(max_features='sqrt')</td>\n      <td>0.898462</td>\n    </tr>\n    <tr>\n      <th>7</th>\n      <td>DTC_X_ohe</td>\n      <td>DecisionTreeClassifier(max_features='sqrt')</td>\n      <td>0.894188</td>\n    </tr>\n    <tr>\n      <th>8</th>\n      <td>RFC_X_num</td>\n      <td>(DecisionTreeClassifier(criterion='entropy', m...</td>\n      <td>0.920684</td>\n    </tr>\n    <tr>\n      <th>9</th>\n      <td>RFC_X_ohe</td>\n      <td>(DecisionTreeClassifier(criterion='log_loss', ...</td>\n      <td>0.922564</td>\n    </tr>\n  </tbody>\n</table>\n</div>",
            "text/plain": "                          Model_Name  \\\n0  LogisticRegression_num_best_model   \n1  LogisticRegression_ohe_best_model   \n2                          SVC_X_num   \n3                          SVC_X_ohe   \n4                          KNC_X_num   \n5                          KNC_X_ohe   \n6                          DTC_X_num   \n7                          DTC_X_ohe   \n8                          RFC_X_num   \n9                          RFC_X_ohe   \n\n                                               Model  Accuracy  \n0  LogisticRegression(C=0.01, penalty='l1', solve...  0.919658  \n1  LogisticRegression(C=0.01, penalty='l1', solve...  0.919658  \n2                                 SVC(kernel='poly')  0.918803  \n3                                 SVC(kernel='poly')  0.921880  \n4  KNeighborsClassifier(algorithm='ball_tree', we...  0.909231  \n5  KNeighborsClassifier(algorithm='ball_tree', we...  0.902564  \n6        DecisionTreeClassifier(max_features='sqrt')  0.898462  \n7        DecisionTreeClassifier(max_features='sqrt')  0.894188  \n8  (DecisionTreeClassifier(criterion='entropy', m...  0.920684  \n9  (DecisionTreeClassifier(criterion='log_loss', ...  0.922564  "
          },
          "metadata": {}
        }
      ],
      "execution_count": 52,
      "metadata": {}
    },
    {
      "cell_type": "code",
      "source": [
        "data = []\n",
        "def heigher_accurace_model(model_num,model_ohe):\n",
        "    if accuracy_score(y_num_for_validation,model_num.predict(X_num_mean_for_validation)) >= accuracy_score(y_ohe_for_validation,model_ohe.predict(X_ohe_mean_for_validation)):\n",
        "        return [y_num_for_validation,X_num_mean_for_validation,model_num]\n",
        "    else:\n",
        "        return [y_ohe_for_validation,X_ohe_mean_for_validation,model_ohe]\n",
        "\n",
        "k = heigher_accurace_model(SVC_X_num,SVC_X_ohe)\n",
        "\n",
        "        "
      ],
      "outputs": [],
      "execution_count": 53,
      "metadata": {}
    },
    {
      "cell_type": "markdown",
      "source": [],
      "metadata": {}
    },
    {
      "cell_type": "markdown",
      "source": [
        "#### Logistic Regression metrics"
      ],
      "metadata": {}
    },
    {
      "cell_type": "code",
      "source": [
        "model = heigher_accurace_model(LogisticRegression_num_best_model,LogisticRegression_ohe_best_model)\n",
        "from sklearn.metrics import classification_report\n",
        "\n",
        "rep = classification_report(model[0],model[2].predict(model[1]))\n",
        "print(rep)"
      ],
      "outputs": [
        {
          "output_type": "stream",
          "name": "stdout",
          "text": "              precision    recall  f1-score   support\n\n           0       0.90      1.00      0.95      4316\n           1       1.00      0.69      0.82      1534\n\n    accuracy                           0.92      5850\n   macro avg       0.95      0.85      0.88      5850\nweighted avg       0.93      0.92      0.91      5850\n\n"
        }
      ],
      "execution_count": 54,
      "metadata": {}
    },
    {
      "cell_type": "code",
      "source": [
        "from sklearn.metrics import RocCurveDisplay, roc_curve\n",
        "\n",
        "\n",
        "fpr, tpr, _ = roc_curve(model[0], model[2].decision_function(model[1]))\n",
        "RocCurveDisplay(fpr=fpr, tpr=tpr).plot()"
      ],
      "outputs": [
        {
          "output_type": "stream",
          "name": "stderr",
          "text": "No artists with labels found to put in legend.  Note that artists whose label start with an underscore are ignored when legend() is called with no argument.\n"
        },
        {
          "output_type": "execute_result",
          "execution_count": 55,
          "data": {
            "text/plain": "<sklearn.metrics._plot.roc_curve.RocCurveDisplay at 0x138554850>"
          },
          "metadata": {}
        }
      ],
      "execution_count": 55,
      "metadata": {}
    },
    {
      "cell_type": "code",
      "source": [
        "from sklearn.metrics import PrecisionRecallDisplay, precision_recall_curve\n",
        "\n",
        "prec, recall, _ = precision_recall_curve(model[0], model[2].decision_function(model[1]))\n",
        "PrecisionRecallDisplay(precision=prec, recall=recall).plot()"
      ],
      "outputs": [
        {
          "output_type": "execute_result",
          "execution_count": 56,
          "data": {
            "text/plain": "<sklearn.metrics._plot.precision_recall_curve.PrecisionRecallDisplay at 0x141004d90>"
          },
          "metadata": {}
        }
      ],
      "execution_count": 56,
      "metadata": {}
    },
    {
      "cell_type": "markdown",
      "source": [
        "### SVC Metrics"
      ],
      "metadata": {}
    },
    {
      "cell_type": "code",
      "source": [
        "\n",
        "model = heigher_accurace_model(SVC_X_num,SVC_X_ohe)\n",
        "from sklearn.metrics import classification_report\n",
        "rep = classification_report(model[0],model[2].predict(model[1]))\n",
        "print(rep)"
      ],
      "outputs": [
        {
          "output_type": "stream",
          "name": "stdout",
          "text": "              precision    recall  f1-score   support\n\n           0       0.91      0.99      0.95      4316\n           1       0.98      0.72      0.83      1534\n\n    accuracy                           0.92      5850\n   macro avg       0.94      0.86      0.89      5850\nweighted avg       0.93      0.92      0.92      5850\n\n"
        }
      ],
      "execution_count": 57,
      "metadata": {}
    },
    {
      "cell_type": "code",
      "source": [
        "from sklearn.metrics import RocCurveDisplay, roc_curve\n",
        "\n",
        "\n",
        "fpr, tpr, _ = roc_curve(model[0], model[2].decision_function(model[1]))\n",
        "RocCurveDisplay(fpr=fpr, tpr=tpr).plot()"
      ],
      "outputs": [
        {
          "output_type": "stream",
          "name": "stderr",
          "text": "No artists with labels found to put in legend.  Note that artists whose label start with an underscore are ignored when legend() is called with no argument.\n"
        },
        {
          "output_type": "execute_result",
          "execution_count": 58,
          "data": {
            "text/plain": "<sklearn.metrics._plot.roc_curve.RocCurveDisplay at 0x138a10990>"
          },
          "metadata": {}
        }
      ],
      "execution_count": 58,
      "metadata": {}
    },
    {
      "cell_type": "code",
      "source": [
        "from sklearn.metrics import PrecisionRecallDisplay, precision_recall_curve\n",
        "\n",
        "prec, recall, _ = precision_recall_curve(model[0], model[2].decision_function(model[1]))\n",
        "PrecisionRecallDisplay(precision=prec, recall=recall).plot()"
      ],
      "outputs": [
        {
          "output_type": "execute_result",
          "execution_count": 59,
          "data": {
            "text/plain": "<sklearn.metrics._plot.precision_recall_curve.PrecisionRecallDisplay at 0x140fafa50>"
          },
          "metadata": {}
        }
      ],
      "execution_count": 59,
      "metadata": {}
    },
    {
      "cell_type": "code",
      "source": [],
      "outputs": [],
      "execution_count": null,
      "metadata": {}
    },
    {
      "cell_type": "markdown",
      "source": [
        "### KNC Metrics"
      ],
      "metadata": {}
    },
    {
      "cell_type": "code",
      "source": [
        "model = heigher_accurace_model(KNC_X_num,KNC_X_ohe)\n",
        "from sklearn.metrics import classification_report\n",
        "rep = classification_report(model[0],model[2].predict(model[1]))\n",
        "print(rep)"
      ],
      "outputs": [
        {
          "output_type": "stream",
          "name": "stdout",
          "text": "              precision    recall  f1-score   support\n\n           0       0.91      0.97      0.94      4316\n           1       0.90      0.74      0.81      1534\n\n    accuracy                           0.91      5850\n   macro avg       0.91      0.85      0.88      5850\nweighted avg       0.91      0.91      0.91      5850\n\n"
        }
      ],
      "execution_count": 60,
      "metadata": {}
    },
    {
      "cell_type": "code",
      "source": [
        "from sklearn.metrics import RocCurveDisplay, roc_curve\n",
        "\n",
        "\n",
        "fpr, tpr, _ = roc_curve(model[0], model[2].predict_proba(model[1])[:,1])\n",
        "RocCurveDisplay(fpr=fpr, tpr=tpr).plot()"
      ],
      "outputs": [
        {
          "output_type": "stream",
          "name": "stderr",
          "text": "No artists with labels found to put in legend.  Note that artists whose label start with an underscore are ignored when legend() is called with no argument.\n"
        },
        {
          "output_type": "execute_result",
          "execution_count": 61,
          "data": {
            "text/plain": "<sklearn.metrics._plot.roc_curve.RocCurveDisplay at 0x138a9e110>"
          },
          "metadata": {}
        }
      ],
      "execution_count": 61,
      "metadata": {}
    },
    {
      "cell_type": "code",
      "source": [
        "from sklearn.metrics import PrecisionRecallDisplay, precision_recall_curve\n",
        "\n",
        "prec, recall, _ = precision_recall_curve(model[0], model[2].predict_proba(model[1])[:,1])\n",
        "PrecisionRecallDisplay(precision=prec, recall=recall).plot()"
      ],
      "outputs": [
        {
          "output_type": "execute_result",
          "execution_count": 62,
          "data": {
            "text/plain": "<sklearn.metrics._plot.precision_recall_curve.PrecisionRecallDisplay at 0x14106df90>"
          },
          "metadata": {}
        }
      ],
      "execution_count": 62,
      "metadata": {}
    },
    {
      "cell_type": "code",
      "source": [],
      "outputs": [],
      "execution_count": null,
      "metadata": {}
    },
    {
      "cell_type": "markdown",
      "source": [
        "### DTC Metrics"
      ],
      "metadata": {}
    },
    {
      "cell_type": "markdown",
      "source": [],
      "metadata": {}
    },
    {
      "cell_type": "code",
      "source": [
        "model = heigher_accurace_model(DTC_X_num,DTC_X_ohe)\n",
        "from sklearn.metrics import classification_report\n",
        "rep = classification_report(model[0],model[2].predict(model[1]))\n",
        "print(rep)"
      ],
      "outputs": [
        {
          "output_type": "stream",
          "name": "stdout",
          "text": "              precision    recall  f1-score   support\n\n           0       0.93      0.93      0.93      4316\n           1       0.81      0.80      0.81      1534\n\n    accuracy                           0.90      5850\n   macro avg       0.87      0.87      0.87      5850\nweighted avg       0.90      0.90      0.90      5850\n\n"
        }
      ],
      "execution_count": 63,
      "metadata": {}
    },
    {
      "cell_type": "code",
      "source": [
        "from sklearn.metrics import RocCurveDisplay, roc_curve\n",
        "\n",
        "\n",
        "fpr, tpr, _ = roc_curve(model[0], model[2].predict_proba(model[1])[:,1])\n",
        "RocCurveDisplay(fpr=fpr, tpr=tpr).plot()"
      ],
      "outputs": [
        {
          "output_type": "stream",
          "name": "stderr",
          "text": "No artists with labels found to put in legend.  Note that artists whose label start with an underscore are ignored when legend() is called with no argument.\n"
        },
        {
          "output_type": "execute_result",
          "execution_count": 64,
          "data": {
            "text/plain": "<sklearn.metrics._plot.roc_curve.RocCurveDisplay at 0x1410c7ad0>"
          },
          "metadata": {}
        }
      ],
      "execution_count": 64,
      "metadata": {}
    },
    {
      "cell_type": "code",
      "source": [
        "from sklearn.metrics import PrecisionRecallDisplay, precision_recall_curve\n",
        "\n",
        "prec, recall, _ = precision_recall_curve(model[0], model[2].predict_proba(model[1])[:,1])\n",
        "PrecisionRecallDisplay(precision=prec, recall=recall).plot()"
      ],
      "outputs": [
        {
          "output_type": "execute_result",
          "execution_count": 65,
          "data": {
            "text/plain": "<sklearn.metrics._plot.precision_recall_curve.PrecisionRecallDisplay at 0x1411712d0>"
          },
          "metadata": {}
        }
      ],
      "execution_count": 65,
      "metadata": {}
    },
    {
      "cell_type": "code",
      "source": [],
      "outputs": [],
      "execution_count": null,
      "metadata": {}
    },
    {
      "cell_type": "markdown",
      "source": [
        "#### RFC Metrics"
      ],
      "metadata": {}
    },
    {
      "cell_type": "code",
      "source": [
        "model = heigher_accurace_model(RFC_X_num,RFC_X_ohe)\n",
        "from sklearn.metrics import classification_report\n",
        "rep = classification_report(model[0],model[2].predict(model[1]))\n",
        "print(rep)"
      ],
      "outputs": [
        {
          "output_type": "stream",
          "name": "stdout",
          "text": "              precision    recall  f1-score   support\n\n           0       0.92      0.99      0.95      4316\n           1       0.95      0.74      0.83      1534\n\n    accuracy                           0.92      5850\n   macro avg       0.93      0.86      0.89      5850\nweighted avg       0.92      0.92      0.92      5850\n\n"
        }
      ],
      "execution_count": 66,
      "metadata": {}
    },
    {
      "cell_type": "code",
      "source": [
        "from sklearn.metrics import RocCurveDisplay, roc_curve\n",
        "\n",
        "\n",
        "fpr, tpr, _ = roc_curve(model[0], model[2].predict_proba(model[1])[:,1])\n",
        "RocCurveDisplay(fpr=fpr, tpr=tpr).plot()"
      ],
      "outputs": [
        {
          "output_type": "stream",
          "name": "stderr",
          "text": "No artists with labels found to put in legend.  Note that artists whose label start with an underscore are ignored when legend() is called with no argument.\n"
        },
        {
          "output_type": "execute_result",
          "execution_count": 67,
          "data": {
            "text/plain": "<sklearn.metrics._plot.roc_curve.RocCurveDisplay at 0x1410edc90>"
          },
          "metadata": {}
        }
      ],
      "execution_count": 67,
      "metadata": {}
    },
    {
      "cell_type": "code",
      "source": [
        "from sklearn.metrics import PrecisionRecallDisplay, precision_recall_curve\n",
        "\n",
        "prec, recall, _ = precision_recall_curve(model[0], model[2].predict_proba(model[1])[:,1])\n",
        "PrecisionRecallDisplay(precision=prec, recall=recall).plot()"
      ],
      "outputs": [
        {
          "output_type": "execute_result",
          "execution_count": 68,
          "data": {
            "text/plain": "<sklearn.metrics._plot.precision_recall_curve.PrecisionRecallDisplay at 0x14116c6d0>"
          },
          "metadata": {}
        }
      ],
      "execution_count": 68,
      "metadata": {}
    },
    {
      "cell_type": "code",
      "source": [
        "best_models_task6_num = [LogisticRegression_num_best_model,SVC_X_num,KNC_X_num,DTC_X_num,RFC_X_num]\n",
        "optimal_model_task_6 = Models_task_6[Models_task_6['Accuracy'] == Models_task_6['Accuracy'].values.max()]['Model'].values[0]\n",
        "\n"
      ],
      "outputs": [],
      "execution_count": 69,
      "metadata": {}
    },
    {
      "cell_type": "markdown",
      "source": [
        "### Висновок задача двокласової красифікації\n",
        " Модель(з відповідними парамптрами) збережена у змінну optimal_model_task_6 модель , має найкращий accuracy-score на відкладеній вибірці, а одже і є найкращою моделлю для вирішення двокласової красифікаціїю"
      ],
      "metadata": {}
    },
    {
      "cell_type": "markdown",
      "source": [
        "### Завдання 4"
      ],
      "metadata": {}
    },
    {
      "cell_type": "code",
      "source": [
        "ds = pd.read_csv('data.csv')"
      ],
      "outputs": [],
      "execution_count": 70,
      "metadata": {}
    },
    {
      "cell_type": "code",
      "source": [
        "from sklearn.preprocessing import LabelEncoder\n",
        "label_encoder = LabelEncoder()\n",
        "ds['loan_status'] = label_encoder.fit_transform(ds['loan_status'])\n"
      ],
      "outputs": [],
      "execution_count": 71,
      "metadata": {}
    },
    {
      "cell_type": "code",
      "source": [
        "ds_ohe = columns_ohe.fit_transform(ds)\n",
        "ds_ohe = ds_ohe.drop(columns=['onehotencoder__loan_status_0','onehotencoder__home_ownership_ANY','onehotencoder__home_ownership_OTHER',\n",
        "       'onehotencoder__loan_status_1', 'onehotencoder__loan_status_2',\n",
        "       'onehotencoder__loan_status_3', 'onehotencoder__loan_status_4'])\n",
        "\n",
        "ds_ohe"
      ],
      "outputs": [
        {
          "output_type": "execute_result",
          "execution_count": 72,
          "data": {
            "text/html": "<div>\n<style scoped>\n    .dataframe tbody tr th:only-of-type {\n        vertical-align: middle;\n    }\n\n    .dataframe tbody tr th {\n        vertical-align: top;\n    }\n\n    .dataframe thead th {\n        text-align: right;\n    }\n</style>\n<table border=\"1\" class=\"dataframe\">\n  <thead>\n    <tr style=\"text-align: right;\">\n      <th></th>\n      <th>onehotencoder__grade_A</th>\n      <th>onehotencoder__grade_B</th>\n      <th>onehotencoder__grade_C</th>\n      <th>onehotencoder__grade_D</th>\n      <th>onehotencoder__grade_E</th>\n      <th>onehotencoder__grade_F</th>\n      <th>onehotencoder__grade_G</th>\n      <th>onehotencoder__emp_length_1 year</th>\n      <th>onehotencoder__emp_length_10+ years</th>\n      <th>onehotencoder__emp_length_2 years</th>\n      <th>...</th>\n      <th>remainder__total_rec_int</th>\n      <th>remainder__total_rec_late_fee</th>\n      <th>remainder__recoveries</th>\n      <th>remainder__collection_recovery_fee</th>\n      <th>remainder__last_pymnt_amnt</th>\n      <th>remainder__collections_12_mths_ex_med</th>\n      <th>remainder__acc_now_delinq</th>\n      <th>remainder__tot_coll_amt</th>\n      <th>remainder__tot_cur_bal</th>\n      <th>remainder__total_rev_hi_lim</th>\n    </tr>\n  </thead>\n  <tbody>\n    <tr>\n      <th>0</th>\n      <td>0.0</td>\n      <td>1.0</td>\n      <td>0.0</td>\n      <td>0.0</td>\n      <td>0.0</td>\n      <td>0.0</td>\n      <td>0.0</td>\n      <td>0.0</td>\n      <td>0.0</td>\n      <td>0.0</td>\n      <td>...</td>\n      <td>3359.33</td>\n      <td>78.0</td>\n      <td>0.00</td>\n      <td>0.000</td>\n      <td>16901.45</td>\n      <td>1.0</td>\n      <td>0.0</td>\n      <td>0.0</td>\n      <td>70116.0</td>\n      <td>43670.0</td>\n    </tr>\n    <tr>\n      <th>1</th>\n      <td>0.0</td>\n      <td>0.0</td>\n      <td>0.0</td>\n      <td>1.0</td>\n      <td>0.0</td>\n      <td>0.0</td>\n      <td>0.0</td>\n      <td>0.0</td>\n      <td>0.0</td>\n      <td>0.0</td>\n      <td>...</td>\n      <td>5302.70</td>\n      <td>0.0</td>\n      <td>1614.60</td>\n      <td>145.314</td>\n      <td>409.95</td>\n      <td>1.0</td>\n      <td>0.0</td>\n      <td>273.0</td>\n      <td>31306.0</td>\n      <td>21600.0</td>\n    </tr>\n    <tr>\n      <th>2</th>\n      <td>1.0</td>\n      <td>0.0</td>\n      <td>0.0</td>\n      <td>0.0</td>\n      <td>0.0</td>\n      <td>0.0</td>\n      <td>0.0</td>\n      <td>0.0</td>\n      <td>0.0</td>\n      <td>1.0</td>\n      <td>...</td>\n      <td>2148.75</td>\n      <td>0.0</td>\n      <td>0.00</td>\n      <td>0.000</td>\n      <td>12074.88</td>\n      <td>0.0</td>\n      <td>0.0</td>\n      <td>0.0</td>\n      <td>196318.0</td>\n      <td>68900.0</td>\n    </tr>\n    <tr>\n      <th>3</th>\n      <td>0.0</td>\n      <td>0.0</td>\n      <td>0.0</td>\n      <td>1.0</td>\n      <td>0.0</td>\n      <td>0.0</td>\n      <td>0.0</td>\n      <td>0.0</td>\n      <td>0.0</td>\n      <td>0.0</td>\n      <td>...</td>\n      <td>2109.37</td>\n      <td>15.0</td>\n      <td>127.05</td>\n      <td>22.869</td>\n      <td>238.99</td>\n      <td>0.0</td>\n      <td>0.0</td>\n      <td>0.0</td>\n      <td>6848.0</td>\n      <td>16700.0</td>\n    </tr>\n    <tr>\n      <th>4</th>\n      <td>0.0</td>\n      <td>1.0</td>\n      <td>0.0</td>\n      <td>0.0</td>\n      <td>0.0</td>\n      <td>0.0</td>\n      <td>0.0</td>\n      <td>0.0</td>\n      <td>1.0</td>\n      <td>0.0</td>\n      <td>...</td>\n      <td>88.83</td>\n      <td>0.0</td>\n      <td>0.00</td>\n      <td>0.000</td>\n      <td>20101.30</td>\n      <td>0.0</td>\n      <td>0.0</td>\n      <td>0.0</td>\n      <td>426287.0</td>\n      <td>26100.0</td>\n    </tr>\n    <tr>\n      <th>...</th>\n      <td>...</td>\n      <td>...</td>\n      <td>...</td>\n      <td>...</td>\n      <td>...</td>\n      <td>...</td>\n      <td>...</td>\n      <td>...</td>\n      <td>...</td>\n      <td>...</td>\n      <td>...</td>\n      <td>...</td>\n      <td>...</td>\n      <td>...</td>\n      <td>...</td>\n      <td>...</td>\n      <td>...</td>\n      <td>...</td>\n      <td>...</td>\n      <td>...</td>\n      <td>...</td>\n    </tr>\n    <tr>\n      <th>19495</th>\n      <td>0.0</td>\n      <td>0.0</td>\n      <td>1.0</td>\n      <td>0.0</td>\n      <td>0.0</td>\n      <td>0.0</td>\n      <td>0.0</td>\n      <td>0.0</td>\n      <td>1.0</td>\n      <td>0.0</td>\n      <td>...</td>\n      <td>223.71</td>\n      <td>0.0</td>\n      <td>0.00</td>\n      <td>0.000</td>\n      <td>26244.05</td>\n      <td>0.0</td>\n      <td>0.0</td>\n      <td>4812.0</td>\n      <td>110260.0</td>\n      <td>20600.0</td>\n    </tr>\n    <tr>\n      <th>19496</th>\n      <td>0.0</td>\n      <td>0.0</td>\n      <td>1.0</td>\n      <td>0.0</td>\n      <td>0.0</td>\n      <td>0.0</td>\n      <td>0.0</td>\n      <td>0.0</td>\n      <td>1.0</td>\n      <td>0.0</td>\n      <td>...</td>\n      <td>77.05</td>\n      <td>0.0</td>\n      <td>0.00</td>\n      <td>0.000</td>\n      <td>2978.46</td>\n      <td>0.0</td>\n      <td>0.0</td>\n      <td>0.0</td>\n      <td>260585.0</td>\n      <td>46600.0</td>\n    </tr>\n    <tr>\n      <th>19497</th>\n      <td>0.0</td>\n      <td>1.0</td>\n      <td>0.0</td>\n      <td>0.0</td>\n      <td>0.0</td>\n      <td>0.0</td>\n      <td>0.0</td>\n      <td>0.0</td>\n      <td>0.0</td>\n      <td>0.0</td>\n      <td>...</td>\n      <td>3020.67</td>\n      <td>0.0</td>\n      <td>0.00</td>\n      <td>0.000</td>\n      <td>2785.60</td>\n      <td>0.0</td>\n      <td>0.0</td>\n      <td>NaN</td>\n      <td>NaN</td>\n      <td>NaN</td>\n    </tr>\n    <tr>\n      <th>19498</th>\n      <td>0.0</td>\n      <td>1.0</td>\n      <td>0.0</td>\n      <td>0.0</td>\n      <td>0.0</td>\n      <td>0.0</td>\n      <td>0.0</td>\n      <td>0.0</td>\n      <td>0.0</td>\n      <td>0.0</td>\n      <td>...</td>\n      <td>3909.77</td>\n      <td>0.0</td>\n      <td>0.00</td>\n      <td>0.000</td>\n      <td>3.80</td>\n      <td>0.0</td>\n      <td>0.0</td>\n      <td>0.0</td>\n      <td>88348.0</td>\n      <td>48000.0</td>\n    </tr>\n    <tr>\n      <th>19499</th>\n      <td>0.0</td>\n      <td>0.0</td>\n      <td>1.0</td>\n      <td>0.0</td>\n      <td>0.0</td>\n      <td>0.0</td>\n      <td>0.0</td>\n      <td>0.0</td>\n      <td>0.0</td>\n      <td>0.0</td>\n      <td>...</td>\n      <td>43.26</td>\n      <td>0.0</td>\n      <td>0.00</td>\n      <td>0.000</td>\n      <td>1978.17</td>\n      <td>0.0</td>\n      <td>0.0</td>\n      <td>0.0</td>\n      <td>18342.0</td>\n      <td>33400.0</td>\n    </tr>\n  </tbody>\n</table>\n<p>19500 rows × 50 columns</p>\n</div>",
            "text/plain": "       onehotencoder__grade_A  onehotencoder__grade_B  onehotencoder__grade_C  \\\n0                         0.0                     1.0                     0.0   \n1                         0.0                     0.0                     0.0   \n2                         1.0                     0.0                     0.0   \n3                         0.0                     0.0                     0.0   \n4                         0.0                     1.0                     0.0   \n...                       ...                     ...                     ...   \n19495                     0.0                     0.0                     1.0   \n19496                     0.0                     0.0                     1.0   \n19497                     0.0                     1.0                     0.0   \n19498                     0.0                     1.0                     0.0   \n19499                     0.0                     0.0                     1.0   \n\n       onehotencoder__grade_D  onehotencoder__grade_E  onehotencoder__grade_F  \\\n0                         0.0                     0.0                     0.0   \n1                         1.0                     0.0                     0.0   \n2                         0.0                     0.0                     0.0   \n3                         1.0                     0.0                     0.0   \n4                         0.0                     0.0                     0.0   \n...                       ...                     ...                     ...   \n19495                     0.0                     0.0                     0.0   \n19496                     0.0                     0.0                     0.0   \n19497                     0.0                     0.0                     0.0   \n19498                     0.0                     0.0                     0.0   \n19499                     0.0                     0.0                     0.0   \n\n       onehotencoder__grade_G  onehotencoder__emp_length_1 year  \\\n0                         0.0                               0.0   \n1                         0.0                               0.0   \n2                         0.0                               0.0   \n3                         0.0                               0.0   \n4                         0.0                               0.0   \n...                       ...                               ...   \n19495                     0.0                               0.0   \n19496                     0.0                               0.0   \n19497                     0.0                               0.0   \n19498                     0.0                               0.0   \n19499                     0.0                               0.0   \n\n       onehotencoder__emp_length_10+ years  onehotencoder__emp_length_2 years  \\\n0                                      0.0                                0.0   \n1                                      0.0                                0.0   \n2                                      0.0                                1.0   \n3                                      0.0                                0.0   \n4                                      1.0                                0.0   \n...                                    ...                                ...   \n19495                                  1.0                                0.0   \n19496                                  1.0                                0.0   \n19497                                  0.0                                0.0   \n19498                                  0.0                                0.0   \n19499                                  0.0                                0.0   \n\n       ...  remainder__total_rec_int  remainder__total_rec_late_fee  \\\n0      ...                   3359.33                           78.0   \n1      ...                   5302.70                            0.0   \n2      ...                   2148.75                            0.0   \n3      ...                   2109.37                           15.0   \n4      ...                     88.83                            0.0   \n...    ...                       ...                            ...   \n19495  ...                    223.71                            0.0   \n19496  ...                     77.05                            0.0   \n19497  ...                   3020.67                            0.0   \n19498  ...                   3909.77                            0.0   \n19499  ...                     43.26                            0.0   \n\n       remainder__recoveries  remainder__collection_recovery_fee  \\\n0                       0.00                               0.000   \n1                    1614.60                             145.314   \n2                       0.00                               0.000   \n3                     127.05                              22.869   \n4                       0.00                               0.000   \n...                      ...                                 ...   \n19495                   0.00                               0.000   \n19496                   0.00                               0.000   \n19497                   0.00                               0.000   \n19498                   0.00                               0.000   \n19499                   0.00                               0.000   \n\n       remainder__last_pymnt_amnt  remainder__collections_12_mths_ex_med  \\\n0                        16901.45                                    1.0   \n1                          409.95                                    1.0   \n2                        12074.88                                    0.0   \n3                          238.99                                    0.0   \n4                        20101.30                                    0.0   \n...                           ...                                    ...   \n19495                    26244.05                                    0.0   \n19496                     2978.46                                    0.0   \n19497                     2785.60                                    0.0   \n19498                        3.80                                    0.0   \n19499                     1978.17                                    0.0   \n\n       remainder__acc_now_delinq  remainder__tot_coll_amt  \\\n0                            0.0                      0.0   \n1                            0.0                    273.0   \n2                            0.0                      0.0   \n3                            0.0                      0.0   \n4                            0.0                      0.0   \n...                          ...                      ...   \n19495                        0.0                   4812.0   \n19496                        0.0                      0.0   \n19497                        0.0                      NaN   \n19498                        0.0                      0.0   \n19499                        0.0                      0.0   \n\n       remainder__tot_cur_bal  remainder__total_rev_hi_lim  \n0                     70116.0                      43670.0  \n1                     31306.0                      21600.0  \n2                    196318.0                      68900.0  \n3                      6848.0                      16700.0  \n4                    426287.0                      26100.0  \n...                       ...                          ...  \n19495                110260.0                      20600.0  \n19496                260585.0                      46600.0  \n19497                     NaN                          NaN  \n19498                 88348.0                      48000.0  \n19499                 18342.0                      33400.0  \n\n[19500 rows x 50 columns]"
          },
          "metadata": {}
        }
      ],
      "execution_count": 72,
      "metadata": {}
    },
    {
      "cell_type": "code",
      "source": [
        "# Працюєм з неповними данними\n",
        "from sklearn.impute import SimpleImputer\n",
        "\n",
        "X_mult_class_ohe_mean_strategy = pd.DataFrame(SimpleImputer(strategy='mean').fit_transform(ds_ohe))\n",
        "X_mult_class_num_mean_strategy = pd.DataFrame(SimpleImputer(strategy='mean').fit_transform(X_num))\n",
        "y_mult_class  = ds['loan_status']"
      ],
      "outputs": [],
      "execution_count": 73,
      "metadata": {}
    },
    {
      "cell_type": "code",
      "source": [],
      "outputs": [],
      "execution_count": null,
      "metadata": {}
    },
    {
      "cell_type": "code",
      "source": [
        "from sklearn.model_selection import train_test_split\n",
        "from sklearn.preprocessing import QuantileTransformer\n",
        "# Розділяєм числовий DataFrame на тренувальну та валідаційну вибірку\n",
        "X_num_mult_class_mean_for_train , X_num_mult_class_mean_for_validation , y_num_mult_class_for_train , y_num_mult_class_for_validation = train_test_split(X_mult_class_num_mean_strategy,y_mult_class,test_size= 0.3,random_state=0)\n",
        "\n",
        "\n",
        "# Трансформуємо ознаки за допомогою QuantileTransformer\n",
        "X_num_mult_class_mean_for_train = QuantileTransformer().fit_transform(X_num_mult_class_mean_for_train)\n",
        "X_num_mult_class_mean_for_validation = QuantileTransformer().fit_transform(X_num_mult_class_mean_for_validation)\n",
        "\n",
        "\n",
        "pd.DataFrame(X_num_mult_class_mean_for_train,columns=X_mult_class_num_mean_strategy.columns).describe()\n",
        "\n",
        "\n",
        "\n",
        "# Розділяєм числовий DataFrame на тренувальну та валідаційну вибірку\n",
        "X_ohe_mult_class_mean_for_train , X_ohe_mult_class_mean_for_validation , y_ohe_mult_class_for_train , y_ohe_mult_class_for_validation = train_test_split(X_mult_class_ohe_mean_strategy,y_mult_class,test_size= 0.3,random_state=0)\n",
        "\n",
        "\n",
        "# Трансформуємо ознаки за допомогою QuantileTransformer\n",
        "X_ohe_mult_class_mean_for_train = QuantileTransformer().fit_transform(X_ohe_mult_class_mean_for_train)\n",
        "X_ohe_mult_class_mean_for_validation = QuantileTransformer().fit_transform(X_ohe_mult_class_mean_for_validation)"
      ],
      "outputs": [],
      "execution_count": 74,
      "metadata": {}
    },
    {
      "cell_type": "markdown",
      "source": [
        "### Logistic Regression"
      ],
      "metadata": {}
    },
    {
      "cell_type": "code",
      "source": [
        "\n",
        "from sklearn.metrics import accuracy_score\n",
        "from sklearn.linear_model import LogisticRegression\n",
        "from sklearn.model_selection import GridSearchCV\n",
        "from sklearn.metrics import *\n",
        "\n",
        "\n",
        "cv = 3\n",
        "LogisticRegression_mult_class = GridSearchCV(\n",
        "    estimator= LogisticRegression(),\n",
        "    param_grid= {'penalty': ['l1','l2','elasticnet'] , 'C' : np.logspace(-4,4,5), 'solver' : ['saga'],'max_iter' : [100,1000,2500,3000]},\n",
        "    cv = cv,\n",
        "    n_jobs= -1\n",
        ").fit(X_num_mult_class_mean_for_train,y_num_mult_class_for_train)\n",
        "\n",
        "\n",
        "LogisticRegression_X_num_mult_class = pd.DataFrame(LogisticRegression_mult_class.cv_results_).drop(columns=['mean_fit_time','std_fit_time','mean_score_time','std_score_time'])\n",
        "\n",
        "LogisticRegression_num_mult_class_best_model = LogisticRegression_mult_class.best_estimator_\n",
        "print(f'average_precision_score для найкращої моделі з на відкладеній вибірці: {average_precision_score(y_num_mult_class_for_validation,LogisticRegression_num_mult_class_best_model.predict_proba(X_num_mult_class_mean_for_validation))}')"
      ],
      "outputs": [
        {
          "output_type": "stream",
          "name": "stderr",
          "text": "/Library/Frameworks/Python.framework/Versions/3.11/lib/python3.11/site-packages/sklearn/linear_model/_sag.py:350: ConvergenceWarning: The max_iter was reached which means the coef_ did not converge\n  warnings.warn(\n/Library/Frameworks/Python.framework/Versions/3.11/lib/python3.11/site-packages/sklearn/linear_model/_sag.py:350: ConvergenceWarning: The max_iter was reached which means the coef_ did not converge\n  warnings.warn(\n/Library/Frameworks/Python.framework/Versions/3.11/lib/python3.11/site-packages/sklearn/linear_model/_sag.py:350: ConvergenceWarning: The max_iter was reached which means the coef_ did not converge\n  warnings.warn(\n/Library/Frameworks/Python.framework/Versions/3.11/lib/python3.11/site-packages/sklearn/linear_model/_sag.py:350: ConvergenceWarning: The max_iter was reached which means the coef_ did not converge\n  warnings.warn(\n/Library/Frameworks/Python.framework/Versions/3.11/lib/python3.11/site-packages/sklearn/linear_model/_sag.py:350: ConvergenceWarning: The max_iter was reached which means the coef_ did not converge\n  warnings.warn(\n/Library/Frameworks/Python.framework/Versions/3.11/lib/python3.11/site-packages/sklearn/linear_model/_sag.py:350: ConvergenceWarning: The max_iter was reached which means the coef_ did not converge\n  warnings.warn(\n/Library/Frameworks/Python.framework/Versions/3.11/lib/python3.11/site-packages/sklearn/linear_model/_sag.py:350: ConvergenceWarning: The max_iter was reached which means the coef_ did not converge\n  warnings.warn(\n/Library/Frameworks/Python.framework/Versions/3.11/lib/python3.11/site-packages/sklearn/linear_model/_sag.py:350: ConvergenceWarning: The max_iter was reached which means the coef_ did not converge\n  warnings.warn(\n/Library/Frameworks/Python.framework/Versions/3.11/lib/python3.11/site-packages/sklearn/linear_model/_sag.py:350: ConvergenceWarning: The max_iter was reached which means the coef_ did not converge\n  warnings.warn(\n/Library/Frameworks/Python.framework/Versions/3.11/lib/python3.11/site-packages/sklearn/linear_model/_sag.py:350: ConvergenceWarning: The max_iter was reached which means the coef_ did not converge\n  warnings.warn(\n/Library/Frameworks/Python.framework/Versions/3.11/lib/python3.11/site-packages/sklearn/linear_model/_sag.py:350: ConvergenceWarning: The max_iter was reached which means the coef_ did not converge\n  warnings.warn(\n/Library/Frameworks/Python.framework/Versions/3.11/lib/python3.11/site-packages/sklearn/linear_model/_sag.py:350: ConvergenceWarning: The max_iter was reached which means the coef_ did not converge\n  warnings.warn(\n/Library/Frameworks/Python.framework/Versions/3.11/lib/python3.11/site-packages/sklearn/linear_model/_sag.py:350: ConvergenceWarning: The max_iter was reached which means the coef_ did not converge\n  warnings.warn(\n/Library/Frameworks/Python.framework/Versions/3.11/lib/python3.11/site-packages/sklearn/linear_model/_sag.py:350: ConvergenceWarning: The max_iter was reached which means the coef_ did not converge\n  warnings.warn(\n/Library/Frameworks/Python.framework/Versions/3.11/lib/python3.11/site-packages/sklearn/linear_model/_sag.py:350: ConvergenceWarning: The max_iter was reached which means the coef_ did not converge\n  warnings.warn(\n/Library/Frameworks/Python.framework/Versions/3.11/lib/python3.11/site-packages/sklearn/linear_model/_sag.py:350: ConvergenceWarning: The max_iter was reached which means the coef_ did not converge\n  warnings.warn(\n/Library/Frameworks/Python.framework/Versions/3.11/lib/python3.11/site-packages/sklearn/linear_model/_sag.py:350: ConvergenceWarning: The max_iter was reached which means the coef_ did not converge\n  warnings.warn(\n/Library/Frameworks/Python.framework/Versions/3.11/lib/python3.11/site-packages/sklearn/linear_model/_sag.py:350: ConvergenceWarning: The max_iter was reached which means the coef_ did not converge\n  warnings.warn(\n/Library/Frameworks/Python.framework/Versions/3.11/lib/python3.11/site-packages/sklearn/linear_model/_sag.py:350: ConvergenceWarning: The max_iter was reached which means the coef_ did not converge\n  warnings.warn(\n/Library/Frameworks/Python.framework/Versions/3.11/lib/python3.11/site-packages/sklearn/linear_model/_sag.py:350: ConvergenceWarning: The max_iter was reached which means the coef_ did not converge\n  warnings.warn(\n/Library/Frameworks/Python.framework/Versions/3.11/lib/python3.11/site-packages/sklearn/linear_model/_sag.py:350: ConvergenceWarning: The max_iter was reached which means the coef_ did not converge\n  warnings.warn(\n/Library/Frameworks/Python.framework/Versions/3.11/lib/python3.11/site-packages/sklearn/linear_model/_sag.py:350: ConvergenceWarning: The max_iter was reached which means the coef_ did not converge\n  warnings.warn(\n/Library/Frameworks/Python.framework/Versions/3.11/lib/python3.11/site-packages/sklearn/linear_model/_sag.py:350: ConvergenceWarning: The max_iter was reached which means the coef_ did not converge\n  warnings.warn(\n/Library/Frameworks/Python.framework/Versions/3.11/lib/python3.11/site-packages/sklearn/linear_model/_sag.py:350: ConvergenceWarning: The max_iter was reached which means the coef_ did not converge\n  warnings.warn(\n/Library/Frameworks/Python.framework/Versions/3.11/lib/python3.11/site-packages/sklearn/linear_model/_sag.py:350: ConvergenceWarning: The max_iter was reached which means the coef_ did not converge\n  warnings.warn(\n/Library/Frameworks/Python.framework/Versions/3.11/lib/python3.11/site-packages/sklearn/linear_model/_sag.py:350: ConvergenceWarning: The max_iter was reached which means the coef_ did not converge\n  warnings.warn(\n/Library/Frameworks/Python.framework/Versions/3.11/lib/python3.11/site-packages/sklearn/linear_model/_sag.py:350: ConvergenceWarning: The max_iter was reached which means the coef_ did not converge\n  warnings.warn(\n/Library/Frameworks/Python.framework/Versions/3.11/lib/python3.11/site-packages/sklearn/linear_model/_sag.py:350: ConvergenceWarning: The max_iter was reached which means the coef_ did not converge\n  warnings.warn(\n/Library/Frameworks/Python.framework/Versions/3.11/lib/python3.11/site-packages/sklearn/linear_model/_sag.py:350: ConvergenceWarning: The max_iter was reached which means the coef_ did not converge\n  warnings.warn(\n/Library/Frameworks/Python.framework/Versions/3.11/lib/python3.11/site-packages/sklearn/linear_model/_sag.py:350: ConvergenceWarning: The max_iter was reached which means the coef_ did not converge\n  warnings.warn(\n/Library/Frameworks/Python.framework/Versions/3.11/lib/python3.11/site-packages/sklearn/linear_model/_sag.py:350: ConvergenceWarning: The max_iter was reached which means the coef_ did not converge\n  warnings.warn(\n/Library/Frameworks/Python.framework/Versions/3.11/lib/python3.11/site-packages/sklearn/linear_model/_sag.py:350: ConvergenceWarning: The max_iter was reached which means the coef_ did not converge\n  warnings.warn(\n/Library/Frameworks/Python.framework/Versions/3.11/lib/python3.11/site-packages/sklearn/linear_model/_sag.py:350: ConvergenceWarning: The max_iter was reached which means the coef_ did not converge\n  warnings.warn(\n/Library/Frameworks/Python.framework/Versions/3.11/lib/python3.11/site-packages/sklearn/linear_model/_sag.py:350: ConvergenceWarning: The max_iter was reached which means the coef_ did not converge\n  warnings.warn(\n/Library/Frameworks/Python.framework/Versions/3.11/lib/python3.11/site-packages/sklearn/linear_model/_sag.py:350: ConvergenceWarning: The max_iter was reached which means the coef_ did not converge\n  warnings.warn(\n/Library/Frameworks/Python.framework/Versions/3.11/lib/python3.11/site-packages/sklearn/linear_model/_sag.py:350: ConvergenceWarning: The max_iter was reached which means the coef_ did not converge\n  warnings.warn(\n/Library/Frameworks/Python.framework/Versions/3.11/lib/python3.11/site-packages/sklearn/linear_model/_sag.py:350: ConvergenceWarning: The max_iter was reached which means the coef_ did not converge\n  warnings.warn(\n/Library/Frameworks/Python.framework/Versions/3.11/lib/python3.11/site-packages/sklearn/linear_model/_sag.py:350: ConvergenceWarning: The max_iter was reached which means the coef_ did not converge\n  warnings.warn(\n/Library/Frameworks/Python.framework/Versions/3.11/lib/python3.11/site-packages/sklearn/linear_model/_sag.py:350: ConvergenceWarning: The max_iter was reached which means the coef_ did not converge\n  warnings.warn(\n/Library/Frameworks/Python.framework/Versions/3.11/lib/python3.11/site-packages/sklearn/linear_model/_sag.py:350: ConvergenceWarning: The max_iter was reached which means the coef_ did not converge\n  warnings.warn(\n/Library/Frameworks/Python.framework/Versions/3.11/lib/python3.11/site-packages/sklearn/linear_model/_sag.py:350: ConvergenceWarning: The max_iter was reached which means the coef_ did not converge\n  warnings.warn(\n/Library/Frameworks/Python.framework/Versions/3.11/lib/python3.11/site-packages/sklearn/linear_model/_sag.py:350: ConvergenceWarning: The max_iter was reached which means the coef_ did not converge\n  warnings.warn(\n/Library/Frameworks/Python.framework/Versions/3.11/lib/python3.11/site-packages/sklearn/linear_model/_sag.py:350: ConvergenceWarning: The max_iter was reached which means the coef_ did not converge\n  warnings.warn(\n/Library/Frameworks/Python.framework/Versions/3.11/lib/python3.11/site-packages/sklearn/linear_model/_sag.py:350: ConvergenceWarning: The max_iter was reached which means the coef_ did not converge\n  warnings.warn(\n/Library/Frameworks/Python.framework/Versions/3.11/lib/python3.11/site-packages/sklearn/model_selection/_validation.py:547: FitFailedWarning: \n60 fits failed out of a total of 180.\nThe score on these train-test partitions for these parameters will be set to nan.\nIf these failures are not expected, you can try to debug them by setting error_score='raise'.\n\nBelow are more details about the failures:\n--------------------------------------------------------------------------------\n60 fits failed with the following error:\nTraceback (most recent call last):\n  File \"/Library/Frameworks/Python.framework/Versions/3.11/lib/python3.11/site-packages/sklearn/model_selection/_validation.py\", line 895, in _fit_and_score\n    estimator.fit(X_train, y_train, **fit_params)\n  File \"/Library/Frameworks/Python.framework/Versions/3.11/lib/python3.11/site-packages/sklearn/base.py\", line 1474, in wrapper\n    return fit_method(estimator, *args, **kwargs)\n           ^^^^^^^^^^^^^^^^^^^^^^^^^^^^^^^^^^^^^^\n  File \"/Library/Frameworks/Python.framework/Versions/3.11/lib/python3.11/site-packages/sklearn/linear_model/_logistic.py\", line 1182, in fit\n    raise ValueError(\"l1_ratio must be specified when penalty is elasticnet.\")\nValueError: l1_ratio must be specified when penalty is elasticnet.\n\n  warnings.warn(some_fits_failed_message, FitFailedWarning)\n/Library/Frameworks/Python.framework/Versions/3.11/lib/python3.11/site-packages/sklearn/model_selection/_search.py:1051: UserWarning: One or more of the test scores are non-finite: [0.59274725 0.59274725        nan 0.59274725 0.59274725        nan\n 0.59274725 0.59274725        nan 0.59274725 0.59274725        nan\n 0.81684982 0.81509158        nan 0.81684982 0.81509158        nan\n 0.81684982 0.81509158        nan 0.81684982 0.81509158        nan\n 0.86344322 0.86080586        nan 0.86322344 0.86080586        nan\n 0.86322344 0.86080586        nan 0.86322344 0.86080586        nan\n 0.8640293  0.86417582        nan 0.86410256 0.86417582        nan\n 0.86446886 0.86417582        nan 0.86424908 0.86417582        nan\n 0.86388278 0.86380952        nan 0.86410256 0.86410256        nan\n 0.86446886 0.86446886        nan 0.86424908 0.86424908        nan]\n  warnings.warn(\n"
        },
        {
          "output_type": "stream",
          "name": "stdout",
          "text": "average_precision_score для найкращої моделі з на відкладеній вибірці: 0.5441414318539347\n"
        },
        {
          "output_type": "stream",
          "name": "stderr",
          "text": "/Library/Frameworks/Python.framework/Versions/3.11/lib/python3.11/site-packages/sklearn/linear_model/_sag.py:350: ConvergenceWarning: The max_iter was reached which means the coef_ did not converge\n  warnings.warn(\n"
        }
      ],
      "execution_count": 75,
      "metadata": {}
    },
    {
      "cell_type": "code",
      "source": [
        "\n",
        "from sklearn.metrics import accuracy_score\n",
        "from sklearn.linear_model import LogisticRegression\n",
        "from sklearn.model_selection import GridSearchCV\n",
        "\n",
        "\n",
        "cv = 3\n",
        "LogisticRegression_mult_class_ohe = GridSearchCV(\n",
        "    estimator= LogisticRegression(),\n",
        "    param_grid= {'penalty': ['l1','l2','elasticnet'] , 'C' : np.logspace(-4,4,5), 'solver' : ['saga'],'max_iter' : [100,1000,2500,3000]},\n",
        "    cv = cv,\n",
        "    n_jobs= -1\n",
        ").fit(X_ohe_mult_class_mean_for_train,y_ohe_mult_class_for_train)\n",
        "\n",
        "\n",
        "LogisticRegression_X_ohe_mult_class = pd.DataFrame(LogisticRegression_mult_class_ohe.cv_results_).drop(columns=['mean_fit_time','std_fit_time','mean_score_time','std_score_time'])\n",
        "\n",
        "LogisticRegression_ohe_mult_class_best_model = LogisticRegression_mult_class_ohe.best_estimator_\n",
        "print(f'average_precision_score для найкращої моделі з на відкладеній вибірці: {average_precision_score(y_ohe_mult_class_for_validation,LogisticRegression_ohe_mult_class_best_model.predict_proba(X_ohe_mult_class_mean_for_validation))}')"
      ],
      "outputs": [
        {
          "output_type": "stream",
          "name": "stderr",
          "text": "/Library/Frameworks/Python.framework/Versions/3.11/lib/python3.11/site-packages/sklearn/linear_model/_sag.py:350: ConvergenceWarning: The max_iter was reached which means the coef_ did not converge\n  warnings.warn(\n/Library/Frameworks/Python.framework/Versions/3.11/lib/python3.11/site-packages/sklearn/linear_model/_sag.py:350: ConvergenceWarning: The max_iter was reached which means the coef_ did not converge\n  warnings.warn(\n/Library/Frameworks/Python.framework/Versions/3.11/lib/python3.11/site-packages/sklearn/linear_model/_sag.py:350: ConvergenceWarning: The max_iter was reached which means the coef_ did not converge\n  warnings.warn(\n/Library/Frameworks/Python.framework/Versions/3.11/lib/python3.11/site-packages/sklearn/linear_model/_sag.py:350: ConvergenceWarning: The max_iter was reached which means the coef_ did not converge\n  warnings.warn(\n/Library/Frameworks/Python.framework/Versions/3.11/lib/python3.11/site-packages/sklearn/linear_model/_sag.py:350: ConvergenceWarning: The max_iter was reached which means the coef_ did not converge\n  warnings.warn(\n/Library/Frameworks/Python.framework/Versions/3.11/lib/python3.11/site-packages/sklearn/linear_model/_sag.py:350: ConvergenceWarning: The max_iter was reached which means the coef_ did not converge\n  warnings.warn(\n/Library/Frameworks/Python.framework/Versions/3.11/lib/python3.11/site-packages/sklearn/linear_model/_sag.py:350: ConvergenceWarning: The max_iter was reached which means the coef_ did not converge\n  warnings.warn(\n/Library/Frameworks/Python.framework/Versions/3.11/lib/python3.11/site-packages/sklearn/linear_model/_sag.py:350: ConvergenceWarning: The max_iter was reached which means the coef_ did not converge\n  warnings.warn(\n/Library/Frameworks/Python.framework/Versions/3.11/lib/python3.11/site-packages/sklearn/linear_model/_sag.py:350: ConvergenceWarning: The max_iter was reached which means the coef_ did not converge\n  warnings.warn(\n/Library/Frameworks/Python.framework/Versions/3.11/lib/python3.11/site-packages/sklearn/linear_model/_sag.py:350: ConvergenceWarning: The max_iter was reached which means the coef_ did not converge\n  warnings.warn(\n/Library/Frameworks/Python.framework/Versions/3.11/lib/python3.11/site-packages/sklearn/linear_model/_sag.py:350: ConvergenceWarning: The max_iter was reached which means the coef_ did not converge\n  warnings.warn(\n/Library/Frameworks/Python.framework/Versions/3.11/lib/python3.11/site-packages/sklearn/linear_model/_sag.py:350: ConvergenceWarning: The max_iter was reached which means the coef_ did not converge\n  warnings.warn(\n/Library/Frameworks/Python.framework/Versions/3.11/lib/python3.11/site-packages/sklearn/linear_model/_sag.py:350: ConvergenceWarning: The max_iter was reached which means the coef_ did not converge\n  warnings.warn(\n/Library/Frameworks/Python.framework/Versions/3.11/lib/python3.11/site-packages/sklearn/linear_model/_sag.py:350: ConvergenceWarning: The max_iter was reached which means the coef_ did not converge\n  warnings.warn(\n/Library/Frameworks/Python.framework/Versions/3.11/lib/python3.11/site-packages/sklearn/linear_model/_sag.py:350: ConvergenceWarning: The max_iter was reached which means the coef_ did not converge\n  warnings.warn(\n/Library/Frameworks/Python.framework/Versions/3.11/lib/python3.11/site-packages/sklearn/linear_model/_sag.py:350: ConvergenceWarning: The max_iter was reached which means the coef_ did not converge\n  warnings.warn(\n/Library/Frameworks/Python.framework/Versions/3.11/lib/python3.11/site-packages/sklearn/linear_model/_sag.py:350: ConvergenceWarning: The max_iter was reached which means the coef_ did not converge\n  warnings.warn(\n/Library/Frameworks/Python.framework/Versions/3.11/lib/python3.11/site-packages/sklearn/linear_model/_sag.py:350: ConvergenceWarning: The max_iter was reached which means the coef_ did not converge\n  warnings.warn(\n/Library/Frameworks/Python.framework/Versions/3.11/lib/python3.11/site-packages/sklearn/model_selection/_validation.py:547: FitFailedWarning: \n60 fits failed out of a total of 180.\nThe score on these train-test partitions for these parameters will be set to nan.\nIf these failures are not expected, you can try to debug them by setting error_score='raise'.\n\nBelow are more details about the failures:\n--------------------------------------------------------------------------------\n60 fits failed with the following error:\nTraceback (most recent call last):\n  File \"/Library/Frameworks/Python.framework/Versions/3.11/lib/python3.11/site-packages/sklearn/model_selection/_validation.py\", line 895, in _fit_and_score\n    estimator.fit(X_train, y_train, **fit_params)\n  File \"/Library/Frameworks/Python.framework/Versions/3.11/lib/python3.11/site-packages/sklearn/base.py\", line 1474, in wrapper\n    return fit_method(estimator, *args, **kwargs)\n           ^^^^^^^^^^^^^^^^^^^^^^^^^^^^^^^^^^^^^^\n  File \"/Library/Frameworks/Python.framework/Versions/3.11/lib/python3.11/site-packages/sklearn/linear_model/_logistic.py\", line 1182, in fit\n    raise ValueError(\"l1_ratio must be specified when penalty is elasticnet.\")\nValueError: l1_ratio must be specified when penalty is elasticnet.\n\n  warnings.warn(some_fits_failed_message, FitFailedWarning)\n/Library/Frameworks/Python.framework/Versions/3.11/lib/python3.11/site-packages/sklearn/model_selection/_search.py:1051: UserWarning: One or more of the test scores are non-finite: [0.59274725 0.59274725        nan 0.59274725 0.59274725        nan\n 0.59274725 0.59274725        nan 0.59274725 0.59274725        nan\n 0.81684982 0.8189011         nan 0.81684982 0.8189011         nan\n 0.81684982 0.8189011         nan 0.81684982 0.8189011         nan\n 0.87018315 0.86622711        nan 0.86981685 0.86622711        nan\n 0.86981685 0.86622711        nan 0.86981685 0.86622711        nan\n 0.86967033 0.86989011        nan 0.87003663 0.86981685        nan\n 0.87010989 0.86981685        nan 0.87010989 0.86996337        nan\n 0.86996337 0.86989011        nan 0.86996337 0.86996337        nan\n 0.86996337 0.86996337        nan 0.86996337 0.86996337        nan]\n  warnings.warn(\n"
        },
        {
          "output_type": "stream",
          "name": "stdout",
          "text": "average_precision_score для найкращої моделі з на відкладеній вибірці: 0.5518209041058022\n"
        },
        {
          "output_type": "stream",
          "name": "stderr",
          "text": "/Library/Frameworks/Python.framework/Versions/3.11/lib/python3.11/site-packages/sklearn/linear_model/_sag.py:350: ConvergenceWarning: The max_iter was reached which means the coef_ did not converge\n  warnings.warn(\n"
        }
      ],
      "execution_count": 76,
      "metadata": {}
    },
    {
      "cell_type": "code",
      "source": [],
      "outputs": [],
      "execution_count": null,
      "metadata": {}
    },
    {
      "cell_type": "markdown",
      "source": [
        "### SVC"
      ],
      "metadata": {}
    },
    {
      "cell_type": "code",
      "source": [
        "from sklearn.svm import SVC\n",
        "\n",
        "from sklearn.metrics import accuracy_score\n",
        "SVC_X_num_mult_class = GridSearchCV(\n",
        "    estimator = SVC(),\n",
        "    param_grid= {'kernel':['linear', 'poly', 'rbf', 'sigmoid'],'gamma':['scale','auto']},\n",
        "    cv=cv,\n",
        "    n_jobs=-1\n",
        ").fit(X_num_mult_class_mean_for_train,y_num_mult_class_for_train)\n",
        "\n",
        "\n",
        "SVC_X_num_mult_class_cv_results = pd.DataFrame(SVC_X_num_mult_class.cv_results_)\n",
        "\n",
        "SVC_X_num_mult_class = SVC_X_num_mult_class.best_estimator_\n",
        "\n",
        "\n",
        "\n",
        "SVC_X_num_mult_class_score = average_precision_score(y_num_mult_class_for_validation,SVC_X_num_mult_class.decision_function(X_num_mult_class_mean_for_validation))\n",
        "\n",
        "\n",
        "SVC_X_num_mult_class_score"
      ],
      "outputs": [
        {
          "output_type": "execute_result",
          "execution_count": 77,
          "data": {
            "text/plain": "0.5025212968548184"
          },
          "metadata": {}
        }
      ],
      "execution_count": 77,
      "metadata": {}
    },
    {
      "cell_type": "code",
      "source": [
        "from sklearn.svm import SVC\n",
        "\n",
        "from sklearn.metrics import accuracy_score\n",
        "SVC_X_ohe_mult_class = GridSearchCV(\n",
        "    estimator = SVC(),\n",
        "    param_grid= {'kernel':['linear', 'poly', 'rbf', 'sigmoid'],'gamma':['scale','auto']},\n",
        "    cv=cv,\n",
        "    n_jobs=-1\n",
        ").fit(X_ohe_mult_class_mean_for_train,y_ohe_mult_class_for_train)\n",
        "\n",
        "\n",
        "SVC_X_ohe_mult_class_cv_results = pd.DataFrame(SVC_X_ohe_mult_class.cv_results_)\n",
        "\n",
        "SVC_X_ohe_mult_class = SVC_X_ohe_mult_class.best_estimator_\n",
        "\n",
        "\n",
        "\n",
        "SVC_X_ohe_mult_class_score = average_precision_score(y_ohe_mult_class_for_validation,SVC_X_ohe_mult_class.decision_function(X_ohe_mult_class_mean_for_validation))\n",
        "\n",
        "\n",
        "SVC_X_ohe_mult_class_score"
      ],
      "outputs": [
        {
          "output_type": "execute_result",
          "execution_count": 78,
          "data": {
            "text/plain": "0.5171455267993237"
          },
          "metadata": {}
        }
      ],
      "execution_count": 78,
      "metadata": {}
    },
    {
      "cell_type": "code",
      "source": [
        "from sklearn.neighbors import KNeighborsClassifier\n",
        "from sklearn.metrics import accuracy_score\n",
        "\n",
        "KNC_X_ohe_mult_class = GridSearchCV(\n",
        "    estimator = KNeighborsClassifier(),\n",
        "    param_grid= {'weights':['uniform', 'distance'],'algorithm':['ball_tree','auto','kd_tree','brute']},\n",
        "    cv=cv,\n",
        "    n_jobs=-1\n",
        ").fit(X_ohe_mult_class_mean_for_train,y_ohe_mult_class_for_train)\n",
        "\n",
        "\n",
        "KNC_X_ohe_mult_class_cv_results = pd.DataFrame(KNC_X_ohe_mult_class.cv_results_)\n",
        "\n",
        "KNC_X_ohe_mult_class = KNC_X_ohe_mult_class.best_estimator_\n",
        "\n",
        "\n",
        "\n",
        "KNC_X_ohe_mult_class_score = average_precision_score(y_ohe_mult_class_for_validation,KNC_X_ohe_mult_class.predict_proba(X_ohe_mult_class_mean_for_validation))\n",
        "\n",
        "\n",
        "KNC_X_ohe_mult_class_score"
      ],
      "outputs": [
        {
          "output_type": "execute_result",
          "execution_count": 79,
          "data": {
            "text/plain": "0.41107368433750197"
          },
          "metadata": {}
        }
      ],
      "execution_count": 79,
      "metadata": {}
    },
    {
      "cell_type": "code",
      "source": [
        "from sklearn.neighbors import KNeighborsClassifier\n",
        "from sklearn.metrics import accuracy_score\n",
        "\n",
        "KNC_X_num_mult_class = GridSearchCV(\n",
        "    estimator = KNeighborsClassifier(),\n",
        "    param_grid= {'weights':['uniform', 'distance'],'algorithm':['ball_tree','auto','kd_tree','brute']},\n",
        "    cv=cv,\n",
        "    n_jobs=-1\n",
        ").fit(X_num_mult_class_mean_for_train,y_num_mult_class_for_train)\n",
        "\n",
        "\n",
        "KNC_X_num_mult_class_cv_results = pd.DataFrame(KNC_X_num_mult_class.cv_results_)\n",
        "\n",
        "KNC_X_num_mult_class = KNC_X_num_mult_class.best_estimator_\n",
        "\n",
        "\n",
        "\n",
        "KNC_X_num_mult_class_score = average_precision_score(y_num_mult_class_for_validation,KNC_X_num_mult_class.predict_proba(X_num_mult_class_mean_for_validation))\n",
        "\n",
        "\n",
        "KNC_X_num_mult_class_score"
      ],
      "outputs": [
        {
          "output_type": "execute_result",
          "execution_count": 80,
          "data": {
            "text/plain": "0.46248692533194846"
          },
          "metadata": {}
        }
      ],
      "execution_count": 80,
      "metadata": {}
    },
    {
      "cell_type": "markdown",
      "source": [
        "### DTC"
      ],
      "metadata": {}
    },
    {
      "cell_type": "code",
      "source": [
        "from sklearn.tree import DecisionTreeClassifier\n",
        "from sklearn.metrics import accuracy_score\n",
        "\n",
        "DTC_X_ohe_mult_class = GridSearchCV(\n",
        "    estimator = DecisionTreeClassifier(),\n",
        "    param_grid= {'splitter':['gini', 'entropy','log_loss'],'splitter':['best','random'],'max_features':['sqrt','log2']},\n",
        "    cv=3,\n",
        "    n_jobs=-1\n",
        ").fit(X_ohe_mult_class_mean_for_train,y_ohe_mult_class_for_train)\n",
        "\n",
        "\n",
        "DTC_X_ohe_mult_class_cv_results = pd.DataFrame(DTC_X_ohe_mult_class.cv_results_)\n",
        "\n",
        "DTC_X_ohe_mult_class = DTC_X_ohe_mult_class.best_estimator_\n",
        "\n",
        "\n",
        "\n",
        "DTC_X_ohe_mult_class_score = average_precision_score(y_ohe_mult_class_for_validation,DTC_X_ohe_mult_class.predict_proba(X_ohe_mult_class_mean_for_validation))\n",
        "DTC_X_ohe_mult_class_score"
      ],
      "outputs": [
        {
          "output_type": "execute_result",
          "execution_count": 81,
          "data": {
            "text/plain": "0.3830058023230295"
          },
          "metadata": {}
        }
      ],
      "execution_count": 81,
      "metadata": {}
    },
    {
      "cell_type": "code",
      "source": [
        "from sklearn.tree import DecisionTreeClassifier\n",
        "from sklearn.metrics import accuracy_score\n",
        "\n",
        "DTC_X_num_mult_class = GridSearchCV(\n",
        "    estimator = DecisionTreeClassifier(),\n",
        "    param_grid= {'splitter':['gini', 'entropy','log_loss'],'splitter':['best','random'],'max_features':['sqrt','log2']},\n",
        "    cv=3,\n",
        "    n_jobs=-1\n",
        ").fit(X_num_mult_class_mean_for_train,y_num_mult_class_for_train)\n",
        "\n",
        "\n",
        "DTC_X_num_mult_class_cv_results = pd.DataFrame(DTC_X_num_mult_class.cv_results_)\n",
        "\n",
        "DTC_X_num_mult_class = DTC_X_num_mult_class.best_estimator_\n",
        "\n",
        "\n",
        "\n",
        "DTC_X_num_mult_class_score = average_precision_score(y_num_mult_class_for_validation,DTC_X_num_mult_class.predict_proba(X_num_mult_class_mean_for_validation))\n",
        "DTC_X_num_mult_class_score"
      ],
      "outputs": [
        {
          "output_type": "execute_result",
          "execution_count": 82,
          "data": {
            "text/plain": "0.3914037799850637"
          },
          "metadata": {}
        }
      ],
      "execution_count": 82,
      "metadata": {}
    },
    {
      "cell_type": "markdown",
      "source": [
        "### RFC"
      ],
      "metadata": {}
    },
    {
      "cell_type": "code",
      "source": [
        "from sklearn.ensemble import RandomForestClassifier\n",
        "from sklearn.metrics import accuracy_score\n",
        "\n",
        "RFC_X_num_mult_class = GridSearchCV(\n",
        "    estimator = RandomForestClassifier(),\n",
        "    param_grid= {'criterion':['gini', 'entropy','log_loss'],'max_features':['sqrt','log2']},\n",
        "    cv=3,\n",
        "    n_jobs=-1\n",
        ").fit(X_num_mult_class_mean_for_train,y_num_mult_class_for_train)\n",
        "\n",
        "\n",
        "RFC_X_num_mult_class_cv_results = pd.DataFrame(RFC_X_num_mult_class.cv_results_)\n",
        "\n",
        "RFC_X_num_mult_class = RFC_X_num_mult_class.best_estimator_\n",
        "\n",
        "\n",
        "\n",
        "RFC_X_num_mult_class_score = average_precision_score(y_num_mult_class_for_validation,RFC_X_num_mult_class.predict_proba(X_num_mult_class_mean_for_validation))\n",
        "RFC_X_num_mult_class_score"
      ],
      "outputs": [
        {
          "output_type": "execute_result",
          "execution_count": 83,
          "data": {
            "text/plain": "0.5266887914561587"
          },
          "metadata": {}
        }
      ],
      "execution_count": 83,
      "metadata": {}
    },
    {
      "cell_type": "code",
      "source": [
        "from sklearn.ensemble import RandomForestClassifier\n",
        "from sklearn.metrics import accuracy_score\n",
        "\n",
        "RFC_X_ohe_mult_class = GridSearchCV(\n",
        "    estimator = RandomForestClassifier(),\n",
        "    param_grid= {'criterion':['gini', 'entropy','log_loss'],'max_features':['sqrt','log2']},\n",
        "    cv=3,\n",
        "    n_jobs=-1\n",
        ").fit(X_ohe_mult_class_mean_for_train,y_ohe_mult_class_for_train)\n",
        "\n",
        "\n",
        "RFC_X_ohe_mult_class_cv_results = pd.DataFrame(RFC_X_ohe_mult_class.cv_results_)\n",
        "\n",
        "RFC_X_ohe_mult_class = RFC_X_ohe_mult_class.best_estimator_\n",
        "\n",
        "\n",
        "\n",
        "RFC_X_ohe_mult_class_score = average_precision_score(y_ohe_mult_class_for_validation,RFC_X_ohe_mult_class.predict_proba(X_ohe_mult_class_mean_for_validation))\n",
        "RFC_X_ohe_mult_class_score"
      ],
      "outputs": [
        {
          "output_type": "execute_result",
          "execution_count": 84,
          "data": {
            "text/plain": "0.5310470286569527"
          },
          "metadata": {}
        }
      ],
      "execution_count": 84,
      "metadata": {}
    },
    {
      "cell_type": "code",
      "source": [
        "Models_task_4 = pd.DataFrame(data = {'Model_Name': ['LogisticRegression_X_num_mult_class','LogisticRegression_X_ohe_mult_class','SVC_X_ohe_mult_class','SVC_X_num_mult_class','KNC_X_ohe_mult_class','KNC_X_num_mult_class','DTC_X_ohe_mult_class','DTC_X_num_mult_class','RFC_X_ohe_mult_class','RFC_X_num_mult_class'],'Model':[LogisticRegression_num_mult_class_best_model,LogisticRegression_ohe_mult_class_best_model,SVC_X_ohe_mult_class,SVC_X_num_mult_class,KNC_X_ohe_mult_class,KNC_X_num_mult_class,DTC_X_ohe_mult_class,DTC_X_num_mult_class,RFC_X_ohe_mult_class,RFC_X_num_mult_class],'average_precision_score':[average_precision_score(y_num_mult_class_for_validation,LogisticRegression_num_mult_class_best_model.predict_proba(X_num_mult_class_mean_for_validation)),average_precision_score(y_ohe_mult_class_for_validation,LogisticRegression_ohe_mult_class_best_model.predict_proba(X_ohe_mult_class_mean_for_validation)),SVC_X_ohe_mult_class_score,SVC_X_num_mult_class_score,KNC_X_ohe_mult_class_score,KNC_X_num_mult_class_score,DTC_X_ohe_mult_class_score,DTC_X_num_mult_class_score,RFC_X_ohe_mult_class_score,RFC_X_num_mult_class_score]})\n",
        "Models_task_4"
      ],
      "outputs": [
        {
          "output_type": "execute_result",
          "execution_count": 85,
          "data": {
            "text/html": "<div>\n<style scoped>\n    .dataframe tbody tr th:only-of-type {\n        vertical-align: middle;\n    }\n\n    .dataframe tbody tr th {\n        vertical-align: top;\n    }\n\n    .dataframe thead th {\n        text-align: right;\n    }\n</style>\n<table border=\"1\" class=\"dataframe\">\n  <thead>\n    <tr style=\"text-align: right;\">\n      <th></th>\n      <th>Model_Name</th>\n      <th>Model</th>\n      <th>average_precision_score</th>\n    </tr>\n  </thead>\n  <tbody>\n    <tr>\n      <th>0</th>\n      <td>LogisticRegression_X_num_mult_class</td>\n      <td>LogisticRegression(C=100.0, max_iter=2500, pen...</td>\n      <td>0.544141</td>\n    </tr>\n    <tr>\n      <th>1</th>\n      <td>LogisticRegression_X_ohe_mult_class</td>\n      <td>LogisticRegression(penalty='l1', solver='saga')</td>\n      <td>0.551821</td>\n    </tr>\n    <tr>\n      <th>2</th>\n      <td>SVC_X_ohe_mult_class</td>\n      <td>SVC(kernel='linear')</td>\n      <td>0.517146</td>\n    </tr>\n    <tr>\n      <th>3</th>\n      <td>SVC_X_num_mult_class</td>\n      <td>SVC(kernel='linear')</td>\n      <td>0.502521</td>\n    </tr>\n    <tr>\n      <th>4</th>\n      <td>KNC_X_ohe_mult_class</td>\n      <td>KNeighborsClassifier(algorithm='ball_tree')</td>\n      <td>0.411074</td>\n    </tr>\n    <tr>\n      <th>5</th>\n      <td>KNC_X_num_mult_class</td>\n      <td>KNeighborsClassifier(algorithm='ball_tree', we...</td>\n      <td>0.462487</td>\n    </tr>\n    <tr>\n      <th>6</th>\n      <td>DTC_X_ohe_mult_class</td>\n      <td>DecisionTreeClassifier(max_features='sqrt')</td>\n      <td>0.383006</td>\n    </tr>\n    <tr>\n      <th>7</th>\n      <td>DTC_X_num_mult_class</td>\n      <td>DecisionTreeClassifier(max_features='sqrt')</td>\n      <td>0.391404</td>\n    </tr>\n    <tr>\n      <th>8</th>\n      <td>RFC_X_ohe_mult_class</td>\n      <td>(DecisionTreeClassifier(max_features='sqrt', r...</td>\n      <td>0.531047</td>\n    </tr>\n    <tr>\n      <th>9</th>\n      <td>RFC_X_num_mult_class</td>\n      <td>(DecisionTreeClassifier(max_features='sqrt', r...</td>\n      <td>0.526689</td>\n    </tr>\n  </tbody>\n</table>\n</div>",
            "text/plain": "                            Model_Name  \\\n0  LogisticRegression_X_num_mult_class   \n1  LogisticRegression_X_ohe_mult_class   \n2                 SVC_X_ohe_mult_class   \n3                 SVC_X_num_mult_class   \n4                 KNC_X_ohe_mult_class   \n5                 KNC_X_num_mult_class   \n6                 DTC_X_ohe_mult_class   \n7                 DTC_X_num_mult_class   \n8                 RFC_X_ohe_mult_class   \n9                 RFC_X_num_mult_class   \n\n                                               Model  average_precision_score  \n0  LogisticRegression(C=100.0, max_iter=2500, pen...                 0.544141  \n1    LogisticRegression(penalty='l1', solver='saga')                 0.551821  \n2                               SVC(kernel='linear')                 0.517146  \n3                               SVC(kernel='linear')                 0.502521  \n4        KNeighborsClassifier(algorithm='ball_tree')                 0.411074  \n5  KNeighborsClassifier(algorithm='ball_tree', we...                 0.462487  \n6        DecisionTreeClassifier(max_features='sqrt')                 0.383006  \n7        DecisionTreeClassifier(max_features='sqrt')                 0.391404  \n8  (DecisionTreeClassifier(max_features='sqrt', r...                 0.531047  \n9  (DecisionTreeClassifier(max_features='sqrt', r...                 0.526689  "
          },
          "metadata": {}
        }
      ],
      "execution_count": 85,
      "metadata": {}
    },
    {
      "cell_type": "code",
      "source": [
        "best_models_task4_num = [LogisticRegression_num_mult_class_best_model,SVC_X_num_mult_class,KNC_X_num_mult_class,DTC_X_num_mult_class,RFC_X_num_mult_class]\n",
        "optimal_model_task_4 = Models_task_4[Models_task_4['average_precision_score'] == Models_task_4['average_precision_score'].values.max()]['Model'].values[0]"
      ],
      "outputs": [],
      "execution_count": 86,
      "metadata": {}
    },
    {
      "cell_type": "code",
      "source": [
        "test = pd.read_csv('predict.csv')\n",
        "\n",
        "\n",
        "# Функція яка приведе зовнішній датасет до вигляду, який приймає рішаюча модель\n",
        "def transform_test_data(model,test):\n",
        "    \n",
        "    \n",
        "    if (model in best_models_task4_num):\n",
        "        test_X_num_mean_strategy = pd.DataFrame(SimpleImputer(strategy='mean').fit_transform(test[nums_features]))\n",
        "        test = QuantileTransformer().fit_transform(test_X_num_mean_strategy)\n",
        "        prediction =  label_encoder.inverse_transform(model.predict(test))\n",
        "        return prediction\n",
        "    \n",
        "    \n",
        "    else:\n",
        "        from sklearn.compose import make_column_transformer\n",
        "        from sklearn.preprocessing import OneHotEncoder,OrdinalEncoder\n",
        "\n",
        "        text_features_test = [i for i in test.columns if type(test[i][0]) == str]\n",
        "        nums_features_test = [i for i in test.columns if i not in text_features]\n",
        "        columns_ohe_test = make_column_transformer(\n",
        "            ( OneHotEncoder(handle_unknown='ignore',sparse_output=False) ,text_features_test),\n",
        "            remainder = 'passthrough'\n",
        "        ).set_output(transform='pandas')\n",
        "        test = columns_ohe_test.fit_transform(test)\n",
        "        test = pd.DataFrame(SimpleImputer(strategy='mean').fit_transform(test))\n",
        "        test = QuantileTransformer().fit_transform(test)\n",
        "        prediction = label_encoder.inverse_transform(model.predict(test))\n",
        "        return prediction\n",
        "\n",
        "\n",
        "\n",
        "best_reg_model_predictions =  transform_test_data(optimal_model_task_4,test)\n",
        "\n",
        "\n",
        "\n",
        "pd.Series(best_reg_model_predictions).to_csv('predictions_clf.csv')\n"
      ],
      "outputs": [],
      "execution_count": 87,
      "metadata": {}
    },
    {
      "cell_type": "code",
      "source": [
        "best_reg_model_predictions =  transform_test_data(optimal_model_task_4,test)"
      ],
      "outputs": [],
      "execution_count": 88,
      "metadata": {}
    },
    {
      "cell_type": "markdown",
      "source": [
        "### Висновок задача 5-класова красифікації\n",
        " Модель(з відповідними парамптрами) збережена у змінну optimal_model_task_4 модель , має найкращий average_precision_score на відкладеній вибірці, а одже і є найкращою моделлю для вирішення пятикласової красифікації."
      ],
      "metadata": {}
    }
  ],
  "metadata": {
    "kernelspec": {
      "display_name": "Python 3",
      "language": "python",
      "name": "python3"
    },
    "language_info": {
      "codemirror_mode": {
        "name": "ipython",
        "version": 3
      },
      "file_extension": ".py",
      "mimetype": "text/x-python",
      "name": "python",
      "nbconvert_exporter": "python",
      "pygments_lexer": "ipython3",
      "version": "3.11.0"
    },
    "nteract": {
      "version": "nteract-front-end@1.0.0"
    }
  },
  "nbformat": 4,
  "nbformat_minor": 2
}